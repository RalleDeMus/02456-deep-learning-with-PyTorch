{
 "cells": [
  {
   "cell_type": "markdown",
   "metadata": {
    "id": "HAva8TnYFtFu"
   },
   "source": [
    "# Contents and why we need this lab\n",
    "\n",
    "This lab is about implementing neural networks yourself before we start using other frameworks that hide some of the computation from you. It builds on the first lab, where you derived the equations for neural network forward and backward propagation and gradient descent parameter updates. \n",
    "\n",
    "All the frameworks for deep learning you will meet from now on use automatic differentiation (autodiff), so you do not have to code the backward step yourself. In this version of this lab, you will develop your own autodif implementation. We also have an optional [version](https://github.com/DeepLearningDTU/02456-deep-learning-with-PyTorch/blob/master/2_Feedforward_Python/2.2-FNN-NumPy.ipynb) of this lab where you have to code the backward pass explicitly in Numpy."
   ]
  },
  {
   "cell_type": "markdown",
   "metadata": {
    "id": "sCa7HzwpFtFy"
   },
   "source": [
    "# External sources of information\n",
    "\n",
    "1. Jupyter notebook. You can find more information about Jupyter notebooks [here](https://jupyter.org/). It will come as part of the [Anaconda](https://www.anaconda.com/) Python installation. \n",
    "2. [NumPy](https://numpy.org/). Part of Anaconda distribution.  If you already know how to program, most things about Python and NumPy can be found with Google searches.\n",
    "3. [Nanograd](https://github.com/rasmusbergpalm/nanograd) is a minimalistic version of autodiff developed by Rasmus Berg Palm that we use for our framework.\n"
   ]
  },
  {
   "cell_type": "markdown",
   "metadata": {
    "id": "1SjiIp-TFtF0"
   },
   "source": [
    "# This notebook will follow the next steps:\n",
    "\n",
    "1. Nanograd automatic differentiation framework\n",
    "2. Finite difference method\n",
    "3. Data generation\n",
    "4. Defining and initializing the network\n",
    "5. Forward pass\n",
    "6. Training loop \n",
    "7. Testing your model\n",
    "8. Further extensions"
   ]
  },
  {
   "cell_type": "markdown",
   "metadata": {
    "id": "OyXeAA-HuT7s"
   },
   "source": [
    "# Nanograd automatic differention framework"
   ]
  },
  {
   "cell_type": "markdown",
   "metadata": {
    "id": "k6UWKCLKubgA"
   },
   "source": [
    "The [Nanograd](https://github.com/rasmusbergpalm/nanograd) framework defines a class Var which both holds a value and gradient value that we can use to store the intermediate values when we apply the chain rule of differentiation."
   ]
  },
  {
   "cell_type": "code",
   "execution_count": 363,
   "metadata": {
    "id": "Jd4CoEBNzNWS"
   },
   "outputs": [],
   "source": [
    "# Copy and pasted from https://github.com/rasmusbergpalm/nanograd/blob/3a1bf9e9e724da813bfccf91a6f309abdade9f39/nanograd.py\n",
    "\n",
    "from math import exp, log\n",
    "import numpy as np\n",
    "\n",
    "class Var:\n",
    "    \"\"\"\n",
    "    A variable which holds a float and enables gradient computations.\n",
    "    \"\"\"\n",
    "\n",
    "    def __init__(self, val: float, grad_fn=lambda: []):\n",
    "        assert type(val) == float\n",
    "        self.v = val\n",
    "        self.grad_fn = grad_fn\n",
    "        self.grad = 0.0\n",
    "\n",
    "    def backprop(self, bp):\n",
    "        self.grad += bp\n",
    "        for input, grad in self.grad_fn():\n",
    "            input.backprop(grad * bp)\n",
    "\n",
    "    def backward(self):\n",
    "        self.backprop(1.0)\n",
    "\n",
    "    def __add__(self: 'Var', other: 'Var') -> 'Var':\n",
    "        return Var(self.v + other.v, lambda: [(self, 1.0), (other, 1.0)])\n",
    "\n",
    "    def __mul__(self: 'Var', other: 'Var') -> 'Var':\n",
    "        return Var(self.v * other.v, lambda: [(self, other.v), (other, self.v)])\n",
    "\n",
    "    def __pow__(self, power):\n",
    "        assert type(power) in {float, int}, \"power must be float or int\"\n",
    "        return Var(self.v ** power, lambda: [(self, power * self.v ** (power - 1))])\n",
    "\n",
    "    def __neg__(self: 'Var') -> 'Var':\n",
    "        return Var(-1.0) * self\n",
    "\n",
    "    def __sub__(self: 'Var', other: 'Var') -> 'Var':\n",
    "        return self + (-other)\n",
    "\n",
    "    def __truediv__(self: 'Var', other: 'Var') -> 'Var':\n",
    "        return self * other ** -1\n",
    "\n",
    "    def __repr__(self):\n",
    "        return \"Var(v=%.4f, grad=%.4f)\" % (self.v, self.grad)\n",
    "\n",
    "    def relu(self):\n",
    "        return Var(self.v if self.v > 0.0 else 0.0, lambda: [(self, 1.0 if self.v > 0.0 else 0.0)])\n",
    "    \n",
    "    def identity(self):\n",
    "        return Var(self.v, lambda: [(self, 1.0)])\n",
    "\n",
    "    def tanh(self):\n",
    "        tanh_val = np.tanh(self.v)\n",
    "        return Var(tanh_val, lambda: [(self, 1 - tanh_val ** 2)]) \n",
    "\n",
    "    def sigmoid(self):\n",
    "        sigmoid_val = 1 / (1 + np.exp(-self.v))\n",
    "        return Var(sigmoid_val, lambda: [(self, sigmoid_val * (1 - sigmoid_val))]) \n",
    "    \n",
    "    def exp(self):\n",
    "        return Var(exp(self.v), lambda: [(self, exp(self.v))])\n",
    "\n",
    "    def log(self):\n",
    "        return Var(log(self.v), lambda: [(self, self.v ** -1)])"
   ]
  },
  {
   "cell_type": "markdown",
   "metadata": {
    "id": "yDX67D6jzcte"
   },
   "source": [
    "A few examples illustrate how we can use this:"
   ]
  },
  {
   "cell_type": "code",
   "execution_count": 336,
   "metadata": {
    "colab": {
     "base_uri": "https://localhost:8080/"
    },
    "id": "xk6PeLc3zwPT",
    "outputId": "47e431b2-07ba-4cb1-ea21-997769641c67"
   },
   "outputs": [
    {
     "name": "stdout",
     "output_type": "stream",
     "text": [
      "Var(v=3.0000, grad=5.0000)\n",
      "Var(v=5.0000, grad=3.0000)\n",
      "Var(v=15.0000, grad=1.0000)\n"
     ]
    }
   ],
   "source": [
    "a = Var(3.0)\n",
    "b = Var(5.0)\n",
    "f = a * b\n",
    "\n",
    "f.backward()\n",
    "\n",
    "for v in [a, b, f]:\n",
    "    print(v)\n",
    "    "
   ]
  },
  {
   "cell_type": "code",
   "execution_count": 337,
   "metadata": {
    "colab": {
     "base_uri": "https://localhost:8080/"
    },
    "id": "JmKhYgsY0g_o",
    "outputId": "06c1b1df-c33c-40d3-922a-624612a591c7"
   },
   "outputs": [
    {
     "name": "stdout",
     "output_type": "stream",
     "text": [
      "Var(v=3.0000, grad=14.0000)\n",
      "Var(v=5.0000, grad=3.0000)\n",
      "Var(v=15.0000, grad=1.0000)\n",
      "Var(v=9.0000, grad=3.0000)\n",
      "Var(v=27.0000, grad=1.0000)\n",
      "Var(v=42.0000, grad=1.0000)\n"
     ]
    }
   ],
   "source": [
    "a = Var(3.0)\n",
    "b = Var(5.0)\n",
    "c = a * b\n",
    "d = Var(9.0)\n",
    "e = a * d\n",
    "f = c + e\n",
    "\n",
    "f.backward()\n",
    "\n",
    "for v in [a, b, c, d, e, f]:\n",
    "    print(v)"
   ]
  },
  {
   "cell_type": "markdown",
   "metadata": {
    "id": "Fe3B6uEH140p"
   },
   "source": [
    "## Exercise a) What is being calculated?\n",
    "\n",
    "Explain briefly the output of the code? What is the expression we differentiate and with respect to what variables?"
   ]
  },
  {
   "cell_type": "markdown",
   "metadata": {},
   "source": [
    "### Solution\n",
    "\n",
    "Variables `a` and `b` are created with values 3.0 and 5.0, respectively.\n",
    "A new variable `f` is created by multiplying `a` and `b`: $f = a * b$. This means $f = 3.0 * 5.0 = 15.0$.\n",
    "The `f.backward()` call initiates backpropagation, which computes the gradients of `f` with respect to `a` and `b`.\n",
    "\n",
    "For $f = a * b$:\n",
    "The partial derivative of $f$ with respect to $a$ is $\\frac{\\partial f}{\\partial a} = b = 5.0$.\n",
    "The partial derivative of $f$ with respect to $b$ is $\\frac{\\partial f}{\\partial b} = a = 3.0$.\n",
    "\n",
    "After `f.backward()`, the gradients are propagated:\n",
    "For `a`, the gradient is $5.0$.\n",
    "For `b`, the gradient is $3.0$.\n",
    "`f` itself is not differentiated with respect to anything else, so its gradient remains as initialized (1.0 due to the `backward()` call).\n",
    "\n",
    "\n"
   ]
  },
  {
   "cell_type": "markdown",
   "metadata": {},
   "source": [
    "### Second Output\n",
    "\n",
    "\n",
    "Variables `a` and `b` are created with values 3.0 and 5.0, respectively.\n",
    "Variable `c` is created by multiplying `a` and `b`: $c = a * b = 3.0 * 5.0 = 15.0$.\n",
    "Variable `d` is created with a value of 9.0.\n",
    "Variable `e` is created by multiplying `a` and `d`: $e = a * d = 3.0 * 9.0 = 27.0$.\n",
    "Variable `f` is created by adding `c` and `e`: $f = c + e = 15.0 + 27.0 = 42.0$.\n",
    "The `f.backward()` call initiates backpropagation, which computes the gradients of `f` with respect to all involved variables (`a`, `b`, `c`, `d`, and `e`).\n",
    "\n",
    "The overall expression being differentiated is $f = (a * b) + (a * d)$.\n",
    "Gradients are calculated with respect to variables `a`, `b`, and `d`.\n",
    "\n",
    "For $f = (a * b) + (a * d)$:\n",
    "The partial derivative of $f$ with respect to $a$ is:\n",
    "From $c = a * b$, $\\frac{\\partial c}{\\partial a} = b = 5.0$.\n",
    "From $e = a * d$, $\\frac{\\partial e}{\\partial a} = d = 9.0$.\n",
    "Therefore, $\\frac{\\partial f}{\\partial a} = 5.0 + 9.0 = 14.0$.\n",
    "The partial derivative of $f$ with respect to $b$ is:\n",
    "From $c = a * b$, $\\frac{\\partial c}{\\partial b} = a = 3.0$.\n",
    "The partial derivative of $f$ with respect to $d$ is:\n",
    "From $e = a * d$, $\\frac{\\partial e}{\\partial d} = a = 3.0$.\n",
    "\n",
    "After `f.backward()`, the gradients are propagated:\n",
    "For `a`, the gradient is $14.0$ (combined from both terms involving `a`).\n",
    "For `b`, the gradient is $3.0$ (from the first multiplication).\n",
    "For `d`, the gradient is $3.0$ (from the second multiplication).\n",
    "`c` and `e` have gradients of $1.0$ as they directly contribute to `f`.\n",
    "`f` itself has a gradient of $1.0$ since it's the starting point of the backpropagation.\n",
    "\n"
   ]
  },
  {
   "cell_type": "markdown",
   "metadata": {
    "id": "q8_Q0t2I3Ruj"
   },
   "source": [
    "## Exercise b) How does the backward function work?\n",
    "\n",
    "You need to understand how the backward function calculates the gradients. We can use the two examples above to help with that.\n",
    "\n",
    "Go through the following four steps and answer the questions on the way:\n",
    "\n",
    "1. We represent the two expressions as graphs as shown below. Fill in the missing expressions for the different derivatives.\n",
    "\n",
    "2. In the remainder consider the first expression. Make a schematic of the data structure which is generated when we define the expression for f. \n",
    "\n",
    "3. Then execute the backward function by hand to convince yourself that it indeed calculates the gradients with respect to the variables. \n",
    "\n",
    "4. Write down the sequence of calls to backprop."
   ]
  },
  {
   "cell_type": "code",
   "execution_count": 338,
   "metadata": {
    "id": "idGr71jYXl26"
   },
   "outputs": [],
   "source": [
    "#import logging\n",
    "import graphviz \n",
    "\n",
    "#logging.basicConfig(format='[%(levelname)s@%(name)s] %(message)s', level=logging.DEBUG)\n",
    "\n",
    "#graphviz.__version__, graphviz.version()"
   ]
  },
  {
   "cell_type": "code",
   "execution_count": 339,
   "metadata": {
    "colab": {
     "base_uri": "https://localhost:8080/",
     "height": 152
    },
    "id": "KPe30Q2QXzeG",
    "outputId": "7fa002cd-a018-4dbb-ddf1-28ed5e99ee19"
   },
   "outputs": [
    {
     "data": {
      "image/svg+xml": [
       "<?xml version=\"1.0\" encoding=\"UTF-8\" standalone=\"no\"?>\n",
       "<!DOCTYPE svg PUBLIC \"-//W3C//DTD SVG 1.1//EN\"\n",
       " \"http://www.w3.org/Graphics/SVG/1.1/DTD/svg11.dtd\">\n",
       "<!-- Generated by graphviz version 2.50.0 (0)\n",
       " -->\n",
       "<!-- Title: first expression Pages: 1 -->\n",
       "<svg width=\"160pt\" height=\"98pt\"\n",
       " viewBox=\"0.00 0.00 160.00 98.00\" xmlns=\"http://www.w3.org/2000/svg\" xmlns:xlink=\"http://www.w3.org/1999/xlink\">\n",
       "<g id=\"graph0\" class=\"graph\" transform=\"scale(1 1) rotate(0) translate(4 94)\">\n",
       "<title>first expression</title>\n",
       "<polygon fill=\"white\" stroke=\"transparent\" points=\"-4,4 -4,-94 156,-94 156,4 -4,4\"/>\n",
       "<!-- a -->\n",
       "<g id=\"node1\" class=\"node\">\n",
       "<title>a</title>\n",
       "<ellipse fill=\"none\" stroke=\"black\" cx=\"18\" cy=\"-72\" rx=\"18\" ry=\"18\"/>\n",
       "<text text-anchor=\"middle\" x=\"18\" y=\"-68.3\" font-family=\"Times New Roman,serif\" font-size=\"14.00\">a</text>\n",
       "</g>\n",
       "<!-- f -->\n",
       "<g id=\"node2\" class=\"node\">\n",
       "<title>f</title>\n",
       "<ellipse fill=\"none\" stroke=\"black\" cx=\"134\" cy=\"-45\" rx=\"18\" ry=\"18\"/>\n",
       "<text text-anchor=\"middle\" x=\"134\" y=\"-41.3\" font-family=\"Times New Roman,serif\" font-size=\"14.00\">f</text>\n",
       "</g>\n",
       "<!-- a&#45;&gt;f -->\n",
       "<g id=\"edge1\" class=\"edge\">\n",
       "<title>a&#45;&gt;f</title>\n",
       "<path fill=\"none\" stroke=\"black\" d=\"M35.82,-68.02C54.34,-63.63 84.38,-56.51 106.17,-51.36\"/>\n",
       "<polygon fill=\"black\" stroke=\"black\" points=\"107.19,-54.71 116.11,-49 105.57,-47.9 107.19,-54.71\"/>\n",
       "<text text-anchor=\"middle\" x=\"76\" y=\"-66.8\" font-family=\"Times New Roman,serif\" font-size=\"14.00\">df/da=5</text>\n",
       "</g>\n",
       "<!-- b -->\n",
       "<g id=\"node3\" class=\"node\">\n",
       "<title>b</title>\n",
       "<ellipse fill=\"none\" stroke=\"black\" cx=\"18\" cy=\"-18\" rx=\"18\" ry=\"18\"/>\n",
       "<text text-anchor=\"middle\" x=\"18\" y=\"-14.3\" font-family=\"Times New Roman,serif\" font-size=\"14.00\">b</text>\n",
       "</g>\n",
       "<!-- b&#45;&gt;f -->\n",
       "<g id=\"edge2\" class=\"edge\">\n",
       "<title>b&#45;&gt;f</title>\n",
       "<path fill=\"none\" stroke=\"black\" d=\"M36.07,-20.92C52.15,-23.8 76.86,-28.55 98,-34 100.89,-34.74 103.9,-35.59 106.88,-36.46\"/>\n",
       "<polygon fill=\"black\" stroke=\"black\" points=\"106.13,-39.9 116.72,-39.49 108.19,-33.21 106.13,-39.9\"/>\n",
       "<text text-anchor=\"middle\" x=\"76\" y=\"-37.8\" font-family=\"Times New Roman,serif\" font-size=\"14.00\">df/db=3</text>\n",
       "</g>\n",
       "</g>\n",
       "</svg>\n"
      ],
      "text/plain": [
       "<graphviz.graphs.Digraph at 0x2730a995040>"
      ]
     },
     "execution_count": 339,
     "metadata": {},
     "output_type": "execute_result"
    }
   ],
   "source": [
    "e1 = graphviz.Digraph('first expression', filename='fsm.gv')\n",
    "\n",
    "e1.attr(rankdir='LR', size='8,5')\n",
    "\n",
    "e1.attr('node', shape='circle')\n",
    "e1.edge('a', 'f', label='df/da=5')\n",
    "e1.edge('b', 'f', label='df/db=3')\n",
    "\n",
    "e1"
   ]
  },
  {
   "cell_type": "markdown",
   "metadata": {},
   "source": [
    "$\\frac{\\partial f}{\\partial a}=1*b=5$\n",
    "\n",
    "$\\frac{\\partial f}{\\partial b}=1*a=3$"
   ]
  },
  {
   "cell_type": "code",
   "execution_count": 340,
   "metadata": {
    "colab": {
     "base_uri": "https://localhost:8080/",
     "height": 232
    },
    "id": "0nittR-mZFeX",
    "outputId": "fa3656a3-732c-4abe-8084-98a492b0d6be"
   },
   "outputs": [
    {
     "data": {
      "image/svg+xml": [
       "<?xml version=\"1.0\" encoding=\"UTF-8\" standalone=\"no\"?>\n",
       "<!DOCTYPE svg PUBLIC \"-//W3C//DTD SVG 1.1//EN\"\n",
       " \"http://www.w3.org/Graphics/SVG/1.1/DTD/svg11.dtd\">\n",
       "<!-- Generated by graphviz version 2.50.0 (0)\n",
       " -->\n",
       "<!-- Title: second expression Pages: 1 -->\n",
       "<svg width=\"277pt\" height=\"158pt\"\n",
       " viewBox=\"0.00 0.00 277.00 158.00\" xmlns=\"http://www.w3.org/2000/svg\" xmlns:xlink=\"http://www.w3.org/1999/xlink\">\n",
       "<g id=\"graph0\" class=\"graph\" transform=\"scale(1 1) rotate(0) translate(4 154)\">\n",
       "<title>second expression</title>\n",
       "<polygon fill=\"white\" stroke=\"transparent\" points=\"-4,4 -4,-154 273,-154 273,4 -4,4\"/>\n",
       "<!-- a -->\n",
       "<g id=\"node1\" class=\"node\">\n",
       "<title>a</title>\n",
       "<ellipse fill=\"none\" stroke=\"black\" cx=\"18\" cy=\"-75\" rx=\"18\" ry=\"18\"/>\n",
       "<text text-anchor=\"middle\" x=\"18\" y=\"-71.3\" font-family=\"Times New Roman,serif\" font-size=\"14.00\">a</text>\n",
       "</g>\n",
       "<!-- c -->\n",
       "<g id=\"node2\" class=\"node\">\n",
       "<title>c</title>\n",
       "<ellipse fill=\"none\" stroke=\"black\" cx=\"136\" cy=\"-102\" rx=\"18\" ry=\"18\"/>\n",
       "<text text-anchor=\"middle\" x=\"136\" y=\"-98.3\" font-family=\"Times New Roman,serif\" font-size=\"14.00\">c</text>\n",
       "</g>\n",
       "<!-- a&#45;&gt;c -->\n",
       "<g id=\"edge1\" class=\"edge\">\n",
       "<title>a&#45;&gt;c</title>\n",
       "<path fill=\"none\" stroke=\"black\" d=\"M35.62,-78.87C54.66,-83.3 86.1,-90.62 108.52,-95.84\"/>\n",
       "<polygon fill=\"black\" stroke=\"black\" points=\"107.88,-99.28 118.41,-98.14 109.46,-92.46 107.88,-99.28\"/>\n",
       "<text text-anchor=\"middle\" x=\"77\" y=\"-96.8\" font-family=\"Times New Roman,serif\" font-size=\"14.00\">dc/da=5</text>\n",
       "</g>\n",
       "<!-- e -->\n",
       "<g id=\"node4\" class=\"node\">\n",
       "<title>e</title>\n",
       "<ellipse fill=\"none\" stroke=\"black\" cx=\"136\" cy=\"-48\" rx=\"18\" ry=\"18\"/>\n",
       "<text text-anchor=\"middle\" x=\"136\" y=\"-44.3\" font-family=\"Times New Roman,serif\" font-size=\"14.00\">e</text>\n",
       "</g>\n",
       "<!-- a&#45;&gt;e -->\n",
       "<g id=\"edge3\" class=\"edge\">\n",
       "<title>a&#45;&gt;e</title>\n",
       "<path fill=\"none\" stroke=\"black\" d=\"M35.28,-69.48C41.14,-67.6 47.83,-65.57 54,-64 71.83,-59.45 92.15,-55.44 107.97,-52.57\"/>\n",
       "<polygon fill=\"black\" stroke=\"black\" points=\"108.89,-55.97 118.13,-50.78 107.67,-49.07 108.89,-55.97\"/>\n",
       "<text text-anchor=\"middle\" x=\"77\" y=\"-67.8\" font-family=\"Times New Roman,serif\" font-size=\"14.00\">de/da=9</text>\n",
       "</g>\n",
       "<!-- f -->\n",
       "<g id=\"node6\" class=\"node\">\n",
       "<title>f</title>\n",
       "<ellipse fill=\"none\" stroke=\"black\" cx=\"251\" cy=\"-75\" rx=\"18\" ry=\"18\"/>\n",
       "<text text-anchor=\"middle\" x=\"251\" y=\"-71.3\" font-family=\"Times New Roman,serif\" font-size=\"14.00\">f</text>\n",
       "</g>\n",
       "<!-- c&#45;&gt;f -->\n",
       "<g id=\"edge5\" class=\"edge\">\n",
       "<title>c&#45;&gt;f</title>\n",
       "<path fill=\"none\" stroke=\"black\" d=\"M153.67,-98.02C172.03,-93.63 201.81,-86.51 223.4,-81.36\"/>\n",
       "<polygon fill=\"black\" stroke=\"black\" points=\"224.35,-84.73 233.26,-79 222.72,-77.92 224.35,-84.73\"/>\n",
       "<text text-anchor=\"middle\" x=\"193.5\" y=\"-96.8\" font-family=\"Times New Roman,serif\" font-size=\"14.00\">df/dc=1</text>\n",
       "</g>\n",
       "<!-- b -->\n",
       "<g id=\"node3\" class=\"node\">\n",
       "<title>b</title>\n",
       "<ellipse fill=\"none\" stroke=\"black\" cx=\"18\" cy=\"-132\" rx=\"18\" ry=\"18\"/>\n",
       "<text text-anchor=\"middle\" x=\"18\" y=\"-128.3\" font-family=\"Times New Roman,serif\" font-size=\"14.00\">b</text>\n",
       "</g>\n",
       "<!-- b&#45;&gt;c -->\n",
       "<g id=\"edge2\" class=\"edge\">\n",
       "<title>b&#45;&gt;c</title>\n",
       "<path fill=\"none\" stroke=\"black\" d=\"M35.62,-127.7C54.66,-122.78 86.1,-114.65 108.52,-108.85\"/>\n",
       "<polygon fill=\"black\" stroke=\"black\" points=\"109.61,-112.18 118.41,-106.29 107.85,-105.41 109.61,-112.18\"/>\n",
       "<text text-anchor=\"middle\" x=\"77\" y=\"-125.8\" font-family=\"Times New Roman,serif\" font-size=\"14.00\">dc/db=3</text>\n",
       "</g>\n",
       "<!-- e&#45;&gt;f -->\n",
       "<g id=\"edge6\" class=\"edge\">\n",
       "<title>e&#45;&gt;f</title>\n",
       "<path fill=\"none\" stroke=\"black\" d=\"M153.85,-50.94C169.73,-53.83 194.12,-58.59 215,-64 217.89,-64.75 220.9,-65.59 223.88,-66.47\"/>\n",
       "<polygon fill=\"black\" stroke=\"black\" points=\"223.13,-69.9 233.72,-69.5 225.19,-63.21 223.13,-69.9\"/>\n",
       "<text text-anchor=\"middle\" x=\"193.5\" y=\"-67.8\" font-family=\"Times New Roman,serif\" font-size=\"14.00\">df/de=1</text>\n",
       "</g>\n",
       "<!-- d -->\n",
       "<g id=\"node5\" class=\"node\">\n",
       "<title>d</title>\n",
       "<ellipse fill=\"none\" stroke=\"black\" cx=\"18\" cy=\"-18\" rx=\"18\" ry=\"18\"/>\n",
       "<text text-anchor=\"middle\" x=\"18\" y=\"-14.3\" font-family=\"Times New Roman,serif\" font-size=\"14.00\">d</text>\n",
       "</g>\n",
       "<!-- d&#45;&gt;e -->\n",
       "<g id=\"edge4\" class=\"edge\">\n",
       "<title>d&#45;&gt;e</title>\n",
       "<path fill=\"none\" stroke=\"black\" d=\"M35.93,-20.8C52.45,-23.7 78.19,-28.7 100,-35 103.18,-35.92 106.48,-36.99 109.72,-38.11\"/>\n",
       "<polygon fill=\"black\" stroke=\"black\" points=\"108.54,-41.4 119.14,-41.54 110.94,-34.83 108.54,-41.4\"/>\n",
       "<text text-anchor=\"middle\" x=\"77\" y=\"-38.8\" font-family=\"Times New Roman,serif\" font-size=\"14.00\">de/dd=3</text>\n",
       "</g>\n",
       "</g>\n",
       "</svg>\n"
      ],
      "text/plain": [
       "<graphviz.graphs.Digraph at 0x2730a97f710>"
      ]
     },
     "execution_count": 340,
     "metadata": {},
     "output_type": "execute_result"
    }
   ],
   "source": [
    "e2 = graphviz.Digraph('second expression', filename='fsm.gv')\n",
    "\n",
    "e2.attr(rankdir='LR', size='8,5')\n",
    "\n",
    "e2.attr('node', shape='circle')\n",
    "e2.edge('a', 'c', label='dc/da=5')\n",
    "e2.edge('b', 'c', label='dc/db=3')\n",
    "e2.edge('a', 'e', label='de/da=9')\n",
    "e2.edge('d', 'e', label='de/dd=3')\n",
    "e2.edge('c', 'f', label='df/dc=1')\n",
    "e2.edge('e', 'f', label='df/de=1')\n",
    "\n",
    "e2"
   ]
  },
  {
   "cell_type": "markdown",
   "metadata": {},
   "source": [
    "$\\frac{\\partial f}{\\partial c}=1$\n",
    "\n",
    "$\\frac{\\partial f}{\\partial e}=1$\n",
    "\n",
    "$\\frac{\\partial c}{\\partial b}=1*a=3$\n",
    "\n",
    "$\\frac{\\partial c}{\\partial a}=1*b=5$\n",
    "\n",
    "$\\frac{\\partial e}{\\partial a}=1*d=9$\n",
    "\n",
    "$\\frac{\\partial e}{\\partial d}=1*a=3$"
   ]
  },
  {
   "cell_type": "markdown",
   "metadata": {
    "id": "A5oi21W4gpeM"
   },
   "source": [
    "## Exercise c) What happens if we run backward again?\n",
    "\n",
    "Try to execute the code below. Explain what happens."
   ]
  },
  {
   "cell_type": "code",
   "execution_count": 341,
   "metadata": {
    "colab": {
     "base_uri": "https://localhost:8080/"
    },
    "id": "DCtpJyr-gyX1",
    "outputId": "d014bcfa-c9ae-49c3-d268-91cc6ca94ea5"
   },
   "outputs": [
    {
     "name": "stdout",
     "output_type": "stream",
     "text": [
      "Var(v=3.0000, grad=28.0000)\n",
      "Var(v=5.0000, grad=6.0000)\n",
      "Var(v=15.0000, grad=2.0000)\n",
      "Var(v=9.0000, grad=6.0000)\n",
      "Var(v=27.0000, grad=2.0000)\n",
      "Var(v=42.0000, grad=2.0000)\n"
     ]
    }
   ],
   "source": [
    "f.backward()\n",
    "\n",
    "for v in [a, b, c, d, e, f]:\n",
    "    print(v)\n",
    "    "
   ]
  },
  {
   "cell_type": "markdown",
   "metadata": {},
   "source": [
    "### Solution\n",
    "\n",
    "When `f.backward()` is called again, the gradients accumulate:\n",
    "The second call to `f.backward()` computes the same gradients as the first, but since the gradients are not reset, they are added to the existing gradients. Therefore, each gradient is doubled.\n"
   ]
  },
  {
   "cell_type": "markdown",
   "metadata": {
    "id": "e8bPVq2VhsP-"
   },
   "source": [
    "## Exercise d) Zero gradient\n",
    "\n",
    "We can zero the gradient by backpropagating a -1.0 as is shown in the example below. (If you have run backward multiple time then you also have to run the cell below an equal amount of times.) Explain what is going on."
   ]
  },
  {
   "cell_type": "code",
   "execution_count": 342,
   "metadata": {
    "colab": {
     "base_uri": "https://localhost:8080/"
    },
    "id": "OnyPDQx9lJe0",
    "outputId": "7a125fdc-60c4-4340-a580-8b82aea5b0db"
   },
   "outputs": [
    {
     "name": "stdout",
     "output_type": "stream",
     "text": [
      "Var(v=2.0000, grad=0.0000)\n",
      "Var(v=5.0000, grad=6.0000)\n",
      "Var(v=15.0000, grad=2.0000)\n",
      "Var(v=9.0000, grad=6.0000)\n",
      "Var(v=27.0000, grad=2.0000)\n",
      "Var(v=42.0000, grad=2.0000)\n",
      "Var(v=2.0000, grad=0.0000)\n",
      "Var(v=5.0000, grad=3.0000)\n",
      "Var(v=15.0000, grad=1.0000)\n",
      "Var(v=9.0000, grad=3.0000)\n",
      "Var(v=27.0000, grad=1.0000)\n",
      "Var(v=42.0000, grad=1.0000)\n"
     ]
    }
   ],
   "source": [
    "a = Var(2.0)\n",
    "\n",
    "for v in [a, b, c, d, e, f]:\n",
    "    print(v)\n",
    "\n",
    "f.backprop(-1.0)\n",
    "\n",
    "\n",
    "for v in [a, b, c, d, e, f]:\n",
    "    print(v)"
   ]
  },
  {
   "cell_type": "markdown",
   "metadata": {},
   "source": [
    "### Solution\n",
    "\n",
    "Using the value -1.0 in the backpropagation, it will calculate the gradient and times it with -1.0, which will compute the negative gradient.\n",
    "The negative gradient will then be added to the gradient and therefore it will return to the previous value before we ran the `f.backward()` function."
   ]
  },
  {
   "cell_type": "markdown",
   "metadata": {
    "id": "U4057_ljNvWB"
   },
   "source": [
    "## Exercise e) Test correctness of derivatives with the finite difference method\n",
    "\n",
    "Write a small function that uses [the finite difference method](https://en.wikipedia.org/wiki/Finite_difference_method) to numerically test that backpropation implementation is working. In short we will use\n",
    "$$\n",
    "\\frac{\\partial f(a)}{\\partial a} \\approx \\frac{f(a+da)-f(a)}{da}\n",
    "$$\n",
    "for $da \\ll 1$.\n",
    "\n",
    "As an example, we could approximate the derivative of the function $f(a)=a^2$ in e.g. the value $a=4$ using the finite difference method. This amounts to inserting the relevant values and approximating the gradient $f'(4)$ with the fraction above. \n"
   ]
  },
  {
   "cell_type": "code",
   "execution_count": 343,
   "metadata": {
    "colab": {
     "base_uri": "https://localhost:8080/"
    },
    "id": "9TGil92lSXDN",
    "outputId": "7ef5489b-b525-4132-ab08-0b1109c07f4d"
   },
   "outputs": [
    {
     "name": "stdout",
     "output_type": "stream",
     "text": [
      "Var(v=3.0000, grad=5.0000)\n",
      "Var(v=5.0000, grad=3.0000)\n",
      "Var(v=15.0000, grad=1.0000)\n",
      "8.000000661922968\n"
     ]
    }
   ],
   "source": [
    "# f function - try to change the code to test other types of functions as well (such as different polynomials etc.)\n",
    "def f_function(a):\n",
    "  a = Var(a)\n",
    "  b = Var(5.0)\n",
    "  f = a * b\n",
    "  f.backward()\n",
    "  return a,b,f\n",
    "\n",
    "for v in f_function(3.0):\n",
    "  print(v)\n",
    "\n",
    "# Insert your finite difference code here\n",
    "def finite_difference(da=1e-10):\n",
    "    \"\"\"\n",
    "    This function compute the finite difference between\n",
    "    \n",
    "    Input:\n",
    "    da:          The finite difference                           (float)\n",
    "    \n",
    "    Output:\n",
    "    finite_difference: numerical approximation to the derivative (float) \n",
    "    \"\"\"\n",
    "    a=4\n",
    "\n",
    "    def f(a):\n",
    "       return a*a\n",
    "    \n",
    "    fa_da = f(a+da)         # <- Insert correct expression\n",
    "    fa = f(a)         # <- Insert correct expression\n",
    "\n",
    "    finite_difference = (fa_da - fa) / da\n",
    "    \n",
    "    return finite_difference\n",
    "\n",
    "print(finite_difference())\n",
    "#I believe this is what is asked to be done but not 100% sure"
   ]
  },
  {
   "cell_type": "markdown",
   "metadata": {
    "id": "6pZar5RKaUkg"
   },
   "source": [
    "# Create an artificial dataset to play with\n",
    "\n",
    "We create a non-linear 1d regression task. The generator supports various noise levels and it creates train, validation and test sets. You can modify it yourself if you want more or less challenging tasks."
   ]
  },
  {
   "cell_type": "code",
   "execution_count": 344,
   "metadata": {
    "id": "Y6yfMAQ8aduj"
   },
   "outputs": [],
   "source": [
    "import numpy as np\n",
    "import matplotlib.pyplot as plt\n",
    "\n",
    "np.random.seed(42)"
   ]
  },
  {
   "cell_type": "code",
   "execution_count": 345,
   "metadata": {
    "id": "4YabfD43ajNh"
   },
   "outputs": [],
   "source": [
    "def data_generator(noise=0.1, n_samples=300, D1=True):\n",
    "    # Create covariates and response variable\n",
    "    if D1:\n",
    "        X = np.linspace(-3, 3, num=n_samples).reshape(-1,1) # 1-D\n",
    "        np.random.shuffle(X)\n",
    "        y = np.random.normal((0.5*np.sin(X[:,0]*3) + X[:,0]), noise) # 1-D with trend\n",
    "    else:\n",
    "        X = np.random.multivariate_normal(np.zeros(3), noise*np.eye(3), size = n_samples) # 3-D\n",
    "        np.random.shuffle(X)    \n",
    "        y = np.sin(X[:,0]) - 5*(X[:,1]**2) + 0.5*X[:,2] # 3-D\n",
    "\n",
    "    # Stack them together vertically to split data set\n",
    "    data_set = np.vstack((X.T,y)).T\n",
    "    \n",
    "    train, validation, test = np.split(data_set, [int(0.35*n_samples), int(0.7*n_samples)], axis=0)\n",
    "    \n",
    "    # Standardization of the data, remember we do the standardization with the training set mean and standard deviation\n",
    "    train_mu = np.mean(train, axis=0)\n",
    "    train_sigma = np.std(train, axis=0)\n",
    "    \n",
    "    train = (train-train_mu)/train_sigma\n",
    "    validation = (validation-train_mu)/train_sigma\n",
    "    test = (test-train_mu)/train_sigma\n",
    "    \n",
    "    x_train, x_validation, x_test = train[:,:-1], validation[:,:-1], test[:,:-1]\n",
    "    y_train, y_validation, y_test = train[:,-1], validation[:,-1], test[:,-1]\n",
    "\n",
    "    return x_train, y_train,  x_validation, y_validation, x_test, y_test"
   ]
  },
  {
   "cell_type": "code",
   "execution_count": 346,
   "metadata": {
    "id": "u1oDngHLapIz"
   },
   "outputs": [],
   "source": [
    "D1 = True\n",
    "x_train, y_train,  x_validation, y_validation, x_test, y_test = data_generator(noise=0.5, D1=D1)"
   ]
  },
  {
   "cell_type": "code",
   "execution_count": 347,
   "metadata": {
    "colab": {
     "base_uri": "https://localhost:8080/",
     "height": 265
    },
    "id": "Ysfa3FsBavlm",
    "outputId": "399e5382-ae7d-48f6-9774-7ea4c73e7d95"
   },
   "outputs": [
    {
     "data": {
      "image/png": "[encoded data removed]",
      "text/plain": [
       "<Figure size 640x480 with 1 Axes>"
      ]
     },
     "metadata": {},
     "output_type": "display_data"
    }
   ],
   "source": [
    "if D1:\n",
    "    plt.scatter(x_train[:,0], y_train);\n",
    "    plt.scatter(x_validation[:,0], y_validation);\n",
    "    plt.scatter(x_test[:,0], y_test);\n",
    "else:\n",
    "    plt.scatter(x_train[:,1], y_train);\n",
    "    plt.scatter(x_validation[:,1], y_validation);\n",
    "    plt.scatter(x_test[:,1], y_test);\n",
    "plt.show()"
   ]
  },
  {
   "cell_type": "code",
   "execution_count": 348,
   "metadata": {
    "id": "zac2HHNlgbpm"
   },
   "outputs": [],
   "source": [
    "# convert from nparray to Var\n",
    "def nparray_to_Var(x):\n",
    "  if x.ndim==1:\n",
    "    y = [[Var(float(x[i]))] for i in range(x.shape[0])] # always work with list of list\n",
    "  else:\n",
    "    y = [[Var(float(x[i,j])) for j in range(x.shape[1])] for i in range(x.shape[0])]\n",
    "  return y\n",
    "   \n",
    "x_train = nparray_to_Var(x_train)\n",
    "y_train = nparray_to_Var(y_train)\n",
    "x_validation = nparray_to_Var(x_validation)\n",
    "y_validation = nparray_to_Var(y_validation)\n",
    "x_test = nparray_to_Var(x_test)\n",
    "y_test = nparray_to_Var(y_test)\n"
   ]
  },
  {
   "cell_type": "markdown",
   "metadata": {
    "id": "VbjrqcpVFtGe"
   },
   "source": [
    "# Defining and initializing the network\n",
    "\n",
    "The steps to create a feed forward neural network are the following:\n",
    "\n",
    "1. **Number of hidden layer and hidden units**. We have to define the number of hidden units in each layer. The number of features in X and the output dimensionality (the size of Y) are given but the numbers in between are set by the researcher. Remember that for each unit in each layer beside in the input has a bias term.\n",
    "2. **Activation functions** for each hidden layer. Each hidden layer in your list must have an activation function (it can also be the linear activation which is equivalent to identity function). The power of neural networks comes from non-linear activation functions that learn representations (features) from the data allowing us to learn from it. \n",
    "3. **Parameter initialization**. We will initialize the weights to have random values. This is done in practice by drawing pseudo random numbers from a Gaussian or uniform distribution. It turns out that for deeper models we have to be careful about how we scale the random numbers. This will be the topic of the exercise below. For now we will just use unit variance Gaussians.  \n",
    "\n",
    "In order to make life easier for ourselves we define a DenseLayer class that takes care of initialization and the forward pass. We can also extend it later with print and advanced initialization capabilities. For the latter we have introduced a Initializer class.\n",
    "\n",
    "Note that we use Sequence in the code below. A Sequence is an ordered list. This means the order we insert and access items are the same."
   ]
  },
  {
   "cell_type": "code",
   "execution_count": 349,
   "metadata": {
    "id": "ij_ieRsAt7Xt"
   },
   "outputs": [],
   "source": [
    "class Initializer:\n",
    "\n",
    "  def init_weights(self, n_in, n_out):\n",
    "    raise NotImplementedError\n",
    "\n",
    "  def init_bias(self, n_out):\n",
    "    raise NotImplementedError"
   ]
  },
  {
   "cell_type": "code",
   "execution_count": 350,
   "metadata": {
    "id": "eb18N5phuIha"
   },
   "outputs": [],
   "source": [
    "import random\n",
    "\n",
    "class NormalInitializer(Initializer):\n",
    "\n",
    "  def __init__(self, mean=0, std=0.1):\n",
    "    self.mean = mean\n",
    "    self.std = std\n",
    "\n",
    "  def init_weights(self, n_in, n_out):\n",
    "    return [[Var(random.gauss(self.mean, self.std)) for _ in range(n_out)] for _ in range(n_in)]\n",
    "\n",
    "  def init_bias(self, n_out):\n",
    "    return [Var(0.0) for _ in range(n_out)]\n",
    "\n",
    "class ConstantInitializer(Initializer):\n",
    "\n",
    "  def __init__(self, weight=1.0, bias=0.0):\n",
    "    self.weight = weight\n",
    "    self.bias = bias\n",
    "\n",
    "  def init_weights(self, n_in, n_out):\n",
    "    return [[Var(self.weight) for _ in range(n_out)] for _ in range(n_in)]\n",
    "\n",
    "  def init_bias(self, n_out):\n",
    "    return [Var(self.bias) for _ in range(n_out)]"
   ]
  },
  {
   "cell_type": "code",
   "execution_count": 351,
   "metadata": {
    "id": "jOLYGnZKuM6W"
   },
   "outputs": [],
   "source": [
    "from typing import Sequence\n",
    "\n",
    "class DenseLayer:\n",
    "    def __init__(self, n_in: int, n_out: int, act_fn, initializer = NormalInitializer()):\n",
    "        self.weights = initializer.init_weights(n_in, n_out)\n",
    "        self.bias = initializer.init_bias(n_out)\n",
    "        self.act_fn = act_fn\n",
    "    \n",
    "    def __repr__(self):    \n",
    "        return 'Weights: ' + repr(self.weights) + ' Biases: ' + repr(self.bias)\n",
    "\n",
    "    def parameters(self) -> Sequence[Var]:\n",
    "      params = []\n",
    "      for r in self.weights:\n",
    "        params += r\n",
    "\n",
    "      return params + self.bias\n",
    "\n",
    "    def forward(self, single_input: Sequence[Var]) -> Sequence[Var]:\n",
    "        # self.weights is a matrix with dimension n_in x n_out. We check that the dimensionality of the input \n",
    "        # to the current layer matches the number of nodes in the current layer\n",
    "        assert len(self.weights) == len(single_input), \"weights and single_input must match in first dimension\"\n",
    "        weights = self.weights\n",
    "        out = []\n",
    "        # For some given data point single_input, we now want to calculate the resulting value in each node in the current layer\n",
    "        # We therefore loop over the (number of) nodes in the current layer:\n",
    "        for j in range(len(weights[0])): \n",
    "            # Initialize the node value depending on its corresponding parameters.\n",
    "            node = self.bias[j] # <- Insert code\n",
    "            # We now finish the linear transformation corresponding to the parameters of the currently considered node.\n",
    "            for i in range(len(single_input)):\n",
    "                node += single_input[i]*weights[i][j]  # <- Insert code\n",
    "            node = self.act_fn(node)\n",
    "            out.append(node)\n",
    "\n",
    "        return out\n",
    "     \n",
    "    def print_parameters(self, layer_index: int):\n",
    "        print(f\"Layer {layer_index}:\")\n",
    "        print(\"  Weights:\")\n",
    "        for i, row in enumerate(self.weights):\n",
    "            for j, weight in enumerate(row):\n",
    "                print(f\"    Weight[{i}][{j}] = {weight}\")\n",
    "        print(\"  Biases:\")\n",
    "        for k, bias in enumerate(self.bias):\n",
    "            print(f\"    Bias[{k}] = {bias}\")"
   ]
  },
  {
   "cell_type": "markdown",
   "metadata": {
    "id": "jpIZPBpNI0pO"
   },
   "source": [
    "## Exercise f) Add more activation functions\n",
    "\n",
    "To have a full definition of the neural network, we must define an activation function for every layer. Several activation functions have been proposed and have different characteristics. In the Var class we have already defined the rectified linear init (relu). \n",
    " \n",
    "Implement the following activation functions in the Var class:\n",
    "\n",
    "* Identity: $$\\mathrm{identity}(x) = x$$\n",
    "* Hyperbolic tangent: $$\\tanh(x)$$\n",
    "* Sigmoid (or logistic function): $$\\mathrm{sigmoid}(x) = \\frac{1}{1.0 + \\exp(-x ) }$$  Hint: $\\mathrm{sigmoid}'(x)= \\mathrm{sigmoid}(x)(1-\\mathrm{sigmoid}(x))$.  \n",
    "\n",
    "Hint: You can seek inspiration in the relu method in the Var class."
   ]
  },
  {
   "cell_type": "markdown",
   "metadata": {
    "id": "p_8n_SKnIW2F"
   },
   "source": [
    "## Exercise g) Complete the forward pass\n",
    "\n",
    "In the code below we initialize a 1-5-1 network and pass the training set through it. *The forward method in DenseLayer is **not** complete*. It just outputs zeros right now. The method forward should perform an [affine transformation](https://en.wikipedia.org/wiki/Affine_transformation) on the input followed by an application of the activation function."
   ]
  },
  {
   "cell_type": "code",
   "execution_count": 352,
   "metadata": {
    "colab": {
     "base_uri": "https://localhost:8080/",
     "height": 337
    },
    "id": "xDEjtePxE7Mv",
    "outputId": "753406cd-d8a1-4282-ce03-25ad959b0e11"
   },
   "outputs": [
    {
     "name": "stdout",
     "output_type": "stream",
     "text": [
      "[[Var(v=-0.0002, grad=0.0000)], [Var(v=-0.0003, grad=0.0000)], [Var(v=-0.0000, grad=0.0000)], [Var(v=-0.0124, grad=0.0000)], [Var(v=-0.0002, grad=0.0000)], [Var(v=-0.0002, grad=0.0000)], [Var(v=-0.0001, grad=0.0000)], [Var(v=-0.0030, grad=0.0000)], [Var(v=-0.0128, grad=0.0000)], [Var(v=-0.0001, grad=0.0000)], [Var(v=-0.0003, grad=0.0000)], [Var(v=-0.0079, grad=0.0000)], [Var(v=-0.0002, grad=0.0000)], [Var(v=-0.0090, grad=0.0000)], [Var(v=-0.0001, grad=0.0000)], [Var(v=-0.0002, grad=0.0000)], [Var(v=-0.0004, grad=0.0000)], [Var(v=-0.0002, grad=0.0000)], [Var(v=-0.0000, grad=0.0000)], [Var(v=-0.0001, grad=0.0000)], [Var(v=-0.0059, grad=0.0000)], [Var(v=-0.0026, grad=0.0000)], [Var(v=-0.0003, grad=0.0000)], [Var(v=-0.0003, grad=0.0000)], [Var(v=-0.0035, grad=0.0000)], [Var(v=-0.0093, grad=0.0000)], [Var(v=-0.0004, grad=0.0000)], [Var(v=-0.0004, grad=0.0000)], [Var(v=-0.0000, grad=0.0000)], [Var(v=-0.0003, grad=0.0000)], [Var(v=-0.0117, grad=0.0000)], [Var(v=-0.0001, grad=0.0000)], [Var(v=-0.0101, grad=0.0000)], [Var(v=-0.0110, grad=0.0000)], [Var(v=-0.0002, grad=0.0000)], [Var(v=-0.0020, grad=0.0000)], [Var(v=-0.0126, grad=0.0000)], [Var(v=-0.0048, grad=0.0000)], [Var(v=-0.0089, grad=0.0000)], [Var(v=-0.0064, grad=0.0000)], [Var(v=-0.0045, grad=0.0000)], [Var(v=-0.0061, grad=0.0000)], [Var(v=-0.0004, grad=0.0000)], [Var(v=-0.0076, grad=0.0000)], [Var(v=-0.0060, grad=0.0000)], [Var(v=-0.0073, grad=0.0000)], [Var(v=-0.0002, grad=0.0000)], [Var(v=-0.0002, grad=0.0000)], [Var(v=-0.0028, grad=0.0000)], [Var(v=-0.0002, grad=0.0000)], [Var(v=-0.0001, grad=0.0000)], [Var(v=-0.0000, grad=0.0000)], [Var(v=-0.0003, grad=0.0000)], [Var(v=-0.0062, grad=0.0000)], [Var(v=-0.0004, grad=0.0000)], [Var(v=-0.0004, grad=0.0000)], [Var(v=-0.0041, grad=0.0000)], [Var(v=-0.0046, grad=0.0000)], [Var(v=-0.0001, grad=0.0000)], [Var(v=-0.0109, grad=0.0000)], [Var(v=-0.0002, grad=0.0000)], [Var(v=-0.0077, grad=0.0000)], [Var(v=-0.0127, grad=0.0000)], [Var(v=-0.0001, grad=0.0000)], [Var(v=-0.0001, grad=0.0000)], [Var(v=-0.0104, grad=0.0000)], [Var(v=-0.0112, grad=0.0000)], [Var(v=-0.0003, grad=0.0000)], [Var(v=-0.0080, grad=0.0000)], [Var(v=-0.0001, grad=0.0000)], [Var(v=-0.0031, grad=0.0000)], [Var(v=-0.0014, grad=0.0000)], [Var(v=-0.0002, grad=0.0000)], [Var(v=-0.0001, grad=0.0000)], [Var(v=-0.0011, grad=0.0000)], [Var(v=-0.0004, grad=0.0000)], [Var(v=-0.0055, grad=0.0000)], [Var(v=-0.0053, grad=0.0000)], [Var(v=-0.0070, grad=0.0000)], [Var(v=-0.0004, grad=0.0000)], [Var(v=-0.0001, grad=0.0000)], [Var(v=-0.0000, grad=0.0000)], [Var(v=-0.0115, grad=0.0000)], [Var(v=-0.0016, grad=0.0000)], [Var(v=-0.0058, grad=0.0000)], [Var(v=-0.0025, grad=0.0000)], [Var(v=-0.0021, grad=0.0000)], [Var(v=-0.0065, grad=0.0000)], [Var(v=-0.0118, grad=0.0000)], [Var(v=-0.0123, grad=0.0000)], [Var(v=-0.0001, grad=0.0000)], [Var(v=-0.0037, grad=0.0000)], [Var(v=-0.0068, grad=0.0000)], [Var(v=-0.0002, grad=0.0000)], [Var(v=-0.0098, grad=0.0000)], [Var(v=-0.0117, grad=0.0000)], [Var(v=-0.0001, grad=0.0000)], [Var(v=-0.0000, grad=0.0000)], [Var(v=-0.0003, grad=0.0000)], [Var(v=-0.0069, grad=0.0000)], [Var(v=-0.0002, grad=0.0000)], [Var(v=-0.0068, grad=0.0000)], [Var(v=-0.0103, grad=0.0000)], [Var(v=-0.0001, grad=0.0000)], [Var(v=-0.0003, grad=0.0000)]]\n"
     ]
    }
   ],
   "source": [
    "NN = [\n",
    "    DenseLayer(1, 5, lambda x: x.relu()),\n",
    "    DenseLayer(5, 1, lambda x: x.identity())\n",
    "]\n",
    "\n",
    "def forward(input, network):\n",
    "\n",
    "  def forward_single(x, network):\n",
    "    for layer in network:\n",
    "        x = layer.forward(x)\n",
    "    return x\n",
    "\n",
    "  output = [ forward_single(input[n], network) for n in range(len(input))]\n",
    "  return output\n",
    "\n",
    "print(forward(x_train, NN))\n",
    "\n",
    "#It seems to have worked?\n"
   ]
  },
  {
   "cell_type": "markdown",
   "metadata": {
    "id": "oLrGJytZFtGm"
   },
   "source": [
    "## Exercise h) Print all network parameters\n",
    "\n",
    "Make a function that prints all the parameters of the network (weights and biases) with information about in which layer the appear. In the object oriented spirit you should introduce a method in the DenseLayer class to print the parameters of a layer. Hint: You can take inspiration from the corresponding method in Var. "
   ]
  },
  {
   "cell_type": "code",
   "execution_count": 353,
   "metadata": {
    "id": "iac-VwYGFtGm"
   },
   "outputs": [
    {
     "name": "stdout",
     "output_type": "stream",
     "text": [
      "Layer 1:\n",
      "  Weights:\n",
      "    Weight[0][0] = Var(v=-0.0130, grad=0.0000)\n",
      "    Weight[0][1] = Var(v=-0.0733, grad=0.0000)\n",
      "    Weight[0][2] = Var(v=0.0461, grad=0.0000)\n",
      "    Weight[0][3] = Var(v=-0.0570, grad=0.0000)\n",
      "    Weight[0][4] = Var(v=-0.0816, grad=0.0000)\n",
      "  Biases:\n",
      "    Bias[0] = Var(v=0.0000, grad=0.0000)\n",
      "    Bias[1] = Var(v=0.0000, grad=0.0000)\n",
      "    Bias[2] = Var(v=0.0000, grad=0.0000)\n",
      "    Bias[3] = Var(v=0.0000, grad=0.0000)\n",
      "    Bias[4] = Var(v=0.0000, grad=0.0000)\n",
      "Layer 2:\n",
      "  Weights:\n",
      "    Weight[0][0] = Var(v=0.1343, grad=0.0000)\n",
      "    Weight[1][0] = Var(v=0.1056, grad=0.0000)\n",
      "    Weight[2][0] = Var(v=-0.0049, grad=0.0000)\n",
      "    Weight[3][0] = Var(v=-0.2058, grad=0.0000)\n",
      "    Weight[4][0] = Var(v=-0.0723, grad=0.0000)\n",
      "  Biases:\n",
      "    Bias[0] = Var(v=0.0000, grad=0.0000)\n"
     ]
    }
   ],
   "source": [
    "# Insert code here and in the DenseLayer class\n",
    "def print_network_parameters(network):\n",
    "    for index, layer in enumerate(network):\n",
    "        layer.print_parameters(index+1)\n",
    "\n",
    "print_network_parameters(NN)\n",
    "\n",
    "#why is the biases value 0? \n"
   ]
  },
  {
   "cell_type": "markdown",
   "metadata": {
    "id": "_79HOAXrFtHK"
   },
   "source": [
    "## Visualization\n",
    "\n",
    "Now that we have defined our activation functions we can visualize them to see what they look like:"
   ]
  },
  {
   "cell_type": "code",
   "execution_count": 354,
   "metadata": {
    "id": "1FcylHqLTl-Z"
   },
   "outputs": [
    {
     "data": {
      "text/plain": [
       "[<matplotlib.lines.Line2D at 0x2730a9cdee0>]"
      ]
     },
     "execution_count": 354,
     "metadata": {},
     "output_type": "execute_result"
    },
    {
     "data": {
      "image/png": "[encoded data removed]",
      "text/plain": [
       "<Figure size 640x480 with 1 Axes>"
      ]
     },
     "metadata": {},
     "output_type": "display_data"
    }
   ],
   "source": [
    "x = np.linspace(-6, 6, 100)\n",
    "\n",
    "# convert from Var to ndarray  \n",
    "def Var_to_nparray(x):\n",
    "  y = np.zeros((len(x),len(x[0])))\n",
    "  for i in range(len(x)):\n",
    "    for j in range(len(x[0])):\n",
    "      y[i,j] = x[i][j].v\n",
    "  return y\n",
    "\n",
    "# define 1-1 network with weight = 1 and relu activation \n",
    "NN = [ DenseLayer(1, 1, lambda x: x.relu(), initializer = ConstantInitializer(1.0)) ] \n",
    "y = Var_to_nparray(forward(nparray_to_Var(x), NN))\n",
    "\n",
    "#y = Var_to_nparray(relu(nparray_to_Var(x)))\n",
    "plt.plot(x,y)"
   ]
  },
  {
   "cell_type": "code",
   "execution_count": 355,
   "metadata": {
    "id": "oOL2UolJFtHL"
   },
   "outputs": [
    {
     "ename": "AssertionError",
     "evalue": "",
     "output_type": "error",
     "traceback": [
      "\u001b[1;31m---------------------------------------------------------------------------\u001b[0m",
      "\u001b[1;31mAssertionError\u001b[0m                            Traceback (most recent call last)",
      "Cell \u001b[1;32mIn[355], line 16\u001b[0m\n\u001b[0;32m      8\u001b[0m units \u001b[38;5;241m=\u001b[39m {\n\u001b[0;32m      9\u001b[0m     \u001b[38;5;124m\"\u001b[39m\u001b[38;5;124midentity\u001b[39m\u001b[38;5;124m\"\u001b[39m: \u001b[38;5;28;01mlambda\u001b[39;00m x: x\u001b[38;5;241m.\u001b[39midentity(),\n\u001b[0;32m     10\u001b[0m     \u001b[38;5;124m\"\u001b[39m\u001b[38;5;124msigmoid\u001b[39m\u001b[38;5;124m\"\u001b[39m: \u001b[38;5;28;01mlambda\u001b[39;00m x: x\u001b[38;5;241m.\u001b[39msigmoid(),\n\u001b[0;32m     11\u001b[0m     \u001b[38;5;124m\"\u001b[39m\u001b[38;5;124mrelu\u001b[39m\u001b[38;5;124m\"\u001b[39m: \u001b[38;5;28;01mlambda\u001b[39;00m x: x\u001b[38;5;241m.\u001b[39mrelu(),\n\u001b[0;32m     12\u001b[0m     \u001b[38;5;124m\"\u001b[39m\u001b[38;5;124mtanh\u001b[39m\u001b[38;5;124m\"\u001b[39m: \u001b[38;5;28;01mlambda\u001b[39;00m x: x\u001b[38;5;241m.\u001b[39mtanh()\n\u001b[0;32m     13\u001b[0m }\n\u001b[0;32m     15\u001b[0m plt\u001b[38;5;241m.\u001b[39mfigure(figsize\u001b[38;5;241m=\u001b[39m(\u001b[38;5;241m5\u001b[39m, \u001b[38;5;241m5\u001b[39m))\n\u001b[1;32m---> 16\u001b[0m [plt\u001b[38;5;241m.\u001b[39mplot(x, Var_to_nparray(\u001b[43mforward\u001b[49m\u001b[43m(\u001b[49m\u001b[43mnparray_to_Var\u001b[49m\u001b[43m(\u001b[49m\u001b[43mx\u001b[49m\u001b[43m)\u001b[49m\u001b[43m,\u001b[49m\u001b[43m \u001b[49m\u001b[43m[\u001b[49m\u001b[43mDenseLayer\u001b[49m\u001b[43m(\u001b[49m\u001b[38;5;241;43m1\u001b[39;49m\u001b[43m,\u001b[49m\u001b[43m \u001b[49m\u001b[38;5;241;43m1\u001b[39;49m\u001b[43m,\u001b[49m\u001b[43m \u001b[49m\u001b[43munit\u001b[49m\u001b[43m,\u001b[49m\u001b[43m \u001b[49m\u001b[43minitializer\u001b[49m\u001b[43m \u001b[49m\u001b[38;5;241;43m=\u001b[39;49m\u001b[43m \u001b[49m\u001b[43mConstantInitializer\u001b[49m\u001b[43m(\u001b[49m\u001b[38;5;241;43m1.0\u001b[39;49m\u001b[43m)\u001b[49m\u001b[43m)\u001b[49m\u001b[43m]\u001b[49m\u001b[43m)\u001b[49m ), label\u001b[38;5;241m=\u001b[39munit_name, lw\u001b[38;5;241m=\u001b[39m\u001b[38;5;241m2\u001b[39m) \u001b[38;5;28;01mfor\u001b[39;00m unit_name, unit \u001b[38;5;129;01min\u001b[39;00m units\u001b[38;5;241m.\u001b[39mitems()] \u001b[38;5;66;03m# unit(nparray_to_Var(x))), label=unit_name, lw=2) for unit_name, unit in units.items()]\u001b[39;00m\n\u001b[0;32m     17\u001b[0m plt\u001b[38;5;241m.\u001b[39mlegend(loc\u001b[38;5;241m=\u001b[39m\u001b[38;5;241m2\u001b[39m, fontsize\u001b[38;5;241m=\u001b[39m\u001b[38;5;241m16\u001b[39m)\n\u001b[0;32m     18\u001b[0m plt\u001b[38;5;241m.\u001b[39mtitle(\u001b[38;5;124m'\u001b[39m\u001b[38;5;124mOur activation functions\u001b[39m\u001b[38;5;124m'\u001b[39m, fontsize\u001b[38;5;241m=\u001b[39m\u001b[38;5;241m20\u001b[39m)\n",
      "Cell \u001b[1;32mIn[352], line 13\u001b[0m, in \u001b[0;36mforward\u001b[1;34m(input, network)\u001b[0m\n\u001b[0;32m     10\u001b[0m       x \u001b[38;5;241m=\u001b[39m layer\u001b[38;5;241m.\u001b[39mforward(x)\n\u001b[0;32m     11\u001b[0m   \u001b[38;5;28;01mreturn\u001b[39;00m x\n\u001b[1;32m---> 13\u001b[0m output \u001b[38;5;241m=\u001b[39m [ \u001b[43mforward_single\u001b[49m\u001b[43m(\u001b[49m\u001b[38;5;28;43minput\u001b[39;49m\u001b[43m[\u001b[49m\u001b[43mn\u001b[49m\u001b[43m]\u001b[49m\u001b[43m,\u001b[49m\u001b[43m \u001b[49m\u001b[43mnetwork\u001b[49m\u001b[43m)\u001b[49m \u001b[38;5;28;01mfor\u001b[39;00m n \u001b[38;5;129;01min\u001b[39;00m \u001b[38;5;28mrange\u001b[39m(\u001b[38;5;28mlen\u001b[39m(\u001b[38;5;28minput\u001b[39m))]\n\u001b[0;32m     14\u001b[0m \u001b[38;5;28;01mreturn\u001b[39;00m output\n",
      "Cell \u001b[1;32mIn[352], line 10\u001b[0m, in \u001b[0;36mforward.<locals>.forward_single\u001b[1;34m(x, network)\u001b[0m\n\u001b[0;32m      8\u001b[0m \u001b[38;5;28;01mdef\u001b[39;00m \u001b[38;5;21mforward_single\u001b[39m(x, network):\n\u001b[0;32m      9\u001b[0m   \u001b[38;5;28;01mfor\u001b[39;00m layer \u001b[38;5;129;01min\u001b[39;00m network:\n\u001b[1;32m---> 10\u001b[0m       x \u001b[38;5;241m=\u001b[39m \u001b[43mlayer\u001b[49m\u001b[38;5;241;43m.\u001b[39;49m\u001b[43mforward\u001b[49m\u001b[43m(\u001b[49m\u001b[43mx\u001b[49m\u001b[43m)\u001b[49m\n\u001b[0;32m     11\u001b[0m   \u001b[38;5;28;01mreturn\u001b[39;00m x\n",
      "Cell \u001b[1;32mIn[351], line 33\u001b[0m, in \u001b[0;36mDenseLayer.forward\u001b[1;34m(self, single_input)\u001b[0m\n\u001b[0;32m     31\u001b[0m     \u001b[38;5;28;01mfor\u001b[39;00m i \u001b[38;5;129;01min\u001b[39;00m \u001b[38;5;28mrange\u001b[39m(\u001b[38;5;28mlen\u001b[39m(single_input)):\n\u001b[0;32m     32\u001b[0m         node \u001b[38;5;241m+\u001b[39m\u001b[38;5;241m=\u001b[39m single_input[i]\u001b[38;5;241m*\u001b[39mweights[i][j]  \u001b[38;5;66;03m# <- Insert code\u001b[39;00m\n\u001b[1;32m---> 33\u001b[0m     node \u001b[38;5;241m=\u001b[39m \u001b[38;5;28;43mself\u001b[39;49m\u001b[38;5;241;43m.\u001b[39;49m\u001b[43mact_fn\u001b[49m\u001b[43m(\u001b[49m\u001b[43mnode\u001b[49m\u001b[43m)\u001b[49m\n\u001b[0;32m     34\u001b[0m     out\u001b[38;5;241m.\u001b[39mappend(node)\n\u001b[0;32m     36\u001b[0m \u001b[38;5;28;01mreturn\u001b[39;00m out\n",
      "Cell \u001b[1;32mIn[355], line 10\u001b[0m, in \u001b[0;36m<lambda>\u001b[1;34m(x)\u001b[0m\n\u001b[0;32m      4\u001b[0m \u001b[38;5;66;03m# Testing all activation layers\u001b[39;00m\n\u001b[0;32m      7\u001b[0m x \u001b[38;5;241m=\u001b[39m np\u001b[38;5;241m.\u001b[39mlinspace(\u001b[38;5;241m-\u001b[39m\u001b[38;5;241m6\u001b[39m, \u001b[38;5;241m6\u001b[39m, \u001b[38;5;241m100\u001b[39m)\n\u001b[0;32m      8\u001b[0m units \u001b[38;5;241m=\u001b[39m {\n\u001b[0;32m      9\u001b[0m     \u001b[38;5;124m\"\u001b[39m\u001b[38;5;124midentity\u001b[39m\u001b[38;5;124m\"\u001b[39m: \u001b[38;5;28;01mlambda\u001b[39;00m x: x\u001b[38;5;241m.\u001b[39midentity(),\n\u001b[1;32m---> 10\u001b[0m     \u001b[38;5;124m\"\u001b[39m\u001b[38;5;124msigmoid\u001b[39m\u001b[38;5;124m\"\u001b[39m: \u001b[38;5;28;01mlambda\u001b[39;00m x: \u001b[43mx\u001b[49m\u001b[38;5;241;43m.\u001b[39;49m\u001b[43msigmoid\u001b[49m\u001b[43m(\u001b[49m\u001b[43m)\u001b[49m,\n\u001b[0;32m     11\u001b[0m     \u001b[38;5;124m\"\u001b[39m\u001b[38;5;124mrelu\u001b[39m\u001b[38;5;124m\"\u001b[39m: \u001b[38;5;28;01mlambda\u001b[39;00m x: x\u001b[38;5;241m.\u001b[39mrelu(),\n\u001b[0;32m     12\u001b[0m     \u001b[38;5;124m\"\u001b[39m\u001b[38;5;124mtanh\u001b[39m\u001b[38;5;124m\"\u001b[39m: \u001b[38;5;28;01mlambda\u001b[39;00m x: x\u001b[38;5;241m.\u001b[39mtanh()\n\u001b[0;32m     13\u001b[0m }\n\u001b[0;32m     15\u001b[0m plt\u001b[38;5;241m.\u001b[39mfigure(figsize\u001b[38;5;241m=\u001b[39m(\u001b[38;5;241m5\u001b[39m, \u001b[38;5;241m5\u001b[39m))\n\u001b[0;32m     16\u001b[0m [plt\u001b[38;5;241m.\u001b[39mplot(x, Var_to_nparray(forward(nparray_to_Var(x), [DenseLayer(\u001b[38;5;241m1\u001b[39m, \u001b[38;5;241m1\u001b[39m, unit, initializer \u001b[38;5;241m=\u001b[39m ConstantInitializer(\u001b[38;5;241m1.0\u001b[39m))]) ), label\u001b[38;5;241m=\u001b[39munit_name, lw\u001b[38;5;241m=\u001b[39m\u001b[38;5;241m2\u001b[39m) \u001b[38;5;28;01mfor\u001b[39;00m unit_name, unit \u001b[38;5;129;01min\u001b[39;00m units\u001b[38;5;241m.\u001b[39mitems()] \u001b[38;5;66;03m# unit(nparray_to_Var(x))), label=unit_name, lw=2) for unit_name, unit in units.items()]\u001b[39;00m\n",
      "Cell \u001b[1;32mIn[335], line 59\u001b[0m, in \u001b[0;36mVar.sigmoid\u001b[1;34m(self)\u001b[0m\n\u001b[0;32m     57\u001b[0m \u001b[38;5;28;01mdef\u001b[39;00m \u001b[38;5;21msigmoid\u001b[39m(\u001b[38;5;28mself\u001b[39m):\n\u001b[0;32m     58\u001b[0m     sigmoid_val \u001b[38;5;241m=\u001b[39m \u001b[38;5;241m1\u001b[39m \u001b[38;5;241m/\u001b[39m (\u001b[38;5;241m1\u001b[39m \u001b[38;5;241m+\u001b[39m np\u001b[38;5;241m.\u001b[39mexp(\u001b[38;5;241m-\u001b[39m\u001b[38;5;28mself\u001b[39m\u001b[38;5;241m.\u001b[39mv))\n\u001b[1;32m---> 59\u001b[0m     \u001b[38;5;28;01mreturn\u001b[39;00m \u001b[43mVar\u001b[49m\u001b[43m(\u001b[49m\u001b[43msigmoid_val\u001b[49m\u001b[43m,\u001b[49m\u001b[43m \u001b[49m\u001b[38;5;28;43;01mlambda\u001b[39;49;00m\u001b[43m:\u001b[49m\u001b[43m \u001b[49m\u001b[43m[\u001b[49m\u001b[43m(\u001b[49m\u001b[38;5;28;43mself\u001b[39;49m\u001b[43m,\u001b[49m\u001b[43m \u001b[49m\u001b[43msigmoid_val\u001b[49m\u001b[43m \u001b[49m\u001b[38;5;241;43m*\u001b[39;49m\u001b[43m \u001b[49m\u001b[43m(\u001b[49m\u001b[38;5;241;43m1\u001b[39;49m\u001b[43m \u001b[49m\u001b[38;5;241;43m-\u001b[39;49m\u001b[43m \u001b[49m\u001b[43msigmoid_val\u001b[49m\u001b[43m)\u001b[49m\u001b[43m)\u001b[49m\u001b[43m]\u001b[49m\u001b[43m)\u001b[49m\n",
      "Cell \u001b[1;32mIn[335], line 12\u001b[0m, in \u001b[0;36mVar.__init__\u001b[1;34m(self, val, grad_fn)\u001b[0m\n\u001b[0;32m     11\u001b[0m \u001b[38;5;28;01mdef\u001b[39;00m \u001b[38;5;21m__init__\u001b[39m(\u001b[38;5;28mself\u001b[39m, val: \u001b[38;5;28mfloat\u001b[39m, grad_fn\u001b[38;5;241m=\u001b[39m\u001b[38;5;28;01mlambda\u001b[39;00m: []):\n\u001b[1;32m---> 12\u001b[0m     \u001b[38;5;28;01massert\u001b[39;00m \u001b[38;5;28mtype\u001b[39m(val) \u001b[38;5;241m==\u001b[39m \u001b[38;5;28mfloat\u001b[39m\n\u001b[0;32m     13\u001b[0m     \u001b[38;5;28mself\u001b[39m\u001b[38;5;241m.\u001b[39mv \u001b[38;5;241m=\u001b[39m val\n\u001b[0;32m     14\u001b[0m     \u001b[38;5;28mself\u001b[39m\u001b[38;5;241m.\u001b[39mgrad_fn \u001b[38;5;241m=\u001b[39m grad_fn\n",
      "\u001b[1;31mAssertionError\u001b[0m: "
     ]
    },
    {
     "data": {
      "image/png": "[encoded data removed]",
      "text/plain": [
       "<Figure size 500x500 with 1 Axes>"
      ]
     },
     "metadata": {},
     "output_type": "display_data"
    }
   ],
   "source": [
    "import numpy as np\n",
    "import matplotlib.pyplot as plt\n",
    "\n",
    "# Testing all activation layers\n",
    "\n",
    "\n",
    "x = np.linspace(-6, 6, 100)\n",
    "units = {\n",
    "    \"identity\": lambda x: x.identity(),\n",
    "    \"sigmoid\": lambda x: x.sigmoid(),\n",
    "    \"relu\": lambda x: x.relu(),\n",
    "    \"tanh\": lambda x: x.tanh()\n",
    "}\n",
    "\n",
    "plt.figure(figsize=(5, 5))\n",
    "[plt.plot(x, Var_to_nparray(forward(nparray_to_Var(x), [DenseLayer(1, 1, unit, initializer = ConstantInitializer(1.0))]) ), label=unit_name, lw=2) for unit_name, unit in units.items()] # unit(nparray_to_Var(x))), label=unit_name, lw=2) for unit_name, unit in units.items()]\n",
    "plt.legend(loc=2, fontsize=16)\n",
    "plt.title('Our activation functions', fontsize=20)\n",
    "plt.ylim([-2, 5])\n",
    "plt.xlim([-6, 6])\n",
    "plt.show()"
   ]
  },
  {
   "cell_type": "markdown",
   "metadata": {
    "id": "b-jdEl-7FtGs"
   },
   "source": [
    "# Advanced initialization schemes\n",
    "\n",
    "If we are not careful with initialization, the signals we propagate forward ($a^{(l)}$, $l=1,\\ldots,L$) and backward ($\\delta^l$, $l=L,L-1,\\ldots,1$) can blow up or shrink to zero. A statistical analysis of the variance of the signals for different activation functions can be found in these two papers: [Glorot initialization](http://proceedings.mlr.press/v9/glorot10a/glorot10a.pdf) and [He initialization](https://arxiv.org/pdf/1502.01852v1.pdf). \n",
    "\n",
    "The result of the analyses are proposals for how to make the initialization such that the variance of the signals (forward and backward) are kept approxmimatly constant when propagating from layer to layer. The exact expressions depend upon the non-linear activation function used. In Glorot initialization, the aim is to keep both the forward and backward variances constant whereas He only aims at keeping the variance in the forward pass constant.\n",
    "\n",
    "We define $n_{in}$ and $n_{out}$ as the number of input units and output units of a particular layer. \n",
    "\n",
    "The Glorot initialization has the form: \n",
    "\n",
    "$$w_{ij} \\sim N \\bigg( 0, \\, \\frac{2 \\alpha }{n_{in} + n_{out}} \\bigg) \\ . $$\n",
    "\n",
    "where $N(\\mu,\\sigma^2)$ is a Gaussian distribution with mean $\\mu$ and variance $\\sigma^2$ and $\\alpha$ is a parameter that depends upon the activation function used. For $\\tanh$, $\\alpha=1$ and for Rectified Linear Unit (ReLU) activations, $\\alpha=2$. (It is also possible to use a uniform distribution for initialization, see [this blog post](https://mmuratarat.github.io/2019-02-25/xavier-glorot-he-weight-init).) \n",
    "\n",
    "The He initialization is very similar\n",
    "\n",
    "$$w_{ij} \\sim N \\bigg( 0, \\, \\frac{\\alpha}{n_{in}} \\bigg) \\ . $$"
   ]
  },
  {
   "cell_type": "markdown",
   "metadata": {
    "id": "mqeyab9qFtGs"
   },
   "source": [
    "## Exercise i) Glorot and He initialization\n",
    " \n",
    "Using the Initializer class, implement functions that implement Glorot and He \n",
    "\n",
    "Explain briefly how you would test numerically that these initializations have the sought after property. Hint: See plots in Glorot paper.\n",
    "\n",
    "Comment: If you want to be more advanced then try to make a universal initializer taking both the activation function and type (Glorot or He) as argument."
   ]
  },
  {
   "cell_type": "code",
   "execution_count": 356,
   "metadata": {
    "id": "Qyk01CgaFtGt"
   },
   "outputs": [],
   "source": [
    "import random\n",
    "\n",
    "class GlorotInitializer(Initializer):\n",
    "    def __init__(self, activation='tanh'):\n",
    "        if activation == 'tanh':\n",
    "            self.alpha = 1.0\n",
    "        elif activation == 'relu':\n",
    "            self.alpha = 2.0\n",
    "        else:\n",
    "            raise ValueError(\"Unsupported activation function for Glorot initialization.\")\n",
    "\n",
    "    def init_weights(self, n_in, n_out):\n",
    "        std = (2 * self.alpha / (n_in + n_out)) ** 0.5\n",
    "        return [[Var(random.gauss(0, std)) for _ in range(n_out)] for _ in range(n_in)]\n",
    "\n",
    "    def init_bias(self, n_out):\n",
    "        return [Var(0.0) for _ in range(n_out)]\n",
    "\n",
    "class HeInitializer(Initializer):\n",
    "    def __init__(self, activation='relu'):\n",
    "        if activation == 'relu':\n",
    "            self.alpha = 2.0\n",
    "        else:\n",
    "            raise ValueError(\"Unsupported activation function for He initialization.\")\n",
    "\n",
    "    def init_weights(self, n_in, n_out):\n",
    "        std = (self.alpha / n_in) ** 0.5\n",
    "        return [[Var(random.gauss(0, std)) for _ in range(n_out)] for _ in range(n_in)]\n",
    "\n",
    "    def init_bias(self, n_out):\n",
    "        return [Var(0.0) for _ in range(n_out)]"
   ]
  },
  {
   "cell_type": "code",
   "execution_count": 360,
   "metadata": {},
   "outputs": [
    {
     "data": {
      "image/png": "[encoded data removed]",
      "text/plain": [
       "<Figure size 640x480 with 1 Axes>"
      ]
     },
     "metadata": {},
     "output_type": "display_data"
    },
    {
     "data": {
      "image/png": "[encoded data removed]",
      "text/plain": [
       "<Figure size 640x480 with 1 Axes>"
      ]
     },
     "metadata": {},
     "output_type": "display_data"
    }
   ],
   "source": [
    "import matplotlib.pyplot as plt\n",
    "#I recommend not running this code as it takes a long time to run or if you do run it, change the num_samples to a lower number\n",
    "def test_initializer(initializer, n_in, n_out, num_samples=1000):\n",
    "    layer = DenseLayer(n_in, n_out, act_fn=lambda x: x, initializer=initializer)\n",
    "    variances = []\n",
    "    \n",
    "   \n",
    "    for _ in range(num_samples):\n",
    "        inputs = [Var(random.gauss(0, 1)) for _ in range(n_in)]\n",
    "        outputs = layer.forward(inputs)\n",
    "        output_vals = [out.v for out in outputs]\n",
    "        variances.append(np.var(output_vals))\n",
    "    \n",
    "    \n",
    "    plt.hist(variances, bins=50)\n",
    "    plt.title(f\"Variance of Layer Outputs with {initializer.__class__.__name__}\")\n",
    "    plt.xlabel(\"Variance\")\n",
    "    plt.ylabel(\"Frequency\")\n",
    "    plt.show()\n",
    "\n",
    "\n",
    "test_initializer(GlorotInitializer(activation='tanh'), n_in=100, n_out=50)\n",
    "\n",
    "\n",
    "test_initializer(HeInitializer(activation='relu'), n_in=100, n_out=50)\n"
   ]
  },
  {
   "cell_type": "markdown",
   "metadata": {},
   "source": [
    "## Explanation\n",
    "\n",
    "As you can see the variance is not spread out and reasonably centered around 1-2"
   ]
  },
  {
   "cell_type": "markdown",
   "metadata": {
    "id": "-XyXBD37FtHk"
   },
   "source": [
    "## Exercise j) Forward pass unit test\n",
    "\n",
    "Write a bit of code to make a unit test that the forward pass works. This can be done by defining a simple network with for example all weights equal to one (using the ConstantInitializer method) and identity activation functions. \n",
    "\n",
    "Hints: Use the [assert](https://www.w3schools.com/python/ref_keyword_assert.asp), the nparray_to_Var and the Var_to_nparray commands. "
   ]
  },
  {
   "cell_type": "code",
   "execution_count": 361,
   "metadata": {
    "id": "k0miqRUAFtHl"
   },
   "outputs": [
    {
     "name": "stdout",
     "output_type": "stream",
     "text": [
      "Forward pass unit test passed successfully!\n"
     ]
    }
   ],
   "source": [
    "from typing import List\n",
    "\n",
    "def Var_to_nparray(vars: List[List[Var]]) -> np.ndarray:\n",
    "    \"\"\"Converts a list of list of Var objects to a numpy array of their values.\"\"\"\n",
    "    return np.array([[var.v for var in row] for row in vars])\n",
    "\n",
    "def test_forward_pass():\n",
    "    #Set up a simple network with ConstantInitializer (all weights and biases to 1.0)\n",
    "    n_in, n_out = 3, 2  # Simple dimensions for testing\n",
    "    initializer = ConstantInitializer(weight=1.0, bias=0.0)\n",
    "    layer = DenseLayer(n_in, n_out, act_fn=lambda x: x, initializer=initializer)  # Identity activation function\n",
    "    \n",
    "    #Define known input\n",
    "    input_values = np.array([[1.0, 2.0, 3.0]])  # 1 sample, 3 features\n",
    "    inputs = nparray_to_Var(input_values)  # Convert numpy array to list of list of Var\n",
    "\n",
    "    #Calculate expected output\n",
    "    # Since weights are all 1, the output is the sum of input features per node plus bias (which is 0)\n",
    "    # Therefore, expected output for each node is the sum of inputs: [6.0, 6.0] for both nodes\n",
    "    expected_output = np.dot(input_values, np.ones((n_in, n_out)))  # Expected output using numpy dot\n",
    "\n",
    "    #Perform forward pass\n",
    "    actual_output_vars = layer.forward(inputs[0])  # Pass first (and only) sample\n",
    "    actual_output = Var_to_nparray([actual_output_vars])  # Convert output Vars to numpy array\n",
    "\n",
    "   #Assert output matches expected output\n",
    "    assert np.allclose(actual_output, expected_output), f\"Expected {expected_output}, but got {actual_output}\"\n",
    "    print(\"Forward pass unit test passed successfully!\")\n",
    "\n",
    "# Run the test\n",
    "test_forward_pass()\n"
   ]
  },
  {
   "cell_type": "markdown",
   "metadata": {
    "id": "faCxhfFnFtHp"
   },
   "source": [
    "# Loss functions\n",
    "\n",
    "We are only missing a loss function to we need to define a loss function and its derivative with respect to the output of the neural network $y$"
   ]
  },
  {
   "cell_type": "code",
   "execution_count": 362,
   "metadata": {
    "id": "I2eDYKvAFtHq"
   },
   "outputs": [],
   "source": [
    "def squared_loss(t, y):\n",
    "  \n",
    "  # add check that sizes agree\n",
    "  \n",
    "  def squared_loss_single(t, y):\n",
    "    Loss = Var(0.0)\n",
    "    for i in range(len(t)): # sum over outputs\n",
    "      Loss += (t[i]-y[i]) ** 2\n",
    "    return Loss\n",
    "\n",
    "  Loss = Var(0.0)\n",
    "  for n in range(len(t)): # sum over training data\n",
    "    Loss += squared_loss_single(t[n],y[n])\n",
    "  return Loss"
   ]
  },
  {
   "cell_type": "markdown",
   "metadata": {
    "id": "SrwSJ2UWFtHu"
   },
   "source": [
    "## Exercise k) Implement cross entropy loss\n",
    "\n",
    "Insert code below to implement cross-entropy loss for general dimensionality of $t$. Use a logits formulation:\n",
    "$$\n",
    "\\rm{Loss} = - \\sum_i t_i \\, log \\, p_i \n",
    "$$\n",
    "with $p$ given by the the softmax function in terms of the logits $h$:\n",
    "$$\n",
    "p_i = \\frac{\\exp(h_i)}{\\sum_{i'} \\exp(h_{i'})} .\n",
    "$$\n",
    "Inserting $p$ in the expression for the loss gives\n",
    "$$\n",
    "\\rm{Loss} = - \\sum_i t_i h_i + \\rm{LogSumExp}(h) \\ ,\n",
    "$$\n",
    "where \n",
    "$$\n",
    "\\rm{LogSumExp}(h) = \\log \\sum_i \\exp h_i \\ .\n",
    "$$\n",
    "This is true for $t$ being a one-hot vector. \n",
    "\n",
    "Call the function to convince yourself it works. \n",
    "\n",
    "In practice you want to implement a [numerically stable](https://leimao.github.io/blog/LogSumExp/) version of LogSumExp. But we will not bother about that here.\n",
    "\n",
    "Help: You can add these methods in the Var class:\n",
    "\n",
    "    def exp(self):\n",
    "        return Var(exp(self.v), lambda: [(self, exp(self.v))])\n",
    "    \n",
    "    def log(self):\n",
    "        return Var(log(self.v), lambda: [(self, self.v ** -1)])"
   ]
  },
  {
   "cell_type": "code",
   "execution_count": 365,
   "metadata": {
    "id": "6nMuxyfzFtHv"
   },
   "outputs": [
    {
     "name": "stdout",
     "output_type": "stream",
     "text": [
      "Computed Cross-entropy Loss: Var(v=0.4170, grad=0.0000)\n",
      "Expected Cross-entropy Loss: 0.4170\n"
     ]
    }
   ],
   "source": [
    "import numpy as np\n",
    "\n",
    "def cross_entropy_loss(t, h):\n",
    "  \n",
    "    def logsumexp(h):\n",
    "        max_h = max(h, key=lambda x: x.v)\n",
    "        sum_exp = Var(0.0)\n",
    "        for h_i in h:\n",
    "            sum_exp += (h_i - max_h).exp() \n",
    "        return max_h + sum_exp.log()\n",
    "\n",
    "    Loss = Var(0.0)\n",
    "    for n in range(len(t)):  # Sum over training data\n",
    "        log_sum_exp = logsumexp(h[n])\n",
    "        sum_t_h = Var(0.0)\n",
    "        for i in range(len(t[n])):  # Sum over outputs\n",
    "            sum_t_h += t[n][i] * h[n][i]\n",
    "        Loss += -sum_t_h + log_sum_exp\n",
    "\n",
    "    return Loss\n",
    "\n",
    "def softmax(logits):\n",
    "    exp_values = np.exp(logits - np.max(logits)) \n",
    "    return exp_values / np.sum(exp_values)\n",
    "\n",
    "def expected_cross_entropy_loss(target, logits):\n",
    "    softmax_probs = softmax(logits)\n",
    "    loss = -np.sum(np.array(target) * np.log(softmax_probs))\n",
    "    return loss\n",
    "\n",
    "def test_cross_entropy_loss():\n",
    "    t = [[Var(1.0), Var(0.0), Var(0.0)]]  # One-hot encoded target for class 0\n",
    "    h = [[Var(2.0), Var(1.0), Var(0.1)]]  # Logits corresponding to 3 classes\n",
    "\n",
    "    # Convert logits to a simple list of values for expected loss calculation\n",
    "    logits_values = [var.v for var in h[0]]\n",
    "\n",
    "    # Compute the actual loss using the cross_entropy_loss function\n",
    "    loss = cross_entropy_loss(t, h)\n",
    "    \n",
    "    # Compute the expected loss manually\n",
    "    expected_loss = expected_cross_entropy_loss([1.0, 0.0, 0.0], logits_values)\n",
    "\n",
    "    print(f\"Computed Cross-entropy Loss: {loss}\")\n",
    "    print(f\"Expected Cross-entropy Loss: {expected_loss:.4f}\")\n",
    "\n",
    "    # Verify if the computed loss is close to the expected loss\n",
    "    assert abs(loss.v - expected_loss) < 1e-4, f\"Expected {expected_loss}, but got {loss.v}\"\n",
    "\n",
    "\n",
    "test_cross_entropy_loss()"
   ]
  },
  {
   "cell_type": "markdown",
   "metadata": {
    "id": "8fAF5ew4FtHy"
   },
   "source": [
    "# Backward pass\n",
    "\n",
    "Now the magic happens! We get the calculation of the gradients for free. Just do:"
   ]
  },
  {
   "cell_type": "code",
   "execution_count": 366,
   "metadata": {
    "id": "iHyfPPI9Qqwu"
   },
   "outputs": [],
   "source": [
    "NN = [\n",
    "    DenseLayer(1, 5, lambda x: x.relu()),\n",
    "    DenseLayer(5, 1, lambda x: x.identity())\n",
    "]\n",
    "\n",
    "output = forward(x_train, NN)\n",
    "\n",
    "Loss = squared_loss(y_train,output)\n",
    "Loss.backward()"
   ]
  },
  {
   "cell_type": "markdown",
   "metadata": {
    "id": "49biIAYKQ1oG"
   },
   "source": [
    "and the gradients will be calculated:"
   ]
  },
  {
   "cell_type": "code",
   "execution_count": 367,
   "metadata": {
    "id": "_rGt1bq_Q7uk"
   },
   "outputs": [
    {
     "name": "stdout",
     "output_type": "stream",
     "text": [
      "Layer 0 \n",
      " Weights: [[Var(v=-0.0765, grad=-14.2909), Var(v=0.0700, grad=2.1257), Var(v=-0.1919, grad=16.7928), Var(v=-0.1153, grad=-10.5451), Var(v=-0.0184, grad=-21.9250)]] Biases: [Var(v=0.0000, grad=12.9885), Var(v=0.0000, grad=1.8259), Var(v=0.0000, grad=-15.2624), Var(v=0.0000, grad=9.5840), Var(v=0.0000, grad=19.9268)]\n",
      "Layer 1 \n",
      " Weights: [[Var(v=0.1497, grad=7.3014)], [Var(v=-0.0209, grad=-7.1271)], [Var(v=-0.1759, grad=18.3248)], [Var(v=0.1104, grad=11.0095)], [Var(v=0.2296, grad=1.7579)]] Biases: [Var(v=0.0000, grad=-0.6308)]\n"
     ]
    },
    {
     "data": {
      "text/plain": [
       "[None, None]"
      ]
     },
     "execution_count": 367,
     "metadata": {},
     "output_type": "execute_result"
    }
   ],
   "source": [
    "[print('Layer', i, '\\n', NN[i]) for i in range(len(NN))] "
   ]
  },
  {
   "cell_type": "markdown",
   "metadata": {
    "id": "D7d7qK0uFtH9"
   },
   "source": [
    "# Backward pass unit test\n",
    "\n",
    "Above we used finite differences to test that Nanograd is actually doing what it is supposed to do. We can in principle try the same for the neural network. But we will trust that the test above is enough."
   ]
  },
  {
   "cell_type": "markdown",
   "metadata": {
    "id": "WgBi8GOSFtIN"
   },
   "source": [
    "# Training and validation\n",
    "\n",
    "We are ready to train some neural networks!\n",
    "\n",
    "We initialize again:"
   ]
  },
  {
   "cell_type": "code",
   "execution_count": 368,
   "metadata": {
    "id": "01ePmzBzRtdh"
   },
   "outputs": [],
   "source": [
    "NN = [\n",
    "    DenseLayer(1, 15, lambda x: x.relu()),\n",
    "    DenseLayer(15, 50, lambda x: x.relu()),\n",
    "    DenseLayer(50, 1, lambda x: x.identity())\n",
    "]\n",
    "\n",
    "output = forward(x_train, NN)\n",
    "\n",
    "Loss = squared_loss(y_train,output)\n",
    "Loss.backward()"
   ]
  },
  {
   "cell_type": "markdown",
   "metadata": {
    "id": "10iRPiQ1ISHw"
   },
   "source": [
    "and make an update:\n",
    "\n",
    "We introduce a help function parameters to have a handle in all parameters in the network."
   ]
  },
  {
   "cell_type": "code",
   "execution_count": 369,
   "metadata": {
    "id": "dhAI7eyeznia"
   },
   "outputs": [
    {
     "name": "stdout",
     "output_type": "stream",
     "text": [
      "Network before update:\n",
      "Layer 0 \n",
      " Weights: [[Var(v=0.0458, grad=2.0764), Var(v=-0.1343, grad=-8.0717), Var(v=0.1316, grad=-3.8712), Var(v=-0.0336, grad=0.2922), Var(v=-0.0200, grad=3.3369), Var(v=-0.0191, grad=4.2276), Var(v=0.0746, grad=0.8461), Var(v=-0.1812, grad=-0.5043), Var(v=0.1101, grad=14.5582), Var(v=-0.0785, grad=-11.8143), Var(v=0.1312, grad=7.8892), Var(v=0.0928, grad=3.3125), Var(v=-0.1392, grad=3.8857), Var(v=0.1303, grad=-3.6882), Var(v=0.1826, grad=2.3519)]] Biases: [Var(v=0.0000, grad=1.7828), Var(v=0.0000, grad=7.3387), Var(v=0.0000, grad=-3.3237), Var(v=0.0000, grad=-0.2657), Var(v=0.0000, grad=-3.0339), Var(v=0.0000, grad=-3.8437), Var(v=0.0000, grad=0.7264), Var(v=0.0000, grad=0.4585), Var(v=0.0000, grad=12.4995), Var(v=0.0000, grad=10.7414), Var(v=0.0000, grad=6.7736), Var(v=0.0000, grad=2.8441), Var(v=0.0000, grad=-3.5328), Var(v=0.0000, grad=-3.1667), Var(v=0.0000, grad=2.0193)]\n",
      "Layer 1 \n",
      " Weights: [[Var(v=-0.0577, grad=-0.4557), Var(v=0.0172, grad=0.0000), Var(v=0.0480, grad=-0.4784), Var(v=0.0254, grad=0.0000), Var(v=-0.0300, grad=-0.4176), Var(v=-0.1271, grad=0.0000), Var(v=-0.0987, grad=0.2028), Var(v=0.0883, grad=-0.1103), Var(v=0.0157, grad=0.0000), Var(v=-0.0561, grad=0.0000), Var(v=-0.0002, grad=0.4480), Var(v=0.0995, grad=0.5043), Var(v=-0.0745, grad=0.0000), Var(v=0.0603, grad=-0.1596), Var(v=0.1257, grad=-0.3095), Var(v=-0.1039, grad=-0.8349), Var(v=-0.0065, grad=0.0000), Var(v=-0.0858, grad=0.0000), Var(v=-0.0104, grad=0.0000), Var(v=0.0499, grad=0.0000), Var(v=-0.0169, grad=0.6307), Var(v=-0.0469, grad=0.5765), Var(v=0.0334, grad=0.0000), Var(v=-0.0479, grad=0.0000), Var(v=0.0622, grad=-0.1241), Var(v=0.0329, grad=-0.3891), Var(v=0.0124, grad=0.0000), Var(v=-0.1057, grad=-0.2103), Var(v=-0.0676, grad=0.5908), Var(v=-0.1179, grad=0.0000), Var(v=0.0847, grad=0.0822), Var(v=-0.1350, grad=0.0000), Var(v=-0.0317, grad=-0.4895), Var(v=0.0635, grad=0.0000), Var(v=-0.0674, grad=0.0000), Var(v=0.0184, grad=0.0000), Var(v=-0.0659, grad=1.0791), Var(v=-0.1517, grad=0.0000), Var(v=-0.1233, grad=0.0000), Var(v=0.0487, grad=0.6935), Var(v=-0.0212, grad=0.3798), Var(v=-0.1371, grad=0.0102), Var(v=0.0407, grad=-0.0407), Var(v=0.1249, grad=0.6300), Var(v=0.1695, grad=-0.1116), Var(v=-0.0008, grad=0.1447), Var(v=-0.2013, grad=0.1704), Var(v=-0.0198, grad=0.0000), Var(v=0.0874, grad=-0.0284), Var(v=-0.2263, grad=-0.4409)], [Var(v=0.0151, grad=1.2479), Var(v=-0.0386, grad=0.0000), Var(v=-0.0496, grad=1.3102), Var(v=-0.1148, grad=0.0000), Var(v=0.0796, grad=1.1435), Var(v=0.0597, grad=2.0755), Var(v=0.0523, grad=0.0000), Var(v=-0.0313, grad=0.0000), Var(v=-0.2545, grad=-1.0336), Var(v=0.1848, grad=0.6197), Var(v=-0.0695, grad=-1.2269), Var(v=0.0832, grad=-1.3811), Var(v=-0.0340, grad=-1.3154), Var(v=-0.0960, grad=0.0000), Var(v=0.1095, grad=0.8477), Var(v=0.0795, grad=2.2863), Var(v=-0.1593, grad=1.9937), Var(v=0.0646, grad=0.0000), Var(v=0.1452, grad=1.5755), Var(v=-0.1466, grad=-0.7655), Var(v=0.0110, grad=0.0000), Var(v=-0.0954, grad=-1.5787), Var(v=-0.1513, grad=0.0000), Var(v=0.0519, grad=0.0000), Var(v=0.0238, grad=0.0000), Var(v=0.0146, grad=0.0000), Var(v=-0.0437, grad=0.6504), Var(v=0.0387, grad=0.5759), Var(v=-0.2682, grad=0.0000), Var(v=0.0422, grad=0.3045), Var(v=-0.1315, grad=0.0000), Var(v=0.1228, grad=0.0000), Var(v=0.0751, grad=0.0000), Var(v=-0.1353, grad=0.0440), Var(v=0.0228, grad=-0.6205), Var(v=0.2114, grad=0.0000), Var(v=0.0286, grad=0.0000), Var(v=0.1796, grad=-0.3195), Var(v=-0.0975, grad=0.0000), Var(v=-0.1769, grad=0.0000), Var(v=-0.0963, grad=-1.0401), Var(v=0.0003, grad=-0.0280), Var(v=-0.1536, grad=0.1113), Var(v=-0.0082, grad=0.0000), Var(v=0.0213, grad=0.3055), Var(v=0.0957, grad=0.0000), Var(v=-0.1529, grad=0.0000), Var(v=0.0120, grad=0.0000), Var(v=0.1314, grad=0.0000), Var(v=0.0459, grad=1.2074)], [Var(v=0.0334, grad=-1.3077), Var(v=-0.0485, grad=0.0000), Var(v=-0.0155, grad=-1.3731), Var(v=-0.0335, grad=0.0000), Var(v=0.1511, grad=-1.1984), Var(v=0.0877, grad=0.0000), Var(v=0.0153, grad=0.5820), Var(v=0.0379, grad=-0.3164), Var(v=-0.0212, grad=0.0000), Var(v=0.1303, grad=0.0000), Var(v=0.0454, grad=1.2857), Var(v=0.0899, grad=1.4474), Var(v=-0.0837, grad=0.0000), Var(v=0.0617, grad=-0.4580), Var(v=-0.0385, grad=-0.8884), Var(v=0.0048, grad=-2.3960), Var(v=-0.0800, grad=0.0000), Var(v=0.0468, grad=0.0000), Var(v=-0.1073, grad=0.0000), Var(v=-0.0337, grad=0.0000), Var(v=-0.0303, grad=1.8101), Var(v=0.0792, grad=1.6544), Var(v=0.0416, grad=0.0000), Var(v=-0.2200, grad=0.0000), Var(v=0.2495, grad=-0.3563), Var(v=-0.0941, grad=-1.1166), Var(v=-0.0638, grad=0.0000), Var(v=-0.0273, grad=-0.6035), Var(v=-0.2020, grad=1.6955), Var(v=-0.2080, grad=0.0000), Var(v=0.1517, grad=0.2360), Var(v=-0.0736, grad=0.0000), Var(v=0.0471, grad=-1.4049), Var(v=-0.0119, grad=0.0000), Var(v=0.0821, grad=0.0000), Var(v=-0.0575, grad=0.0000), Var(v=-0.1052, grad=3.0969), Var(v=-0.1375, grad=0.0000), Var(v=0.0482, grad=0.0000), Var(v=0.1029, grad=1.9902), Var(v=-0.0969, grad=1.0900), Var(v=-0.0703, grad=0.0293), Var(v=-0.0392, grad=-0.1167), Var(v=-0.0856, grad=1.8081), Var(v=-0.0805, grad=-0.3202), Var(v=0.0819, grad=0.4153), Var(v=-0.0048, grad=0.4890), Var(v=-0.1770, grad=0.0000), Var(v=0.1238, grad=-0.0816), Var(v=-0.0867, grad=-1.2653)], [Var(v=-0.0912, grad=0.3117), Var(v=0.0614, grad=0.0000), Var(v=-0.1388, grad=0.3273), Var(v=0.0331, grad=0.0000), Var(v=-0.0945, grad=0.2857), Var(v=0.0379, grad=0.5185), Var(v=-0.1049, grad=0.0000), Var(v=-0.0592, grad=0.0000), Var(v=0.1732, grad=-0.2582), Var(v=-0.0564, grad=0.1548), Var(v=0.1264, grad=-0.3065), Var(v=-0.0604, grad=-0.3450), Var(v=0.0825, grad=-0.3286), Var(v=0.0632, grad=0.0000), Var(v=0.1314, grad=0.2118), Var(v=0.0277, grad=0.5711), Var(v=0.1759, grad=0.4980), Var(v=-0.0378, grad=0.0000), Var(v=0.0964, grad=0.3936), Var(v=-0.1080, grad=-0.1912), Var(v=-0.0904, grad=0.0000), Var(v=0.1713, grad=-0.3944), Var(v=0.0419, grad=0.0000), Var(v=-0.1303, grad=0.0000), Var(v=0.1549, grad=0.0000), Var(v=-0.0492, grad=0.0000), Var(v=-0.0239, grad=0.1625), Var(v=0.2096, grad=0.1439), Var(v=-0.1424, grad=0.0000), Var(v=0.2107, grad=0.0761), Var(v=-0.0065, grad=0.0000), Var(v=-0.0605, grad=0.0000), Var(v=0.1488, grad=0.0000), Var(v=-0.0571, grad=0.0110), Var(v=-0.0249, grad=-0.1550), Var(v=0.0925, grad=0.0000), Var(v=0.0566, grad=0.0000), Var(v=0.0343, grad=-0.0798), Var(v=-0.0458, grad=0.0000), Var(v=-0.0406, grad=0.0000), Var(v=0.0743, grad=-0.2598), Var(v=-0.0010, grad=-0.0070), Var(v=0.1013, grad=0.0278), Var(v=-0.0175, grad=0.0000), Var(v=0.1104, grad=0.0763), Var(v=-0.0298, grad=0.0000), Var(v=-0.2924, grad=0.0000), Var(v=-0.1688, grad=0.0000), Var(v=-0.0916, grad=0.0000), Var(v=0.0426, grad=0.3016)], [Var(v=0.0476, grad=0.1860), Var(v=-0.1058, grad=0.0000), Var(v=0.0639, grad=0.1953), Var(v=0.0069, grad=0.0000), Var(v=0.0873, grad=0.1705), Var(v=0.1824, grad=0.3094), Var(v=0.0601, grad=0.0000), Var(v=0.1075, grad=0.0000), Var(v=-0.0058, grad=-0.1541), Var(v=-0.2945, grad=0.0924), Var(v=0.0290, grad=-0.1829), Var(v=-0.0186, grad=-0.2059), Var(v=-0.0767, grad=-0.1961), Var(v=-0.2432, grad=0.0000), Var(v=0.0019, grad=0.1264), Var(v=0.0012, grad=0.3409), Var(v=-0.1728, grad=0.2972), Var(v=0.0361, grad=0.0000), Var(v=-0.0875, grad=0.2349), Var(v=-0.0099, grad=-0.1141), Var(v=-0.1900, grad=0.0000), Var(v=0.2115, grad=-0.2354), Var(v=-0.0147, grad=0.0000), Var(v=-0.0200, grad=0.0000), Var(v=0.0243, grad=0.0000), Var(v=-0.1452, grad=0.0000), Var(v=-0.0874, grad=0.0970), Var(v=-0.0279, grad=0.0859), Var(v=0.0071, grad=0.0000), Var(v=-0.0907, grad=0.0454), Var(v=0.0311, grad=0.0000), Var(v=0.0183, grad=0.0000), Var(v=-0.0223, grad=0.0000), Var(v=0.1645, grad=0.0066), Var(v=-0.0601, grad=-0.0925), Var(v=0.0727, grad=0.0000), Var(v=-0.1581, grad=0.0000), Var(v=-0.0663, grad=-0.0476), Var(v=-0.0594, grad=0.0000), Var(v=-0.0304, grad=0.0000), Var(v=0.0839, grad=-0.1551), Var(v=-0.0948, grad=-0.0042), Var(v=-0.0897, grad=0.0166), Var(v=-0.0505, grad=0.0000), Var(v=0.0775, grad=0.0455), Var(v=-0.0025, grad=0.0000), Var(v=-0.0691, grad=0.0000), Var(v=-0.0858, grad=0.0000), Var(v=0.0383, grad=0.0000), Var(v=-0.0613, grad=0.1800)], [Var(v=0.0386, grad=0.1772), Var(v=0.0902, grad=0.0000), Var(v=-0.1504, grad=0.1861), Var(v=0.0355, grad=0.0000), Var(v=0.1688, grad=0.1624), Var(v=0.1132, grad=0.2947), Var(v=0.1102, grad=0.0000), Var(v=-0.0849, grad=0.0000), Var(v=0.0703, grad=-0.1468), Var(v=0.0578, grad=0.0880), Var(v=-0.1248, grad=-0.1742), Var(v=-0.1058, grad=-0.1961), Var(v=0.0919, grad=-0.1868), Var(v=-0.0331, grad=0.0000), Var(v=-0.0241, grad=0.1204), Var(v=-0.0029, grad=0.3247), Var(v=-0.1225, grad=0.2831), Var(v=-0.0445, grad=0.0000), Var(v=-0.0925, grad=0.2237), Var(v=0.1863, grad=-0.1087), Var(v=-0.2136, grad=0.0000), Var(v=0.1643, grad=-0.2242), Var(v=0.1328, grad=0.0000), Var(v=0.0279, grad=0.0000), Var(v=-0.0759, grad=0.0000), Var(v=-0.1271, grad=0.0000), Var(v=-0.0323, grad=0.0924), Var(v=-0.0618, grad=0.0818), Var(v=0.1315, grad=0.0000), Var(v=0.0036, grad=0.0432), Var(v=0.0554, grad=0.0000), Var(v=-0.0501, grad=0.0000), Var(v=0.0005, grad=0.0000), Var(v=0.0835, grad=0.0062), Var(v=0.1727, grad=-0.0881), Var(v=-0.1124, grad=0.0000), Var(v=0.0463, grad=0.0000), Var(v=-0.1127, grad=-0.0454), Var(v=-0.0250, grad=0.0000), Var(v=0.0259, grad=0.0000), Var(v=0.0519, grad=-0.1477), Var(v=-0.0143, grad=-0.0040), Var(v=-0.2258, grad=0.0158), Var(v=-0.2284, grad=0.0000), Var(v=0.0595, grad=0.0434), Var(v=0.0467, grad=0.0000), Var(v=0.2131, grad=0.0000), Var(v=-0.0162, grad=0.0000), Var(v=-0.1856, grad=0.0000), Var(v=0.0120, grad=0.1715)], [Var(v=0.1033, grad=-0.7416), Var(v=-0.0477, grad=0.0000), Var(v=0.0449, grad=-0.7786), Var(v=-0.0528, grad=0.0000), Var(v=-0.0256, grad=-0.6796), Var(v=-0.1014, grad=0.0000), Var(v=0.1351, grad=0.3300), Var(v=-0.0284, grad=-0.1794), Var(v=-0.0843, grad=0.0000), Var(v=-0.0469, grad=0.0000), Var(v=0.0235, grad=0.7291), Var(v=0.1492, grad=0.8208), Var(v=-0.0404, grad=0.0000), Var(v=0.2038, grad=-0.2597), Var(v=0.1169, grad=-0.5038), Var(v=0.0817, grad=-1.3587), Var(v=-0.0831, grad=0.0000), Var(v=0.1304, grad=0.0000), Var(v=0.1853, grad=0.0000), Var(v=-0.0020, grad=0.0000), Var(v=-0.1436, grad=1.0265), Var(v=-0.0409, grad=0.9382), Var(v=-0.1966, grad=0.0000), Var(v=-0.0043, grad=0.0000), Var(v=0.0962, grad=-0.2020), Var(v=-0.0717, grad=-0.6332), Var(v=0.0899, grad=0.0000), Var(v=0.0174, grad=-0.3422), Var(v=0.0453, grad=0.9615), Var(v=0.0253, grad=0.0000), Var(v=0.1719, grad=0.1339), Var(v=0.0170, grad=0.0000), Var(v=0.0464, grad=-0.7967), Var(v=-0.0610, grad=0.0000), Var(v=-0.1853, grad=0.0000), Var(v=0.0129, grad=0.0000), Var(v=0.0923, grad=1.7562), Var(v=0.0026, grad=0.0000), Var(v=-0.2060, grad=0.0000), Var(v=0.2188, grad=1.1286), Var(v=-0.0259, grad=0.6181), Var(v=0.1410, grad=0.0166), Var(v=0.0128, grad=-0.0662), Var(v=-0.0281, grad=1.0253), Var(v=0.1374, grad=-0.1816), Var(v=0.1814, grad=0.2355), Var(v=0.0348, grad=0.2773), Var(v=0.1013, grad=0.0000), Var(v=0.1196, grad=-0.0463), Var(v=0.0842, grad=-0.7175)], [Var(v=0.1670, grad=1.6833), Var(v=-0.0454, grad=0.0000), Var(v=0.0058, grad=1.7674), Var(v=-0.0971, grad=0.0000), Var(v=0.0719, grad=1.5425), Var(v=-0.0262, grad=2.7996), Var(v=-0.1402, grad=0.0000), Var(v=0.0227, grad=0.0000), Var(v=0.0955, grad=-1.3942), Var(v=-0.0940, grad=0.8359), Var(v=-0.0511, grad=-1.6549), Var(v=0.0794, grad=-1.8630), Var(v=0.0151, grad=-1.7744), Var(v=-0.0648, grad=0.0000), Var(v=-0.0826, grad=1.1435), Var(v=0.1062, grad=3.0840), Var(v=-0.0182, grad=2.6894), Var(v=0.0151, grad=0.0000), Var(v=0.0362, grad=2.1252), Var(v=0.0717, grad=-1.0326), Var(v=-0.1498, grad=0.0000), Var(v=0.1313, grad=-2.1295), Var(v=-0.1055, grad=0.0000), Var(v=0.0838, grad=0.0000), Var(v=-0.0750, grad=0.0000), Var(v=-0.0181, grad=0.0000), Var(v=-0.0118, grad=0.8773), Var(v=0.0707, grad=0.7768), Var(v=-0.1361, grad=0.0000), Var(v=-0.0966, grad=0.4107), Var(v=0.1885, grad=0.0000), Var(v=-0.0155, grad=0.0000), Var(v=-0.0885, grad=0.0000), Var(v=0.0871, grad=0.0593), Var(v=0.1629, grad=-0.8370), Var(v=-0.0519, grad=0.0000), Var(v=-0.1074, grad=0.0000), Var(v=-0.0504, grad=-0.4309), Var(v=-0.0955, grad=0.0000), Var(v=0.0824, grad=0.0000), Var(v=0.0049, grad=-1.4031), Var(v=0.0099, grad=-0.0377), Var(v=0.0467, grad=0.1502), Var(v=-0.0615, grad=0.0000), Var(v=0.1407, grad=0.4121), Var(v=-0.0190, grad=0.0000), Var(v=0.0242, grad=0.0000), Var(v=-0.1811, grad=0.0000), Var(v=-0.0744, grad=0.0000), Var(v=0.1250, grad=1.6286)], [Var(v=-0.1324, grad=-1.0945), Var(v=0.0479, grad=0.0000), Var(v=-0.1657, grad=-1.1492), Var(v=0.0155, grad=0.0000), Var(v=-0.0385, grad=-1.0030), Var(v=-0.0252, grad=0.0000), Var(v=0.0381, grad=0.4871), Var(v=-0.0202, grad=-0.2648), Var(v=-0.1585, grad=0.0000), Var(v=-0.0068, grad=0.0000), Var(v=0.0620, grad=1.0761), Var(v=0.1386, grad=1.2114), Var(v=-0.0616, grad=0.0000), Var(v=0.0151, grad=-0.3833), Var(v=-0.0219, grad=-0.7435), Var(v=0.0641, grad=-2.0053), Var(v=-0.0217, grad=0.0000), Var(v=-0.1340, grad=0.0000), Var(v=0.0852, grad=0.0000), Var(v=-0.0336, grad=0.0000), Var(v=0.1761, grad=1.5150), Var(v=0.1366, grad=1.3847), Var(v=0.0177, grad=0.0000), Var(v=-0.0042, grad=0.0000), Var(v=-0.0031, grad=-0.2982), Var(v=0.0376, grad=-0.9346), Var(v=-0.0567, grad=0.0000), Var(v=-0.0590, grad=-0.5051), Var(v=0.0453, grad=1.4191), Var(v=-0.2138, grad=0.0000), Var(v=-0.0929, grad=0.1976), Var(v=-0.0955, grad=0.0000), Var(v=0.0918, grad=-1.1758), Var(v=0.0542, grad=0.0000), Var(v=0.0145, grad=0.0000), Var(v=-0.0155, grad=0.0000), Var(v=0.0406, grad=2.5920), Var(v=0.1131, grad=0.0000), Var(v=-0.0817, grad=0.0000), Var(v=0.1474, grad=1.6657), Var(v=0.2039, grad=0.9123), Var(v=0.0363, grad=0.0245), Var(v=0.0652, grad=-0.0977), Var(v=0.2151, grad=1.5133), Var(v=0.0539, grad=-0.2680), Var(v=-0.0609, grad=0.3476), Var(v=-0.0486, grad=0.4092), Var(v=0.0939, grad=0.0000), Var(v=-0.1229, grad=-0.0683), Var(v=0.1040, grad=-1.0590)], [Var(v=0.1432, grad=0.7289), Var(v=0.1147, grad=0.0000), Var(v=0.1341, grad=0.7653), Var(v=-0.0002, grad=0.0000), Var(v=0.0853, grad=0.6679), Var(v=-0.0125, grad=1.2123), Var(v=0.0235, grad=0.0000), Var(v=-0.0847, grad=0.0000), Var(v=0.0058, grad=-0.6037), Var(v=0.1293, grad=0.3620), Var(v=-0.1125, grad=-0.7166), Var(v=-0.1129, grad=-0.8067), Var(v=-0.0679, grad=-0.7683), Var(v=0.0612, grad=0.0000), Var(v=0.0099, grad=0.4951), Var(v=0.1576, grad=1.3354), Var(v=0.1971, grad=1.1645), Var(v=-0.2389, grad=0.0000), Var(v=0.0773, grad=0.9203), Var(v=0.0777, grad=-0.4471), Var(v=0.0443, grad=0.0000), Var(v=-0.1291, grad=-0.9221), Var(v=-0.0391, grad=0.0000), Var(v=-0.1591, grad=0.0000), Var(v=-0.1243, grad=0.0000), Var(v=0.0171, grad=0.0000), Var(v=-0.0317, grad=0.3799), Var(v=-0.0581, grad=0.3364), Var(v=-0.1199, grad=0.0000), Var(v=-0.1511, grad=0.1778), Var(v=-0.0987, grad=0.0000), Var(v=0.0503, grad=0.0000), Var(v=-0.0610, grad=0.0000), Var(v=0.0233, grad=0.0257), Var(v=0.0634, grad=-0.3625), Var(v=-0.1425, grad=0.0000), Var(v=0.0114, grad=0.0000), Var(v=0.0799, grad=-0.1866), Var(v=0.0308, grad=0.0000), Var(v=-0.0378, grad=0.0000), Var(v=0.1488, grad=-0.6076), Var(v=0.0865, grad=-0.0163), Var(v=0.0493, grad=0.0650), Var(v=0.0053, grad=0.0000), Var(v=0.0029, grad=0.1785), Var(v=-0.0787, grad=0.0000), Var(v=-0.1249, grad=0.0000), Var(v=-0.2202, grad=0.0000), Var(v=-0.0999, grad=0.0000), Var(v=-0.0079, grad=0.7052)], [Var(v=-0.0200, grad=-1.3038), Var(v=-0.0523, grad=0.0000), Var(v=-0.0213, grad=-1.3689), Var(v=0.0541, grad=0.0000), Var(v=-0.0118, grad=-1.1948), Var(v=0.0238, grad=0.0000), Var(v=-0.0998, grad=0.5802), Var(v=-0.0214, grad=-0.3155), Var(v=-0.0579, grad=0.0000), Var(v=0.0076, grad=0.0000), Var(v=0.1365, grad=1.2818), Var(v=0.1695, grad=1.4430), Var(v=-0.0502, grad=0.0000), Var(v=-0.1775, grad=-0.4566), Var(v=-0.0304, grad=-0.8857), Var(v=-0.0205, grad=-2.3887), Var(v=0.0400, grad=0.0000), Var(v=-0.1063, grad=0.0000), Var(v=-0.0382, grad=0.0000), Var(v=0.0691, grad=0.0000), Var(v=0.1552, grad=1.8046), Var(v=0.0073, grad=1.6494), Var(v=0.0024, grad=0.0000), Var(v=-0.1684, grad=0.0000), Var(v=0.0735, grad=-0.3552), Var(v=0.2104, grad=-1.1133), Var(v=-0.0660, grad=0.0000), Var(v=0.0989, grad=-0.6017), Var(v=0.0779, grad=1.6904), Var(v=0.0988, grad=0.0000), Var(v=-0.0272, grad=0.2353), Var(v=-0.1700, grad=0.0000), Var(v=-0.1506, grad=-1.4006), Var(v=0.1760, grad=0.0000), Var(v=-0.1173, grad=0.0000), Var(v=-0.0192, grad=0.0000), Var(v=0.0401, grad=3.0875), Var(v=-0.0220, grad=0.0000), Var(v=0.0528, grad=0.0000), Var(v=-0.0402, grad=1.9842), Var(v=0.1321, grad=1.0867), Var(v=0.1381, grad=0.0292), Var(v=0.0116, grad=-0.1163), Var(v=-0.0114, grad=1.8026), Var(v=-0.0190, grad=-0.3192), Var(v=0.1855, grad=0.4140), Var(v=0.1452, grad=0.4875), Var(v=0.0892, grad=0.0000), Var(v=0.0753, grad=-0.0814), Var(v=0.1473, grad=-1.2615)], [Var(v=-0.0352, grad=-0.9219), Var(v=0.0963, grad=0.0000), Var(v=-0.0985, grad=-0.9679), Var(v=0.0586, grad=0.0000), Var(v=0.0866, grad=-0.8448), Var(v=0.1483, grad=0.0000), Var(v=0.0290, grad=0.4103), Var(v=0.0065, grad=-0.2231), Var(v=0.0377, grad=0.0000), Var(v=0.0577, grad=0.0000), Var(v=0.0957, grad=0.9063), Var(v=-0.0460, grad=1.0203), Var(v=0.0858, grad=0.0000), Var(v=-0.0063, grad=-0.3228), Var(v=-0.0558, grad=-0.6262), Var(v=0.0347, grad=-1.6890), Var(v=-0.0405, grad=0.0000), Var(v=0.1067, grad=0.0000), Var(v=-0.0417, grad=0.0000), Var(v=0.0486, grad=0.0000), Var(v=0.0312, grad=1.2760), Var(v=0.0272, grad=1.1662), Var(v=-0.1296, grad=0.0000), Var(v=-0.0736, grad=0.0000), Var(v=0.0454, grad=-0.2511), Var(v=-0.0620, grad=-0.7872), Var(v=-0.0014, grad=0.0000), Var(v=-0.0878, grad=-0.4254), Var(v=-0.0543, grad=1.1952), Var(v=0.0925, grad=0.0000), Var(v=0.1402, grad=0.1664), Var(v=-0.0626, grad=0.0000), Var(v=-0.0310, grad=-0.9903), Var(v=0.0234, grad=0.0000), Var(v=0.0653, grad=0.0000), Var(v=-0.1535, grad=0.0000), Var(v=0.1286, grad=2.1831), Var(v=-0.0278, grad=0.0000), Var(v=0.0265, grad=0.0000), Var(v=0.0100, grad=1.4030), Var(v=-0.0536, grad=0.7684), Var(v=0.0358, grad=0.0207), Var(v=0.0387, grad=-0.0822), Var(v=-0.0599, grad=1.2746), Var(v=0.0537, grad=-0.2257), Var(v=0.0459, grad=0.2927), Var(v=-0.0962, grad=0.3447), Var(v=0.1197, grad=0.0000), Var(v=-0.1280, grad=-0.0575), Var(v=0.0692, grad=-0.8919)], [Var(v=-0.0156, grad=1.2933), Var(v=-0.0586, grad=0.0000), Var(v=0.0485, grad=1.3580), Var(v=0.0266, grad=0.0000), Var(v=0.0124, grad=1.1852), Var(v=-0.0079, grad=2.1511), Var(v=0.0154, grad=0.0000), Var(v=-0.1086, grad=0.0000), Var(v=0.0749, grad=-1.0712), Var(v=0.1310, grad=0.6423), Var(v=0.2051, grad=-1.2716), Var(v=-0.0729, grad=-1.4315), Var(v=0.1385, grad=-1.3633), Var(v=-0.1834, grad=0.0000), Var(v=0.0265, grad=0.8786), Var(v=-0.0469, grad=2.3696), Var(v=0.1077, grad=2.0664), Var(v=0.0127, grad=0.0000), Var(v=-0.0688, grad=1.6329), Var(v=0.0608, grad=-0.7934), Var(v=0.1203, grad=0.0000), Var(v=0.1332, grad=-1.6362), Var(v=-0.0233, grad=0.0000), Var(v=-0.0535, grad=0.0000), Var(v=-0.0383, grad=0.0000), Var(v=-0.0345, grad=0.0000), Var(v=0.1267, grad=0.6741), Var(v=-0.0157, grad=0.5968), Var(v=0.1406, grad=0.0000), Var(v=0.1392, grad=0.3155), Var(v=-0.0978, grad=0.0000), Var(v=-0.1448, grad=0.0000), Var(v=-0.1689, grad=0.0000), Var(v=0.0395, grad=0.0456), Var(v=0.2053, grad=-0.6431), Var(v=-0.0967, grad=0.0000), Var(v=-0.0852, grad=0.0000), Var(v=-0.0634, grad=-0.3311), Var(v=-0.0195, grad=0.0000), Var(v=-0.0983, grad=0.0000), Var(v=0.0013, grad=-1.0780), Var(v=0.0935, grad=-0.0290), Var(v=0.1907, grad=0.1154), Var(v=-0.0860, grad=0.0000), Var(v=-0.0457, grad=0.3166), Var(v=-0.1017, grad=0.0000), Var(v=0.1587, grad=0.0000), Var(v=-0.0456, grad=0.0000), Var(v=-0.0524, grad=0.0000), Var(v=-0.0108, grad=1.2514)], [Var(v=0.2612, grad=-1.2951), Var(v=0.0310, grad=0.0000), Var(v=0.1791, grad=-1.3598), Var(v=-0.2341, grad=0.0000), Var(v=0.0185, grad=-1.1868), Var(v=-0.0623, grad=0.0000), Var(v=-0.0113, grad=0.5764), Var(v=0.1344, grad=-0.3134), Var(v=0.0229, grad=0.0000), Var(v=-0.0253, grad=0.0000), Var(v=-0.0651, grad=1.2733), Var(v=-0.0518, grad=1.4334), Var(v=-0.0372, grad=0.0000), Var(v=0.0881, grad=-0.4535), Var(v=0.0148, grad=-0.8798), Var(v=0.0180, grad=-2.3729), Var(v=-0.0087, grad=0.0000), Var(v=-0.1133, grad=0.0000), Var(v=0.0251, grad=0.0000), Var(v=-0.0153, grad=0.0000), Var(v=0.1911, grad=1.7927), Var(v=0.0183, grad=1.6384), Var(v=0.1253, grad=0.0000), Var(v=-0.0391, grad=0.0000), Var(v=0.0698, grad=-0.3528), Var(v=0.0785, grad=-1.1059), Var(v=-0.0756, grad=0.0000), Var(v=0.1037, grad=-0.5977), Var(v=0.3295, grad=1.6792), Var(v=0.0578, grad=0.0000), Var(v=-0.1084, grad=0.2338), Var(v=0.0206, grad=0.0000), Var(v=0.0819, grad=-1.3913), Var(v=0.0249, grad=0.0000), Var(v=-0.0898, grad=0.0000), Var(v=0.0565, grad=0.0000), Var(v=-0.0600, grad=3.0670), Var(v=-0.0108, grad=0.0000), Var(v=-0.1837, grad=0.0000), Var(v=-0.0433, grad=1.9710), Var(v=0.0268, grad=1.0795), Var(v=0.0118, grad=0.0290), Var(v=-0.0621, grad=-0.1155), Var(v=0.0712, grad=1.7907), Var(v=0.0256, grad=-0.3171), Var(v=0.1223, grad=0.4113), Var(v=-0.0137, grad=0.4843), Var(v=-0.0632, grad=0.0000), Var(v=0.0449, grad=-0.0808), Var(v=0.0918, grad=-1.2531)], [Var(v=0.0654, grad=-1.8144), Var(v=-0.3258, grad=0.0000), Var(v=0.0718, grad=-1.9050), Var(v=0.0343, grad=0.0000), Var(v=-0.0506, grad=-1.6627), Var(v=-0.0457, grad=0.0000), Var(v=0.0939, grad=0.8075), Var(v=0.0913, grad=-0.4390), Var(v=-0.0724, grad=0.0000), Var(v=-0.1451, grad=0.0000), Var(v=0.0134, grad=1.7838), Var(v=-0.0494, grad=2.0081), Var(v=-0.0684, grad=0.0000), Var(v=-0.0357, grad=-0.6354), Var(v=0.0141, grad=-1.2325), Var(v=0.0190, grad=-3.3242), Var(v=-0.1038, grad=0.0000), Var(v=0.0714, grad=0.0000), Var(v=-0.0572, grad=0.0000), Var(v=-0.0590, grad=0.0000), Var(v=0.0682, grad=2.5114), Var(v=-0.0318, grad=2.2954), Var(v=-0.1355, grad=0.0000), Var(v=-0.0292, grad=0.0000), Var(v=0.1161, grad=-0.4943), Var(v=-0.0523, grad=-1.5493), Var(v=-0.0118, grad=0.0000), Var(v=0.0196, grad=-0.8373), Var(v=-0.0392, grad=2.3524), Var(v=0.1242, grad=0.0000), Var(v=0.0169, grad=0.3275), Var(v=-0.0170, grad=0.0000), Var(v=0.0162, grad=-1.9491), Var(v=-0.1774, grad=0.0000), Var(v=-0.0243, grad=0.0000), Var(v=-0.0093, grad=0.0000), Var(v=-0.0000, grad=4.2967), Var(v=0.0870, grad=0.0000), Var(v=0.0295, grad=0.0000), Var(v=0.0088, grad=2.7613), Var(v=0.1048, grad=1.5123), Var(v=0.2056, grad=0.0406), Var(v=0.0951, grad=-0.1619), Var(v=0.0707, grad=2.5086), Var(v=0.0425, grad=-0.4442), Var(v=0.0595, grad=0.5761), Var(v=0.1899, grad=0.6784), Var(v=-0.2108, grad=0.0000), Var(v=0.0273, grad=-0.1132), Var(v=-0.1235, grad=-1.7555)]] Biases: [Var(v=0.0000, grad=-0.0881), Var(v=0.0000, grad=0.0000), Var(v=0.0000, grad=-0.0925), Var(v=0.0000, grad=0.0000), Var(v=0.0000, grad=-0.0807), Var(v=0.0000, grad=14.0455), Var(v=0.0000, grad=3.7975), Var(v=0.0000, grad=-2.0647), Var(v=0.0000, grad=-6.9947), Var(v=0.0000, grad=4.1938), Var(v=0.0000, grad=0.0866), Var(v=0.0000, grad=0.0975), Var(v=0.0000, grad=-8.9019), Var(v=0.0000, grad=-2.9882), Var(v=0.0000, grad=-0.0598), Var(v=0.0000, grad=-0.1614), Var(v=0.0000, grad=13.4924), Var(v=0.0000, grad=0.0000), Var(v=0.0000, grad=10.6621), Var(v=0.0000, grad=-5.1804), Var(v=0.0000, grad=11.8110), Var(v=0.0000, grad=0.1114), Var(v=0.0000, grad=0.0000), Var(v=0.0000, grad=0.0000), Var(v=0.0000, grad=-2.3246), Var(v=0.0000, grad=-7.2861), Var(v=0.0000, grad=4.4015), Var(v=0.0000, grad=-0.0406), Var(v=0.0000, grad=11.0635), Var(v=0.0000, grad=2.0604), Var(v=0.0000, grad=1.5402), Var(v=0.0000, grad=0.0000), Var(v=0.0000, grad=-9.1668), Var(v=0.0000, grad=0.2975), Var(v=0.0000, grad=-4.1994), Var(v=0.0000, grad=0.0000), Var(v=0.0000, grad=20.2073), Var(v=0.0000, grad=-2.1620), Var(v=0.0000, grad=0.0000), Var(v=0.0000, grad=12.9862), Var(v=0.0000, grad=0.0734), Var(v=0.0000, grad=0.0020), Var(v=0.0000, grad=-0.0079), Var(v=0.0000, grad=11.7978), Var(v=0.0000, grad=-0.0216), Var(v=0.0000, grad=2.7096), Var(v=0.0000, grad=3.1905), Var(v=0.0000, grad=0.0000), Var(v=0.0000, grad=-0.5324), Var(v=0.0000, grad=-0.0852)]\n",
      "Layer 2 \n",
      " Weights: [[Var(v=0.0953, grad=0.2519)], [Var(v=0.0168, grad=0.0000)], [Var(v=0.1001, grad=-0.4900)], [Var(v=-0.0656, grad=0.0000)], [Var(v=0.0873, grad=2.0534)], [Var(v=0.1585, grad=0.8076)], [Var(v=-0.0424, grad=-1.7752)], [Var(v=0.0231, grad=-3.8241)], [Var(v=-0.0789, grad=0.1004)], [Var(v=0.0473, grad=2.8729)], [Var(v=-0.0937, grad=-3.3325)], [Var(v=-0.1055, grad=-4.4847)], [Var(v=-0.1005, grad=1.4724)], [Var(v=0.0334, grad=-0.9231)], [Var(v=0.0647, grad=0.5540)], [Var(v=0.1746, grad=1.9691)], [Var(v=0.1523, grad=0.5722)], [Var(v=0.0747, grad=0.0000)], [Var(v=0.1203, grad=2.1708)], [Var(v=-0.0585, grad=0.7400)], [Var(v=-0.1319, grad=-6.7278)], [Var(v=-0.1206, grad=1.0501)], [Var(v=0.0183, grad=0.0000)], [Var(v=0.0887, grad=0.0000)], [Var(v=0.0260, grad=-9.0374)], [Var(v=0.0814, grad=-1.0887)], [Var(v=0.0497, grad=0.3885)], [Var(v=0.0440, grad=0.7498)], [Var(v=-0.1236, grad=-2.0482)], [Var(v=0.0233, grad=0.0990)], [Var(v=-0.0172, grad=-2.5895)], [Var(v=0.0649, grad=0.0000)], [Var(v=0.1024, grad=-0.9728)], [Var(v=0.0034, grad=0.7709)], [Var(v=-0.0474, grad=6.5685)], [Var(v=0.0773, grad=0.0000)], [Var(v=-0.2257, grad=-0.4045)], [Var(v=-0.0244, grad=0.9852)], [Var(v=-0.0248, grad=0.0000)], [Var(v=-0.1451, grad=-4.1666)], [Var(v=-0.0794, grad=-3.8714)], [Var(v=-0.0021, grad=-4.3096)], [Var(v=0.0085, grad=-0.4908)], [Var(v=-0.1318, grad=-3.2519)], [Var(v=0.0233, grad=-0.0212)], [Var(v=-0.0303, grad=-7.6070)], [Var(v=-0.0356, grad=-3.1676)], [Var(v=-0.0944, grad=0.0000)], [Var(v=0.0059, grad=-2.5575)], [Var(v=0.0922, grad=1.4858)]] Biases: [Var(v=0.0000, grad=-0.9240)]\n",
      "\n",
      "Network after update:\n",
      "Layer 0 \n",
      " Weights: [[Var(v=0.0251, grad=2.0764), Var(v=-0.0536, grad=-8.0717), Var(v=0.1703, grad=-3.8712), Var(v=-0.0365, grad=0.2922), Var(v=-0.0534, grad=3.3369), Var(v=-0.0614, grad=4.2276), Var(v=0.0662, grad=0.8461), Var(v=-0.1762, grad=-0.5043), Var(v=-0.0355, grad=14.5582), Var(v=0.0397, grad=-11.8143), Var(v=0.0523, grad=7.8892), Var(v=0.0596, grad=3.3125), Var(v=-0.1781, grad=3.8857), Var(v=0.1672, grad=-3.6882), Var(v=0.1590, grad=2.3519)]] Biases: [Var(v=-0.0178, grad=1.7828), Var(v=-0.0734, grad=7.3387), Var(v=0.0332, grad=-3.3237), Var(v=0.0027, grad=-0.2657), Var(v=0.0303, grad=-3.0339), Var(v=0.0384, grad=-3.8437), Var(v=-0.0073, grad=0.7264), Var(v=-0.0046, grad=0.4585), Var(v=-0.1250, grad=12.4995), Var(v=-0.1074, grad=10.7414), Var(v=-0.0677, grad=6.7736), Var(v=-0.0284, grad=2.8441), Var(v=0.0353, grad=-3.5328), Var(v=0.0317, grad=-3.1667), Var(v=-0.0202, grad=2.0193)]\n",
      "Layer 1 \n",
      " Weights: [[Var(v=-0.0531, grad=-0.4557), Var(v=0.0172, grad=0.0000), Var(v=0.0528, grad=-0.4784), Var(v=0.0254, grad=0.0000), Var(v=-0.0258, grad=-0.4176), Var(v=-0.1271, grad=0.0000), Var(v=-0.1008, grad=0.2028), Var(v=0.0894, grad=-0.1103), Var(v=0.0157, grad=0.0000), Var(v=-0.0561, grad=0.0000), Var(v=-0.0047, grad=0.4480), Var(v=0.0944, grad=0.5043), Var(v=-0.0745, grad=0.0000), Var(v=0.0619, grad=-0.1596), Var(v=0.1288, grad=-0.3095), Var(v=-0.0956, grad=-0.8349), Var(v=-0.0065, grad=0.0000), Var(v=-0.0858, grad=0.0000), Var(v=-0.0104, grad=0.0000), Var(v=0.0499, grad=0.0000), Var(v=-0.0232, grad=0.6307), Var(v=-0.0527, grad=0.5765), Var(v=0.0334, grad=0.0000), Var(v=-0.0479, grad=0.0000), Var(v=0.0635, grad=-0.1241), Var(v=0.0368, grad=-0.3891), Var(v=0.0124, grad=0.0000), Var(v=-0.1036, grad=-0.2103), Var(v=-0.0735, grad=0.5908), Var(v=-0.1179, grad=0.0000), Var(v=0.0839, grad=0.0822), Var(v=-0.1350, grad=0.0000), Var(v=-0.0269, grad=-0.4895), Var(v=0.0635, grad=0.0000), Var(v=-0.0674, grad=0.0000), Var(v=0.0184, grad=0.0000), Var(v=-0.0766, grad=1.0791), Var(v=-0.1517, grad=0.0000), Var(v=-0.1233, grad=0.0000), Var(v=0.0418, grad=0.6935), Var(v=-0.0250, grad=0.3798), Var(v=-0.1372, grad=0.0102), Var(v=0.0412, grad=-0.0407), Var(v=0.1186, grad=0.6300), Var(v=0.1706, grad=-0.1116), Var(v=-0.0023, grad=0.1447), Var(v=-0.2031, grad=0.1704), Var(v=-0.0198, grad=0.0000), Var(v=0.0876, grad=-0.0284), Var(v=-0.2219, grad=-0.4409)], [Var(v=0.0027, grad=1.2479), Var(v=-0.0386, grad=0.0000), Var(v=-0.0627, grad=1.3102), Var(v=-0.1148, grad=0.0000), Var(v=0.0681, grad=1.1435), Var(v=0.0390, grad=2.0755), Var(v=0.0523, grad=0.0000), Var(v=-0.0313, grad=0.0000), Var(v=-0.2441, grad=-1.0336), Var(v=0.1786, grad=0.6197), Var(v=-0.0572, grad=-1.2269), Var(v=0.0970, grad=-1.3811), Var(v=-0.0209, grad=-1.3154), Var(v=-0.0960, grad=0.0000), Var(v=0.1011, grad=0.8477), Var(v=0.0566, grad=2.2863), Var(v=-0.1792, grad=1.9937), Var(v=0.0646, grad=0.0000), Var(v=0.1294, grad=1.5755), Var(v=-0.1389, grad=-0.7655), Var(v=0.0110, grad=0.0000), Var(v=-0.0796, grad=-1.5787), Var(v=-0.1513, grad=0.0000), Var(v=0.0519, grad=0.0000), Var(v=0.0238, grad=0.0000), Var(v=0.0146, grad=0.0000), Var(v=-0.0502, grad=0.6504), Var(v=0.0330, grad=0.5759), Var(v=-0.2682, grad=0.0000), Var(v=0.0391, grad=0.3045), Var(v=-0.1315, grad=0.0000), Var(v=0.1228, grad=0.0000), Var(v=0.0751, grad=0.0000), Var(v=-0.1358, grad=0.0440), Var(v=0.0290, grad=-0.6205), Var(v=0.2114, grad=0.0000), Var(v=0.0286, grad=0.0000), Var(v=0.1827, grad=-0.3195), Var(v=-0.0975, grad=0.0000), Var(v=-0.1769, grad=0.0000), Var(v=-0.0859, grad=-1.0401), Var(v=0.0005, grad=-0.0280), Var(v=-0.1547, grad=0.1113), Var(v=-0.0082, grad=0.0000), Var(v=0.0182, grad=0.3055), Var(v=0.0957, grad=0.0000), Var(v=-0.1529, grad=0.0000), Var(v=0.0120, grad=0.0000), Var(v=0.1314, grad=0.0000), Var(v=0.0338, grad=1.2074)], [Var(v=0.0465, grad=-1.3077), Var(v=-0.0485, grad=0.0000), Var(v=-0.0018, grad=-1.3731), Var(v=-0.0335, grad=0.0000), Var(v=0.1631, grad=-1.1984), Var(v=0.0877, grad=0.0000), Var(v=0.0095, grad=0.5820), Var(v=0.0411, grad=-0.3164), Var(v=-0.0212, grad=0.0000), Var(v=0.1303, grad=0.0000), Var(v=0.0326, grad=1.2857), Var(v=0.0754, grad=1.4474), Var(v=-0.0837, grad=0.0000), Var(v=0.0663, grad=-0.4580), Var(v=-0.0296, grad=-0.8884), Var(v=0.0287, grad=-2.3960), Var(v=-0.0800, grad=0.0000), Var(v=0.0468, grad=0.0000), Var(v=-0.1073, grad=0.0000), Var(v=-0.0337, grad=0.0000), Var(v=-0.0484, grad=1.8101), Var(v=0.0626, grad=1.6544), Var(v=0.0416, grad=0.0000), Var(v=-0.2200, grad=0.0000), Var(v=0.2531, grad=-0.3563), Var(v=-0.0829, grad=-1.1166), Var(v=-0.0638, grad=0.0000), Var(v=-0.0212, grad=-0.6035), Var(v=-0.2190, grad=1.6955), Var(v=-0.2080, grad=0.0000), Var(v=0.1494, grad=0.2360), Var(v=-0.0736, grad=0.0000), Var(v=0.0611, grad=-1.4049), Var(v=-0.0119, grad=0.0000), Var(v=0.0821, grad=0.0000), Var(v=-0.0575, grad=0.0000), Var(v=-0.1361, grad=3.0969), Var(v=-0.1375, grad=0.0000), Var(v=0.0482, grad=0.0000), Var(v=0.0830, grad=1.9902), Var(v=-0.1078, grad=1.0900), Var(v=-0.0706, grad=0.0293), Var(v=-0.0380, grad=-0.1167), Var(v=-0.1037, grad=1.8081), Var(v=-0.0773, grad=-0.3202), Var(v=0.0777, grad=0.4153), Var(v=-0.0097, grad=0.4890), Var(v=-0.1770, grad=0.0000), Var(v=0.1247, grad=-0.0816), Var(v=-0.0740, grad=-1.2653)], [Var(v=-0.0943, grad=0.3117), Var(v=0.0614, grad=0.0000), Var(v=-0.1421, grad=0.3273), Var(v=0.0331, grad=0.0000), Var(v=-0.0974, grad=0.2857), Var(v=0.0327, grad=0.5185), Var(v=-0.1049, grad=0.0000), Var(v=-0.0592, grad=0.0000), Var(v=0.1758, grad=-0.2582), Var(v=-0.0580, grad=0.1548), Var(v=0.1294, grad=-0.3065), Var(v=-0.0570, grad=-0.3450), Var(v=0.0858, grad=-0.3286), Var(v=0.0632, grad=0.0000), Var(v=0.1292, grad=0.2118), Var(v=0.0219, grad=0.5711), Var(v=0.1709, grad=0.4980), Var(v=-0.0378, grad=0.0000), Var(v=0.0925, grad=0.3936), Var(v=-0.1061, grad=-0.1912), Var(v=-0.0904, grad=0.0000), Var(v=0.1752, grad=-0.3944), Var(v=0.0419, grad=0.0000), Var(v=-0.1303, grad=0.0000), Var(v=0.1549, grad=0.0000), Var(v=-0.0492, grad=0.0000), Var(v=-0.0255, grad=0.1625), Var(v=0.2082, grad=0.1439), Var(v=-0.1424, grad=0.0000), Var(v=0.2099, grad=0.0761), Var(v=-0.0065, grad=0.0000), Var(v=-0.0605, grad=0.0000), Var(v=0.1488, grad=0.0000), Var(v=-0.0572, grad=0.0110), Var(v=-0.0234, grad=-0.1550), Var(v=0.0925, grad=0.0000), Var(v=0.0566, grad=0.0000), Var(v=0.0351, grad=-0.0798), Var(v=-0.0458, grad=0.0000), Var(v=-0.0406, grad=0.0000), Var(v=0.0769, grad=-0.2598), Var(v=-0.0010, grad=-0.0070), Var(v=0.1010, grad=0.0278), Var(v=-0.0175, grad=0.0000), Var(v=0.1097, grad=0.0763), Var(v=-0.0298, grad=0.0000), Var(v=-0.2924, grad=0.0000), Var(v=-0.1688, grad=0.0000), Var(v=-0.0916, grad=0.0000), Var(v=0.0396, grad=0.3016)], [Var(v=0.0457, grad=0.1860), Var(v=-0.1058, grad=0.0000), Var(v=0.0620, grad=0.1953), Var(v=0.0069, grad=0.0000), Var(v=0.0856, grad=0.1705), Var(v=0.1793, grad=0.3094), Var(v=0.0601, grad=0.0000), Var(v=0.1075, grad=0.0000), Var(v=-0.0042, grad=-0.1541), Var(v=-0.2954, grad=0.0924), Var(v=0.0309, grad=-0.1829), Var(v=-0.0165, grad=-0.2059), Var(v=-0.0747, grad=-0.1961), Var(v=-0.2432, grad=0.0000), Var(v=0.0007, grad=0.1264), Var(v=-0.0022, grad=0.3409), Var(v=-0.1758, grad=0.2972), Var(v=0.0361, grad=0.0000), Var(v=-0.0899, grad=0.2349), Var(v=-0.0087, grad=-0.1141), Var(v=-0.1900, grad=0.0000), Var(v=0.2138, grad=-0.2354), Var(v=-0.0147, grad=0.0000), Var(v=-0.0200, grad=0.0000), Var(v=0.0243, grad=0.0000), Var(v=-0.1452, grad=0.0000), Var(v=-0.0884, grad=0.0970), Var(v=-0.0288, grad=0.0859), Var(v=0.0071, grad=0.0000), Var(v=-0.0911, grad=0.0454), Var(v=0.0311, grad=0.0000), Var(v=0.0183, grad=0.0000), Var(v=-0.0223, grad=0.0000), Var(v=0.1644, grad=0.0066), Var(v=-0.0592, grad=-0.0925), Var(v=0.0727, grad=0.0000), Var(v=-0.1581, grad=0.0000), Var(v=-0.0658, grad=-0.0476), Var(v=-0.0594, grad=0.0000), Var(v=-0.0304, grad=0.0000), Var(v=0.0855, grad=-0.1551), Var(v=-0.0947, grad=-0.0042), Var(v=-0.0898, grad=0.0166), Var(v=-0.0505, grad=0.0000), Var(v=0.0770, grad=0.0455), Var(v=-0.0025, grad=0.0000), Var(v=-0.0691, grad=0.0000), Var(v=-0.0858, grad=0.0000), Var(v=0.0383, grad=0.0000), Var(v=-0.0631, grad=0.1800)], [Var(v=0.0368, grad=0.1772), Var(v=0.0902, grad=0.0000), Var(v=-0.1523, grad=0.1861), Var(v=0.0355, grad=0.0000), Var(v=0.1671, grad=0.1624), Var(v=0.1102, grad=0.2947), Var(v=0.1102, grad=0.0000), Var(v=-0.0849, grad=0.0000), Var(v=0.0718, grad=-0.1468), Var(v=0.0569, grad=0.0880), Var(v=-0.1231, grad=-0.1742), Var(v=-0.1038, grad=-0.1961), Var(v=0.0938, grad=-0.1868), Var(v=-0.0331, grad=0.0000), Var(v=-0.0253, grad=0.1204), Var(v=-0.0061, grad=0.3247), Var(v=-0.1254, grad=0.2831), Var(v=-0.0445, grad=0.0000), Var(v=-0.0948, grad=0.2237), Var(v=0.1874, grad=-0.1087), Var(v=-0.2136, grad=0.0000), Var(v=0.1666, grad=-0.2242), Var(v=0.1328, grad=0.0000), Var(v=0.0279, grad=0.0000), Var(v=-0.0759, grad=0.0000), Var(v=-0.1271, grad=0.0000), Var(v=-0.0332, grad=0.0924), Var(v=-0.0626, grad=0.0818), Var(v=0.1315, grad=0.0000), Var(v=0.0032, grad=0.0432), Var(v=0.0554, grad=0.0000), Var(v=-0.0501, grad=0.0000), Var(v=0.0005, grad=0.0000), Var(v=0.0835, grad=0.0062), Var(v=0.1736, grad=-0.0881), Var(v=-0.1124, grad=0.0000), Var(v=0.0463, grad=0.0000), Var(v=-0.1123, grad=-0.0454), Var(v=-0.0250, grad=0.0000), Var(v=0.0259, grad=0.0000), Var(v=0.0534, grad=-0.1477), Var(v=-0.0142, grad=-0.0040), Var(v=-0.2260, grad=0.0158), Var(v=-0.2284, grad=0.0000), Var(v=0.0591, grad=0.0434), Var(v=0.0467, grad=0.0000), Var(v=0.2131, grad=0.0000), Var(v=-0.0162, grad=0.0000), Var(v=-0.1856, grad=0.0000), Var(v=0.0102, grad=0.1715)], [Var(v=0.1108, grad=-0.7416), Var(v=-0.0477, grad=0.0000), Var(v=0.0527, grad=-0.7786), Var(v=-0.0528, grad=0.0000), Var(v=-0.0188, grad=-0.6796), Var(v=-0.1014, grad=0.0000), Var(v=0.1318, grad=0.3300), Var(v=-0.0266, grad=-0.1794), Var(v=-0.0843, grad=0.0000), Var(v=-0.0469, grad=0.0000), Var(v=0.0162, grad=0.7291), Var(v=0.1410, grad=0.8208), Var(v=-0.0404, grad=0.0000), Var(v=0.2064, grad=-0.2597), Var(v=0.1220, grad=-0.5038), Var(v=0.0953, grad=-1.3587), Var(v=-0.0831, grad=0.0000), Var(v=0.1304, grad=0.0000), Var(v=0.1853, grad=0.0000), Var(v=-0.0020, grad=0.0000), Var(v=-0.1539, grad=1.0265), Var(v=-0.0503, grad=0.9382), Var(v=-0.1966, grad=0.0000), Var(v=-0.0043, grad=0.0000), Var(v=0.0982, grad=-0.2020), Var(v=-0.0654, grad=-0.6332), Var(v=0.0899, grad=0.0000), Var(v=0.0208, grad=-0.3422), Var(v=0.0356, grad=0.9615), Var(v=0.0253, grad=0.0000), Var(v=0.1705, grad=0.1339), Var(v=0.0170, grad=0.0000), Var(v=0.0544, grad=-0.7967), Var(v=-0.0610, grad=0.0000), Var(v=-0.1853, grad=0.0000), Var(v=0.0129, grad=0.0000), Var(v=0.0748, grad=1.7562), Var(v=0.0026, grad=0.0000), Var(v=-0.2060, grad=0.0000), Var(v=0.2075, grad=1.1286), Var(v=-0.0320, grad=0.6181), Var(v=0.1408, grad=0.0166), Var(v=0.0135, grad=-0.0662), Var(v=-0.0384, grad=1.0253), Var(v=0.1392, grad=-0.1816), Var(v=0.1790, grad=0.2355), Var(v=0.0320, grad=0.2773), Var(v=0.1013, grad=0.0000), Var(v=0.1201, grad=-0.0463), Var(v=0.0914, grad=-0.7175)], [Var(v=0.1502, grad=1.6833), Var(v=-0.0454, grad=0.0000), Var(v=-0.0119, grad=1.7674), Var(v=-0.0971, grad=0.0000), Var(v=0.0565, grad=1.5425), Var(v=-0.0542, grad=2.7996), Var(v=-0.1402, grad=0.0000), Var(v=0.0227, grad=0.0000), Var(v=0.1094, grad=-1.3942), Var(v=-0.1024, grad=0.8359), Var(v=-0.0345, grad=-1.6549), Var(v=0.0980, grad=-1.8630), Var(v=0.0329, grad=-1.7744), Var(v=-0.0648, grad=0.0000), Var(v=-0.0940, grad=1.1435), Var(v=0.0753, grad=3.0840), Var(v=-0.0450, grad=2.6894), Var(v=0.0151, grad=0.0000), Var(v=0.0150, grad=2.1252), Var(v=0.0820, grad=-1.0326), Var(v=-0.1498, grad=0.0000), Var(v=0.1526, grad=-2.1295), Var(v=-0.1055, grad=0.0000), Var(v=0.0838, grad=0.0000), Var(v=-0.0750, grad=0.0000), Var(v=-0.0181, grad=0.0000), Var(v=-0.0206, grad=0.8773), Var(v=0.0629, grad=0.7768), Var(v=-0.1361, grad=0.0000), Var(v=-0.1007, grad=0.4107), Var(v=0.1885, grad=0.0000), Var(v=-0.0155, grad=0.0000), Var(v=-0.0885, grad=0.0000), Var(v=0.0865, grad=0.0593), Var(v=0.1713, grad=-0.8370), Var(v=-0.0519, grad=0.0000), Var(v=-0.1074, grad=0.0000), Var(v=-0.0460, grad=-0.4309), Var(v=-0.0955, grad=0.0000), Var(v=0.0824, grad=0.0000), Var(v=0.0189, grad=-1.4031), Var(v=0.0103, grad=-0.0377), Var(v=0.0452, grad=0.1502), Var(v=-0.0615, grad=0.0000), Var(v=0.1366, grad=0.4121), Var(v=-0.0190, grad=0.0000), Var(v=0.0242, grad=0.0000), Var(v=-0.1811, grad=0.0000), Var(v=-0.0744, grad=0.0000), Var(v=0.1087, grad=1.6286)], [Var(v=-0.1214, grad=-1.0945), Var(v=0.0479, grad=0.0000), Var(v=-0.1542, grad=-1.1492), Var(v=0.0155, grad=0.0000), Var(v=-0.0285, grad=-1.0030), Var(v=-0.0252, grad=0.0000), Var(v=0.0332, grad=0.4871), Var(v=-0.0175, grad=-0.2648), Var(v=-0.1585, grad=0.0000), Var(v=-0.0068, grad=0.0000), Var(v=0.0512, grad=1.0761), Var(v=0.1265, grad=1.2114), Var(v=-0.0616, grad=0.0000), Var(v=0.0189, grad=-0.3833), Var(v=-0.0144, grad=-0.7435), Var(v=0.0842, grad=-2.0053), Var(v=-0.0217, grad=0.0000), Var(v=-0.1340, grad=0.0000), Var(v=0.0852, grad=0.0000), Var(v=-0.0336, grad=0.0000), Var(v=0.1610, grad=1.5150), Var(v=0.1227, grad=1.3847), Var(v=0.0177, grad=0.0000), Var(v=-0.0042, grad=0.0000), Var(v=-0.0001, grad=-0.2982), Var(v=0.0469, grad=-0.9346), Var(v=-0.0567, grad=0.0000), Var(v=-0.0539, grad=-0.5051), Var(v=0.0311, grad=1.4191), Var(v=-0.2138, grad=0.0000), Var(v=-0.0949, grad=0.1976), Var(v=-0.0955, grad=0.0000), Var(v=0.1036, grad=-1.1758), Var(v=0.0542, grad=0.0000), Var(v=0.0145, grad=0.0000), Var(v=-0.0155, grad=0.0000), Var(v=0.0147, grad=2.5920), Var(v=0.1131, grad=0.0000), Var(v=-0.0817, grad=0.0000), Var(v=0.1307, grad=1.6657), Var(v=0.1948, grad=0.9123), Var(v=0.0360, grad=0.0245), Var(v=0.0662, grad=-0.0977), Var(v=0.2000, grad=1.5133), Var(v=0.0566, grad=-0.2680), Var(v=-0.0644, grad=0.3476), Var(v=-0.0527, grad=0.4092), Var(v=0.0939, grad=0.0000), Var(v=-0.1222, grad=-0.0683), Var(v=0.1146, grad=-1.0590)], [Var(v=0.1359, grad=0.7289), Var(v=0.1147, grad=0.0000), Var(v=0.1264, grad=0.7653), Var(v=-0.0002, grad=0.0000), Var(v=0.0786, grad=0.6679), Var(v=-0.0246, grad=1.2123), Var(v=0.0235, grad=0.0000), Var(v=-0.0847, grad=0.0000), Var(v=0.0118, grad=-0.6037), Var(v=0.1257, grad=0.3620), Var(v=-0.1053, grad=-0.7166), Var(v=-0.1049, grad=-0.8067), Var(v=-0.0602, grad=-0.7683), Var(v=0.0612, grad=0.0000), Var(v=0.0050, grad=0.4951), Var(v=0.1442, grad=1.3354), Var(v=0.1854, grad=1.1645), Var(v=-0.2389, grad=0.0000), Var(v=0.0681, grad=0.9203), Var(v=0.0822, grad=-0.4471), Var(v=0.0443, grad=0.0000), Var(v=-0.1199, grad=-0.9221), Var(v=-0.0391, grad=0.0000), Var(v=-0.1591, grad=0.0000), Var(v=-0.1243, grad=0.0000), Var(v=0.0171, grad=0.0000), Var(v=-0.0355, grad=0.3799), Var(v=-0.0614, grad=0.3364), Var(v=-0.1199, grad=0.0000), Var(v=-0.1529, grad=0.1778), Var(v=-0.0987, grad=0.0000), Var(v=0.0503, grad=0.0000), Var(v=-0.0610, grad=0.0000), Var(v=0.0231, grad=0.0257), Var(v=0.0670, grad=-0.3625), Var(v=-0.1425, grad=0.0000), Var(v=0.0114, grad=0.0000), Var(v=0.0818, grad=-0.1866), Var(v=0.0308, grad=0.0000), Var(v=-0.0378, grad=0.0000), Var(v=0.1549, grad=-0.6076), Var(v=0.0867, grad=-0.0163), Var(v=0.0486, grad=0.0650), Var(v=0.0053, grad=0.0000), Var(v=0.0011, grad=0.1785), Var(v=-0.0787, grad=0.0000), Var(v=-0.1249, grad=0.0000), Var(v=-0.2202, grad=0.0000), Var(v=-0.0999, grad=0.0000), Var(v=-0.0149, grad=0.7052)], [Var(v=-0.0070, grad=-1.3038), Var(v=-0.0523, grad=0.0000), Var(v=-0.0076, grad=-1.3689), Var(v=0.0541, grad=0.0000), Var(v=0.0002, grad=-1.1948), Var(v=0.0238, grad=0.0000), Var(v=-0.1056, grad=0.5802), Var(v=-0.0183, grad=-0.3155), Var(v=-0.0579, grad=0.0000), Var(v=0.0076, grad=0.0000), Var(v=0.1237, grad=1.2818), Var(v=0.1551, grad=1.4430), Var(v=-0.0502, grad=0.0000), Var(v=-0.1729, grad=-0.4566), Var(v=-0.0215, grad=-0.8857), Var(v=0.0034, grad=-2.3887), Var(v=0.0400, grad=0.0000), Var(v=-0.1063, grad=0.0000), Var(v=-0.0382, grad=0.0000), Var(v=0.0691, grad=0.0000), Var(v=0.1372, grad=1.8046), Var(v=-0.0091, grad=1.6494), Var(v=0.0024, grad=0.0000), Var(v=-0.1684, grad=0.0000), Var(v=0.0771, grad=-0.3552), Var(v=0.2216, grad=-1.1133), Var(v=-0.0660, grad=0.0000), Var(v=0.1049, grad=-0.6017), Var(v=0.0610, grad=1.6904), Var(v=0.0988, grad=0.0000), Var(v=-0.0295, grad=0.2353), Var(v=-0.1700, grad=0.0000), Var(v=-0.1366, grad=-1.4006), Var(v=0.1760, grad=0.0000), Var(v=-0.1173, grad=0.0000), Var(v=-0.0192, grad=0.0000), Var(v=0.0092, grad=3.0875), Var(v=-0.0220, grad=0.0000), Var(v=0.0528, grad=0.0000), Var(v=-0.0600, grad=1.9842), Var(v=0.1212, grad=1.0867), Var(v=0.1378, grad=0.0292), Var(v=0.0127, grad=-0.1163), Var(v=-0.0294, grad=1.8026), Var(v=-0.0159, grad=-0.3192), Var(v=0.1814, grad=0.4140), Var(v=0.1403, grad=0.4875), Var(v=0.0892, grad=0.0000), Var(v=0.0761, grad=-0.0814), Var(v=0.1599, grad=-1.2615)], [Var(v=-0.0260, grad=-0.9219), Var(v=0.0963, grad=0.0000), Var(v=-0.0888, grad=-0.9679), Var(v=0.0586, grad=0.0000), Var(v=0.0951, grad=-0.8448), Var(v=0.1483, grad=0.0000), Var(v=0.0249, grad=0.4103), Var(v=0.0087, grad=-0.2231), Var(v=0.0377, grad=0.0000), Var(v=0.0577, grad=0.0000), Var(v=0.0867, grad=0.9063), Var(v=-0.0562, grad=1.0203), Var(v=0.0858, grad=0.0000), Var(v=-0.0031, grad=-0.3228), Var(v=-0.0495, grad=-0.6262), Var(v=0.0516, grad=-1.6890), Var(v=-0.0405, grad=0.0000), Var(v=0.1067, grad=0.0000), Var(v=-0.0417, grad=0.0000), Var(v=0.0486, grad=0.0000), Var(v=0.0184, grad=1.2760), Var(v=0.0155, grad=1.1662), Var(v=-0.1296, grad=0.0000), Var(v=-0.0736, grad=0.0000), Var(v=0.0479, grad=-0.2511), Var(v=-0.0541, grad=-0.7872), Var(v=-0.0014, grad=0.0000), Var(v=-0.0836, grad=-0.4254), Var(v=-0.0663, grad=1.1952), Var(v=0.0925, grad=0.0000), Var(v=0.1385, grad=0.1664), Var(v=-0.0626, grad=0.0000), Var(v=-0.0211, grad=-0.9903), Var(v=0.0234, grad=0.0000), Var(v=0.0653, grad=0.0000), Var(v=-0.1535, grad=0.0000), Var(v=0.1068, grad=2.1831), Var(v=-0.0278, grad=0.0000), Var(v=0.0265, grad=0.0000), Var(v=-0.0040, grad=1.4030), Var(v=-0.0613, grad=0.7684), Var(v=0.0356, grad=0.0207), Var(v=0.0395, grad=-0.0822), Var(v=-0.0726, grad=1.2746), Var(v=0.0559, grad=-0.2257), Var(v=0.0430, grad=0.2927), Var(v=-0.0997, grad=0.3447), Var(v=0.1197, grad=0.0000), Var(v=-0.1274, grad=-0.0575), Var(v=0.0781, grad=-0.8919)], [Var(v=-0.0286, grad=1.2933), Var(v=-0.0586, grad=0.0000), Var(v=0.0350, grad=1.3580), Var(v=0.0266, grad=0.0000), Var(v=0.0005, grad=1.1852), Var(v=-0.0294, grad=2.1511), Var(v=0.0154, grad=0.0000), Var(v=-0.1086, grad=0.0000), Var(v=0.0856, grad=-1.0712), Var(v=0.1245, grad=0.6423), Var(v=0.2178, grad=-1.2716), Var(v=-0.0586, grad=-1.4315), Var(v=0.1521, grad=-1.3633), Var(v=-0.1834, grad=0.0000), Var(v=0.0177, grad=0.8786), Var(v=-0.0706, grad=2.3696), Var(v=0.0870, grad=2.0664), Var(v=0.0127, grad=0.0000), Var(v=-0.0851, grad=1.6329), Var(v=0.0687, grad=-0.7934), Var(v=0.1203, grad=0.0000), Var(v=0.1496, grad=-1.6362), Var(v=-0.0233, grad=0.0000), Var(v=-0.0535, grad=0.0000), Var(v=-0.0383, grad=0.0000), Var(v=-0.0345, grad=0.0000), Var(v=0.1200, grad=0.6741), Var(v=-0.0217, grad=0.5968), Var(v=0.1406, grad=0.0000), Var(v=0.1361, grad=0.3155), Var(v=-0.0978, grad=0.0000), Var(v=-0.1448, grad=0.0000), Var(v=-0.1689, grad=0.0000), Var(v=0.0391, grad=0.0456), Var(v=0.2117, grad=-0.6431), Var(v=-0.0967, grad=0.0000), Var(v=-0.0852, grad=0.0000), Var(v=-0.0601, grad=-0.3311), Var(v=-0.0195, grad=0.0000), Var(v=-0.0983, grad=0.0000), Var(v=0.0120, grad=-1.0780), Var(v=0.0938, grad=-0.0290), Var(v=0.1895, grad=0.1154), Var(v=-0.0860, grad=0.0000), Var(v=-0.0489, grad=0.3166), Var(v=-0.1017, grad=0.0000), Var(v=0.1587, grad=0.0000), Var(v=-0.0456, grad=0.0000), Var(v=-0.0524, grad=0.0000), Var(v=-0.0233, grad=1.2514)], [Var(v=0.2741, grad=-1.2951), Var(v=0.0310, grad=0.0000), Var(v=0.1927, grad=-1.3598), Var(v=-0.2341, grad=0.0000), Var(v=0.0304, grad=-1.1868), Var(v=-0.0623, grad=0.0000), Var(v=-0.0171, grad=0.5764), Var(v=0.1375, grad=-0.3134), Var(v=0.0229, grad=0.0000), Var(v=-0.0253, grad=0.0000), Var(v=-0.0778, grad=1.2733), Var(v=-0.0661, grad=1.4334), Var(v=-0.0372, grad=0.0000), Var(v=0.0926, grad=-0.4535), Var(v=0.0236, grad=-0.8798), Var(v=0.0418, grad=-2.3729), Var(v=-0.0087, grad=0.0000), Var(v=-0.1133, grad=0.0000), Var(v=0.0251, grad=0.0000), Var(v=-0.0153, grad=0.0000), Var(v=0.1732, grad=1.7927), Var(v=0.0019, grad=1.6384), Var(v=0.1253, grad=0.0000), Var(v=-0.0391, grad=0.0000), Var(v=0.0733, grad=-0.3528), Var(v=0.0895, grad=-1.1059), Var(v=-0.0756, grad=0.0000), Var(v=0.1096, grad=-0.5977), Var(v=0.3127, grad=1.6792), Var(v=0.0578, grad=0.0000), Var(v=-0.1108, grad=0.2338), Var(v=0.0206, grad=0.0000), Var(v=0.0958, grad=-1.3913), Var(v=0.0249, grad=0.0000), Var(v=-0.0898, grad=0.0000), Var(v=0.0565, grad=0.0000), Var(v=-0.0907, grad=3.0670), Var(v=-0.0108, grad=0.0000), Var(v=-0.1837, grad=0.0000), Var(v=-0.0630, grad=1.9710), Var(v=0.0160, grad=1.0795), Var(v=0.0115, grad=0.0290), Var(v=-0.0610, grad=-0.1155), Var(v=0.0533, grad=1.7907), Var(v=0.0287, grad=-0.3171), Var(v=0.1182, grad=0.4113), Var(v=-0.0186, grad=0.4843), Var(v=-0.0632, grad=0.0000), Var(v=0.0457, grad=-0.0808), Var(v=0.1043, grad=-1.2531)], [Var(v=0.0835, grad=-1.8144), Var(v=-0.3258, grad=0.0000), Var(v=0.0908, grad=-1.9050), Var(v=0.0343, grad=0.0000), Var(v=-0.0339, grad=-1.6627), Var(v=-0.0457, grad=0.0000), Var(v=0.0858, grad=0.8075), Var(v=0.0957, grad=-0.4390), Var(v=-0.0724, grad=0.0000), Var(v=-0.1451, grad=0.0000), Var(v=-0.0044, grad=1.7838), Var(v=-0.0695, grad=2.0081), Var(v=-0.0684, grad=0.0000), Var(v=-0.0293, grad=-0.6354), Var(v=0.0264, grad=-1.2325), Var(v=0.0523, grad=-3.3242), Var(v=-0.1038, grad=0.0000), Var(v=0.0714, grad=0.0000), Var(v=-0.0572, grad=0.0000), Var(v=-0.0590, grad=0.0000), Var(v=0.0431, grad=2.5114), Var(v=-0.0548, grad=2.2954), Var(v=-0.1355, grad=0.0000), Var(v=-0.0292, grad=0.0000), Var(v=0.1210, grad=-0.4943), Var(v=-0.0368, grad=-1.5493), Var(v=-0.0118, grad=0.0000), Var(v=0.0280, grad=-0.8373), Var(v=-0.0628, grad=2.3524), Var(v=0.1242, grad=0.0000), Var(v=0.0136, grad=0.3275), Var(v=-0.0170, grad=0.0000), Var(v=0.0357, grad=-1.9491), Var(v=-0.1774, grad=0.0000), Var(v=-0.0243, grad=0.0000), Var(v=-0.0093, grad=0.0000), Var(v=-0.0430, grad=4.2967), Var(v=0.0870, grad=0.0000), Var(v=0.0295, grad=0.0000), Var(v=-0.0188, grad=2.7613), Var(v=0.0897, grad=1.5123), Var(v=0.2052, grad=0.0406), Var(v=0.0968, grad=-0.1619), Var(v=0.0456, grad=2.5086), Var(v=0.0470, grad=-0.4442), Var(v=0.0537, grad=0.5761), Var(v=0.1831, grad=0.6784), Var(v=-0.2108, grad=0.0000), Var(v=0.0284, grad=-0.1132), Var(v=-0.1060, grad=-1.7555)]] Biases: [Var(v=0.0009, grad=-0.0881), Var(v=0.0000, grad=0.0000), Var(v=0.0009, grad=-0.0925), Var(v=0.0000, grad=0.0000), Var(v=0.0008, grad=-0.0807), Var(v=-0.1405, grad=14.0455), Var(v=-0.0380, grad=3.7975), Var(v=0.0206, grad=-2.0647), Var(v=0.0699, grad=-6.9947), Var(v=-0.0419, grad=4.1938), Var(v=-0.0009, grad=0.0866), Var(v=-0.0010, grad=0.0975), Var(v=0.0890, grad=-8.9019), Var(v=0.0299, grad=-2.9882), Var(v=0.0006, grad=-0.0598), Var(v=0.0016, grad=-0.1614), Var(v=-0.1349, grad=13.4924), Var(v=0.0000, grad=0.0000), Var(v=-0.1066, grad=10.6621), Var(v=0.0518, grad=-5.1804), Var(v=-0.1181, grad=11.8110), Var(v=-0.0011, grad=0.1114), Var(v=0.0000, grad=0.0000), Var(v=0.0000, grad=0.0000), Var(v=0.0232, grad=-2.3246), Var(v=0.0729, grad=-7.2861), Var(v=-0.0440, grad=4.4015), Var(v=0.0004, grad=-0.0406), Var(v=-0.1106, grad=11.0635), Var(v=-0.0206, grad=2.0604), Var(v=-0.0154, grad=1.5402), Var(v=0.0000, grad=0.0000), Var(v=0.0917, grad=-9.1668), Var(v=-0.0030, grad=0.2975), Var(v=0.0420, grad=-4.1994), Var(v=0.0000, grad=0.0000), Var(v=-0.2021, grad=20.2073), Var(v=0.0216, grad=-2.1620), Var(v=0.0000, grad=0.0000), Var(v=-0.1299, grad=12.9862), Var(v=-0.0007, grad=0.0734), Var(v=-0.0000, grad=0.0020), Var(v=0.0001, grad=-0.0079), Var(v=-0.1180, grad=11.7978), Var(v=0.0002, grad=-0.0216), Var(v=-0.0271, grad=2.7096), Var(v=-0.0319, grad=3.1905), Var(v=0.0000, grad=0.0000), Var(v=0.0053, grad=-0.5324), Var(v=0.0009, grad=-0.0852)]\n",
      "Layer 2 \n",
      " Weights: [[Var(v=0.0928, grad=0.2519)], [Var(v=0.0168, grad=0.0000)], [Var(v=0.1050, grad=-0.4900)], [Var(v=-0.0656, grad=0.0000)], [Var(v=0.0668, grad=2.0534)], [Var(v=0.1504, grad=0.8076)], [Var(v=-0.0247, grad=-1.7752)], [Var(v=0.0613, grad=-3.8241)], [Var(v=-0.0799, grad=0.1004)], [Var(v=0.0186, grad=2.8729)], [Var(v=-0.0604, grad=-3.3325)], [Var(v=-0.0606, grad=-4.4847)], [Var(v=-0.1152, grad=1.4724)], [Var(v=0.0426, grad=-0.9231)], [Var(v=0.0592, grad=0.5540)], [Var(v=0.1549, grad=1.9691)], [Var(v=0.1466, grad=0.5722)], [Var(v=0.0747, grad=0.0000)], [Var(v=0.0986, grad=2.1708)], [Var(v=-0.0659, grad=0.7400)], [Var(v=-0.0646, grad=-6.7278)], [Var(v=-0.1311, grad=1.0501)], [Var(v=0.0183, grad=0.0000)], [Var(v=0.0887, grad=0.0000)], [Var(v=0.1163, grad=-9.0374)], [Var(v=0.0923, grad=-1.0887)], [Var(v=0.0458, grad=0.3885)], [Var(v=0.0365, grad=0.7498)], [Var(v=-0.1031, grad=-2.0482)], [Var(v=0.0223, grad=0.0990)], [Var(v=0.0087, grad=-2.5895)], [Var(v=0.0649, grad=0.0000)], [Var(v=0.1121, grad=-0.9728)], [Var(v=-0.0044, grad=0.7709)], [Var(v=-0.1131, grad=6.5685)], [Var(v=0.0773, grad=0.0000)], [Var(v=-0.2217, grad=-0.4045)], [Var(v=-0.0343, grad=0.9852)], [Var(v=-0.0248, grad=0.0000)], [Var(v=-0.1034, grad=-4.1666)], [Var(v=-0.0407, grad=-3.8714)], [Var(v=0.0410, grad=-4.3096)], [Var(v=0.0134, grad=-0.4908)], [Var(v=-0.0993, grad=-3.2519)], [Var(v=0.0235, grad=-0.0212)], [Var(v=0.0458, grad=-7.6070)], [Var(v=-0.0040, grad=-3.1676)], [Var(v=-0.0944, grad=0.0000)], [Var(v=0.0315, grad=-2.5575)], [Var(v=0.0774, grad=1.4858)]] Biases: [Var(v=0.0092, grad=-0.9240)]\n",
      "\n",
      "Network after zeroing gradients:\n",
      "Layer 0 \n",
      " Weights: [[Var(v=0.0251, grad=0.0000), Var(v=-0.0536, grad=0.0000), Var(v=0.1703, grad=0.0000), Var(v=-0.0365, grad=0.0000), Var(v=-0.0534, grad=0.0000), Var(v=-0.0614, grad=0.0000), Var(v=0.0662, grad=0.0000), Var(v=-0.1762, grad=0.0000), Var(v=-0.0355, grad=0.0000), Var(v=0.0397, grad=0.0000), Var(v=0.0523, grad=0.0000), Var(v=0.0596, grad=0.0000), Var(v=-0.1781, grad=0.0000), Var(v=0.1672, grad=0.0000), Var(v=0.1590, grad=0.0000)]] Biases: [Var(v=-0.0178, grad=0.0000), Var(v=-0.0734, grad=0.0000), Var(v=0.0332, grad=0.0000), Var(v=0.0027, grad=0.0000), Var(v=0.0303, grad=0.0000), Var(v=0.0384, grad=0.0000), Var(v=-0.0073, grad=0.0000), Var(v=-0.0046, grad=0.0000), Var(v=-0.1250, grad=0.0000), Var(v=-0.1074, grad=0.0000), Var(v=-0.0677, grad=0.0000), Var(v=-0.0284, grad=0.0000), Var(v=0.0353, grad=0.0000), Var(v=0.0317, grad=0.0000), Var(v=-0.0202, grad=0.0000)]\n",
      "Layer 1 \n",
      " Weights: [[Var(v=-0.0531, grad=0.0000), Var(v=0.0172, grad=0.0000), Var(v=0.0528, grad=0.0000), Var(v=0.0254, grad=0.0000), Var(v=-0.0258, grad=0.0000), Var(v=-0.1271, grad=0.0000), Var(v=-0.1008, grad=0.0000), Var(v=0.0894, grad=0.0000), Var(v=0.0157, grad=0.0000), Var(v=-0.0561, grad=0.0000), Var(v=-0.0047, grad=0.0000), Var(v=0.0944, grad=0.0000), Var(v=-0.0745, grad=0.0000), Var(v=0.0619, grad=0.0000), Var(v=0.1288, grad=0.0000), Var(v=-0.0956, grad=0.0000), Var(v=-0.0065, grad=0.0000), Var(v=-0.0858, grad=0.0000), Var(v=-0.0104, grad=0.0000), Var(v=0.0499, grad=0.0000), Var(v=-0.0232, grad=0.0000), Var(v=-0.0527, grad=0.0000), Var(v=0.0334, grad=0.0000), Var(v=-0.0479, grad=0.0000), Var(v=0.0635, grad=0.0000), Var(v=0.0368, grad=0.0000), Var(v=0.0124, grad=0.0000), Var(v=-0.1036, grad=0.0000), Var(v=-0.0735, grad=0.0000), Var(v=-0.1179, grad=0.0000), Var(v=0.0839, grad=0.0000), Var(v=-0.1350, grad=0.0000), Var(v=-0.0269, grad=0.0000), Var(v=0.0635, grad=0.0000), Var(v=-0.0674, grad=0.0000), Var(v=0.0184, grad=0.0000), Var(v=-0.0766, grad=0.0000), Var(v=-0.1517, grad=0.0000), Var(v=-0.1233, grad=0.0000), Var(v=0.0418, grad=0.0000), Var(v=-0.0250, grad=0.0000), Var(v=-0.1372, grad=0.0000), Var(v=0.0412, grad=0.0000), Var(v=0.1186, grad=0.0000), Var(v=0.1706, grad=0.0000), Var(v=-0.0023, grad=0.0000), Var(v=-0.2031, grad=0.0000), Var(v=-0.0198, grad=0.0000), Var(v=0.0876, grad=0.0000), Var(v=-0.2219, grad=0.0000)], [Var(v=0.0027, grad=0.0000), Var(v=-0.0386, grad=0.0000), Var(v=-0.0627, grad=0.0000), Var(v=-0.1148, grad=0.0000), Var(v=0.0681, grad=0.0000), Var(v=0.0390, grad=0.0000), Var(v=0.0523, grad=0.0000), Var(v=-0.0313, grad=0.0000), Var(v=-0.2441, grad=0.0000), Var(v=0.1786, grad=0.0000), Var(v=-0.0572, grad=0.0000), Var(v=0.0970, grad=0.0000), Var(v=-0.0209, grad=0.0000), Var(v=-0.0960, grad=0.0000), Var(v=0.1011, grad=0.0000), Var(v=0.0566, grad=0.0000), Var(v=-0.1792, grad=0.0000), Var(v=0.0646, grad=0.0000), Var(v=0.1294, grad=0.0000), Var(v=-0.1389, grad=0.0000), Var(v=0.0110, grad=0.0000), Var(v=-0.0796, grad=0.0000), Var(v=-0.1513, grad=0.0000), Var(v=0.0519, grad=0.0000), Var(v=0.0238, grad=0.0000), Var(v=0.0146, grad=0.0000), Var(v=-0.0502, grad=0.0000), Var(v=0.0330, grad=0.0000), Var(v=-0.2682, grad=0.0000), Var(v=0.0391, grad=0.0000), Var(v=-0.1315, grad=0.0000), Var(v=0.1228, grad=0.0000), Var(v=0.0751, grad=0.0000), Var(v=-0.1358, grad=0.0000), Var(v=0.0290, grad=0.0000), Var(v=0.2114, grad=0.0000), Var(v=0.0286, grad=0.0000), Var(v=0.1827, grad=0.0000), Var(v=-0.0975, grad=0.0000), Var(v=-0.1769, grad=0.0000), Var(v=-0.0859, grad=0.0000), Var(v=0.0005, grad=0.0000), Var(v=-0.1547, grad=0.0000), Var(v=-0.0082, grad=0.0000), Var(v=0.0182, grad=0.0000), Var(v=0.0957, grad=0.0000), Var(v=-0.1529, grad=0.0000), Var(v=0.0120, grad=0.0000), Var(v=0.1314, grad=0.0000), Var(v=0.0338, grad=0.0000)], [Var(v=0.0465, grad=0.0000), Var(v=-0.0485, grad=0.0000), Var(v=-0.0018, grad=0.0000), Var(v=-0.0335, grad=0.0000), Var(v=0.1631, grad=0.0000), Var(v=0.0877, grad=0.0000), Var(v=0.0095, grad=0.0000), Var(v=0.0411, grad=0.0000), Var(v=-0.0212, grad=0.0000), Var(v=0.1303, grad=0.0000), Var(v=0.0326, grad=0.0000), Var(v=0.0754, grad=0.0000), Var(v=-0.0837, grad=0.0000), Var(v=0.0663, grad=0.0000), Var(v=-0.0296, grad=0.0000), Var(v=0.0287, grad=0.0000), Var(v=-0.0800, grad=0.0000), Var(v=0.0468, grad=0.0000), Var(v=-0.1073, grad=0.0000), Var(v=-0.0337, grad=0.0000), Var(v=-0.0484, grad=0.0000), Var(v=0.0626, grad=0.0000), Var(v=0.0416, grad=0.0000), Var(v=-0.2200, grad=0.0000), Var(v=0.2531, grad=0.0000), Var(v=-0.0829, grad=0.0000), Var(v=-0.0638, grad=0.0000), Var(v=-0.0212, grad=0.0000), Var(v=-0.2190, grad=0.0000), Var(v=-0.2080, grad=0.0000), Var(v=0.1494, grad=0.0000), Var(v=-0.0736, grad=0.0000), Var(v=0.0611, grad=0.0000), Var(v=-0.0119, grad=0.0000), Var(v=0.0821, grad=0.0000), Var(v=-0.0575, grad=0.0000), Var(v=-0.1361, grad=0.0000), Var(v=-0.1375, grad=0.0000), Var(v=0.0482, grad=0.0000), Var(v=0.0830, grad=0.0000), Var(v=-0.1078, grad=0.0000), Var(v=-0.0706, grad=0.0000), Var(v=-0.0380, grad=0.0000), Var(v=-0.1037, grad=0.0000), Var(v=-0.0773, grad=0.0000), Var(v=0.0777, grad=0.0000), Var(v=-0.0097, grad=0.0000), Var(v=-0.1770, grad=0.0000), Var(v=0.1247, grad=0.0000), Var(v=-0.0740, grad=0.0000)], [Var(v=-0.0943, grad=0.0000), Var(v=0.0614, grad=0.0000), Var(v=-0.1421, grad=0.0000), Var(v=0.0331, grad=0.0000), Var(v=-0.0974, grad=0.0000), Var(v=0.0327, grad=0.0000), Var(v=-0.1049, grad=0.0000), Var(v=-0.0592, grad=0.0000), Var(v=0.1758, grad=0.0000), Var(v=-0.0580, grad=0.0000), Var(v=0.1294, grad=0.0000), Var(v=-0.0570, grad=0.0000), Var(v=0.0858, grad=0.0000), Var(v=0.0632, grad=0.0000), Var(v=0.1292, grad=0.0000), Var(v=0.0219, grad=0.0000), Var(v=0.1709, grad=0.0000), Var(v=-0.0378, grad=0.0000), Var(v=0.0925, grad=0.0000), Var(v=-0.1061, grad=0.0000), Var(v=-0.0904, grad=0.0000), Var(v=0.1752, grad=0.0000), Var(v=0.0419, grad=0.0000), Var(v=-0.1303, grad=0.0000), Var(v=0.1549, grad=0.0000), Var(v=-0.0492, grad=0.0000), Var(v=-0.0255, grad=0.0000), Var(v=0.2082, grad=0.0000), Var(v=-0.1424, grad=0.0000), Var(v=0.2099, grad=0.0000), Var(v=-0.0065, grad=0.0000), Var(v=-0.0605, grad=0.0000), Var(v=0.1488, grad=0.0000), Var(v=-0.0572, grad=0.0000), Var(v=-0.0234, grad=0.0000), Var(v=0.0925, grad=0.0000), Var(v=0.0566, grad=0.0000), Var(v=0.0351, grad=0.0000), Var(v=-0.0458, grad=0.0000), Var(v=-0.0406, grad=0.0000), Var(v=0.0769, grad=0.0000), Var(v=-0.0010, grad=0.0000), Var(v=0.1010, grad=0.0000), Var(v=-0.0175, grad=0.0000), Var(v=0.1097, grad=0.0000), Var(v=-0.0298, grad=0.0000), Var(v=-0.2924, grad=0.0000), Var(v=-0.1688, grad=0.0000), Var(v=-0.0916, grad=0.0000), Var(v=0.0396, grad=0.0000)], [Var(v=0.0457, grad=0.0000), Var(v=-0.1058, grad=0.0000), Var(v=0.0620, grad=0.0000), Var(v=0.0069, grad=0.0000), Var(v=0.0856, grad=0.0000), Var(v=0.1793, grad=0.0000), Var(v=0.0601, grad=0.0000), Var(v=0.1075, grad=0.0000), Var(v=-0.0042, grad=0.0000), Var(v=-0.2954, grad=0.0000), Var(v=0.0309, grad=0.0000), Var(v=-0.0165, grad=0.0000), Var(v=-0.0747, grad=0.0000), Var(v=-0.2432, grad=0.0000), Var(v=0.0007, grad=0.0000), Var(v=-0.0022, grad=0.0000), Var(v=-0.1758, grad=0.0000), Var(v=0.0361, grad=0.0000), Var(v=-0.0899, grad=0.0000), Var(v=-0.0087, grad=0.0000), Var(v=-0.1900, grad=0.0000), Var(v=0.2138, grad=0.0000), Var(v=-0.0147, grad=0.0000), Var(v=-0.0200, grad=0.0000), Var(v=0.0243, grad=0.0000), Var(v=-0.1452, grad=0.0000), Var(v=-0.0884, grad=0.0000), Var(v=-0.0288, grad=0.0000), Var(v=0.0071, grad=0.0000), Var(v=-0.0911, grad=0.0000), Var(v=0.0311, grad=0.0000), Var(v=0.0183, grad=0.0000), Var(v=-0.0223, grad=0.0000), Var(v=0.1644, grad=0.0000), Var(v=-0.0592, grad=0.0000), Var(v=0.0727, grad=0.0000), Var(v=-0.1581, grad=0.0000), Var(v=-0.0658, grad=0.0000), Var(v=-0.0594, grad=0.0000), Var(v=-0.0304, grad=0.0000), Var(v=0.0855, grad=0.0000), Var(v=-0.0947, grad=0.0000), Var(v=-0.0898, grad=0.0000), Var(v=-0.0505, grad=0.0000), Var(v=0.0770, grad=0.0000), Var(v=-0.0025, grad=0.0000), Var(v=-0.0691, grad=0.0000), Var(v=-0.0858, grad=0.0000), Var(v=0.0383, grad=0.0000), Var(v=-0.0631, grad=0.0000)], [Var(v=0.0368, grad=0.0000), Var(v=0.0902, grad=0.0000), Var(v=-0.1523, grad=0.0000), Var(v=0.0355, grad=0.0000), Var(v=0.1671, grad=0.0000), Var(v=0.1102, grad=0.0000), Var(v=0.1102, grad=0.0000), Var(v=-0.0849, grad=0.0000), Var(v=0.0718, grad=0.0000), Var(v=0.0569, grad=0.0000), Var(v=-0.1231, grad=0.0000), Var(v=-0.1038, grad=0.0000), Var(v=0.0938, grad=0.0000), Var(v=-0.0331, grad=0.0000), Var(v=-0.0253, grad=0.0000), Var(v=-0.0061, grad=0.0000), Var(v=-0.1254, grad=0.0000), Var(v=-0.0445, grad=0.0000), Var(v=-0.0948, grad=0.0000), Var(v=0.1874, grad=0.0000), Var(v=-0.2136, grad=0.0000), Var(v=0.1666, grad=0.0000), Var(v=0.1328, grad=0.0000), Var(v=0.0279, grad=0.0000), Var(v=-0.0759, grad=0.0000), Var(v=-0.1271, grad=0.0000), Var(v=-0.0332, grad=0.0000), Var(v=-0.0626, grad=0.0000), Var(v=0.1315, grad=0.0000), Var(v=0.0032, grad=0.0000), Var(v=0.0554, grad=0.0000), Var(v=-0.0501, grad=0.0000), Var(v=0.0005, grad=0.0000), Var(v=0.0835, grad=0.0000), Var(v=0.1736, grad=0.0000), Var(v=-0.1124, grad=0.0000), Var(v=0.0463, grad=0.0000), Var(v=-0.1123, grad=0.0000), Var(v=-0.0250, grad=0.0000), Var(v=0.0259, grad=0.0000), Var(v=0.0534, grad=0.0000), Var(v=-0.0142, grad=0.0000), Var(v=-0.2260, grad=0.0000), Var(v=-0.2284, grad=0.0000), Var(v=0.0591, grad=0.0000), Var(v=0.0467, grad=0.0000), Var(v=0.2131, grad=0.0000), Var(v=-0.0162, grad=0.0000), Var(v=-0.1856, grad=0.0000), Var(v=0.0102, grad=0.0000)], [Var(v=0.1108, grad=0.0000), Var(v=-0.0477, grad=0.0000), Var(v=0.0527, grad=0.0000), Var(v=-0.0528, grad=0.0000), Var(v=-0.0188, grad=0.0000), Var(v=-0.1014, grad=0.0000), Var(v=0.1318, grad=0.0000), Var(v=-0.0266, grad=0.0000), Var(v=-0.0843, grad=0.0000), Var(v=-0.0469, grad=0.0000), Var(v=0.0162, grad=0.0000), Var(v=0.1410, grad=0.0000), Var(v=-0.0404, grad=0.0000), Var(v=0.2064, grad=0.0000), Var(v=0.1220, grad=0.0000), Var(v=0.0953, grad=0.0000), Var(v=-0.0831, grad=0.0000), Var(v=0.1304, grad=0.0000), Var(v=0.1853, grad=0.0000), Var(v=-0.0020, grad=0.0000), Var(v=-0.1539, grad=0.0000), Var(v=-0.0503, grad=0.0000), Var(v=-0.1966, grad=0.0000), Var(v=-0.0043, grad=0.0000), Var(v=0.0982, grad=0.0000), Var(v=-0.0654, grad=0.0000), Var(v=0.0899, grad=0.0000), Var(v=0.0208, grad=0.0000), Var(v=0.0356, grad=0.0000), Var(v=0.0253, grad=0.0000), Var(v=0.1705, grad=0.0000), Var(v=0.0170, grad=0.0000), Var(v=0.0544, grad=0.0000), Var(v=-0.0610, grad=0.0000), Var(v=-0.1853, grad=0.0000), Var(v=0.0129, grad=0.0000), Var(v=0.0748, grad=0.0000), Var(v=0.0026, grad=0.0000), Var(v=-0.2060, grad=0.0000), Var(v=0.2075, grad=0.0000), Var(v=-0.0320, grad=0.0000), Var(v=0.1408, grad=0.0000), Var(v=0.0135, grad=0.0000), Var(v=-0.0384, grad=0.0000), Var(v=0.1392, grad=0.0000), Var(v=0.1790, grad=0.0000), Var(v=0.0320, grad=0.0000), Var(v=0.1013, grad=0.0000), Var(v=0.1201, grad=0.0000), Var(v=0.0914, grad=0.0000)], [Var(v=0.1502, grad=0.0000), Var(v=-0.0454, grad=0.0000), Var(v=-0.0119, grad=0.0000), Var(v=-0.0971, grad=0.0000), Var(v=0.0565, grad=0.0000), Var(v=-0.0542, grad=0.0000), Var(v=-0.1402, grad=0.0000), Var(v=0.0227, grad=0.0000), Var(v=0.1094, grad=0.0000), Var(v=-0.1024, grad=0.0000), Var(v=-0.0345, grad=0.0000), Var(v=0.0980, grad=0.0000), Var(v=0.0329, grad=0.0000), Var(v=-0.0648, grad=0.0000), Var(v=-0.0940, grad=0.0000), Var(v=0.0753, grad=0.0000), Var(v=-0.0450, grad=0.0000), Var(v=0.0151, grad=0.0000), Var(v=0.0150, grad=0.0000), Var(v=0.0820, grad=0.0000), Var(v=-0.1498, grad=0.0000), Var(v=0.1526, grad=0.0000), Var(v=-0.1055, grad=0.0000), Var(v=0.0838, grad=0.0000), Var(v=-0.0750, grad=0.0000), Var(v=-0.0181, grad=0.0000), Var(v=-0.0206, grad=0.0000), Var(v=0.0629, grad=0.0000), Var(v=-0.1361, grad=0.0000), Var(v=-0.1007, grad=0.0000), Var(v=0.1885, grad=0.0000), Var(v=-0.0155, grad=0.0000), Var(v=-0.0885, grad=0.0000), Var(v=0.0865, grad=0.0000), Var(v=0.1713, grad=0.0000), Var(v=-0.0519, grad=0.0000), Var(v=-0.1074, grad=0.0000), Var(v=-0.0460, grad=0.0000), Var(v=-0.0955, grad=0.0000), Var(v=0.0824, grad=0.0000), Var(v=0.0189, grad=0.0000), Var(v=0.0103, grad=0.0000), Var(v=0.0452, grad=0.0000), Var(v=-0.0615, grad=0.0000), Var(v=0.1366, grad=0.0000), Var(v=-0.0190, grad=0.0000), Var(v=0.0242, grad=0.0000), Var(v=-0.1811, grad=0.0000), Var(v=-0.0744, grad=0.0000), Var(v=0.1087, grad=0.0000)], [Var(v=-0.1214, grad=0.0000), Var(v=0.0479, grad=0.0000), Var(v=-0.1542, grad=0.0000), Var(v=0.0155, grad=0.0000), Var(v=-0.0285, grad=0.0000), Var(v=-0.0252, grad=0.0000), Var(v=0.0332, grad=0.0000), Var(v=-0.0175, grad=0.0000), Var(v=-0.1585, grad=0.0000), Var(v=-0.0068, grad=0.0000), Var(v=0.0512, grad=0.0000), Var(v=0.1265, grad=0.0000), Var(v=-0.0616, grad=0.0000), Var(v=0.0189, grad=0.0000), Var(v=-0.0144, grad=0.0000), Var(v=0.0842, grad=0.0000), Var(v=-0.0217, grad=0.0000), Var(v=-0.1340, grad=0.0000), Var(v=0.0852, grad=0.0000), Var(v=-0.0336, grad=0.0000), Var(v=0.1610, grad=0.0000), Var(v=0.1227, grad=0.0000), Var(v=0.0177, grad=0.0000), Var(v=-0.0042, grad=0.0000), Var(v=-0.0001, grad=0.0000), Var(v=0.0469, grad=0.0000), Var(v=-0.0567, grad=0.0000), Var(v=-0.0539, grad=0.0000), Var(v=0.0311, grad=0.0000), Var(v=-0.2138, grad=0.0000), Var(v=-0.0949, grad=0.0000), Var(v=-0.0955, grad=0.0000), Var(v=0.1036, grad=0.0000), Var(v=0.0542, grad=0.0000), Var(v=0.0145, grad=0.0000), Var(v=-0.0155, grad=0.0000), Var(v=0.0147, grad=0.0000), Var(v=0.1131, grad=0.0000), Var(v=-0.0817, grad=0.0000), Var(v=0.1307, grad=0.0000), Var(v=0.1948, grad=0.0000), Var(v=0.0360, grad=0.0000), Var(v=0.0662, grad=0.0000), Var(v=0.2000, grad=0.0000), Var(v=0.0566, grad=0.0000), Var(v=-0.0644, grad=0.0000), Var(v=-0.0527, grad=0.0000), Var(v=0.0939, grad=0.0000), Var(v=-0.1222, grad=0.0000), Var(v=0.1146, grad=0.0000)], [Var(v=0.1359, grad=0.0000), Var(v=0.1147, grad=0.0000), Var(v=0.1264, grad=0.0000), Var(v=-0.0002, grad=0.0000), Var(v=0.0786, grad=0.0000), Var(v=-0.0246, grad=0.0000), Var(v=0.0235, grad=0.0000), Var(v=-0.0847, grad=0.0000), Var(v=0.0118, grad=0.0000), Var(v=0.1257, grad=0.0000), Var(v=-0.1053, grad=0.0000), Var(v=-0.1049, grad=0.0000), Var(v=-0.0602, grad=0.0000), Var(v=0.0612, grad=0.0000), Var(v=0.0050, grad=0.0000), Var(v=0.1442, grad=0.0000), Var(v=0.1854, grad=0.0000), Var(v=-0.2389, grad=0.0000), Var(v=0.0681, grad=0.0000), Var(v=0.0822, grad=0.0000), Var(v=0.0443, grad=0.0000), Var(v=-0.1199, grad=0.0000), Var(v=-0.0391, grad=0.0000), Var(v=-0.1591, grad=0.0000), Var(v=-0.1243, grad=0.0000), Var(v=0.0171, grad=0.0000), Var(v=-0.0355, grad=0.0000), Var(v=-0.0614, grad=0.0000), Var(v=-0.1199, grad=0.0000), Var(v=-0.1529, grad=0.0000), Var(v=-0.0987, grad=0.0000), Var(v=0.0503, grad=0.0000), Var(v=-0.0610, grad=0.0000), Var(v=0.0231, grad=0.0000), Var(v=0.0670, grad=0.0000), Var(v=-0.1425, grad=0.0000), Var(v=0.0114, grad=0.0000), Var(v=0.0818, grad=0.0000), Var(v=0.0308, grad=0.0000), Var(v=-0.0378, grad=0.0000), Var(v=0.1549, grad=0.0000), Var(v=0.0867, grad=0.0000), Var(v=0.0486, grad=0.0000), Var(v=0.0053, grad=0.0000), Var(v=0.0011, grad=0.0000), Var(v=-0.0787, grad=0.0000), Var(v=-0.1249, grad=0.0000), Var(v=-0.2202, grad=0.0000), Var(v=-0.0999, grad=0.0000), Var(v=-0.0149, grad=0.0000)], [Var(v=-0.0070, grad=0.0000), Var(v=-0.0523, grad=0.0000), Var(v=-0.0076, grad=0.0000), Var(v=0.0541, grad=0.0000), Var(v=0.0002, grad=0.0000), Var(v=0.0238, grad=0.0000), Var(v=-0.1056, grad=0.0000), Var(v=-0.0183, grad=0.0000), Var(v=-0.0579, grad=0.0000), Var(v=0.0076, grad=0.0000), Var(v=0.1237, grad=0.0000), Var(v=0.1551, grad=0.0000), Var(v=-0.0502, grad=0.0000), Var(v=-0.1729, grad=0.0000), Var(v=-0.0215, grad=0.0000), Var(v=0.0034, grad=0.0000), Var(v=0.0400, grad=0.0000), Var(v=-0.1063, grad=0.0000), Var(v=-0.0382, grad=0.0000), Var(v=0.0691, grad=0.0000), Var(v=0.1372, grad=0.0000), Var(v=-0.0091, grad=0.0000), Var(v=0.0024, grad=0.0000), Var(v=-0.1684, grad=0.0000), Var(v=0.0771, grad=0.0000), Var(v=0.2216, grad=0.0000), Var(v=-0.0660, grad=0.0000), Var(v=0.1049, grad=0.0000), Var(v=0.0610, grad=0.0000), Var(v=0.0988, grad=0.0000), Var(v=-0.0295, grad=0.0000), Var(v=-0.1700, grad=0.0000), Var(v=-0.1366, grad=0.0000), Var(v=0.1760, grad=0.0000), Var(v=-0.1173, grad=0.0000), Var(v=-0.0192, grad=0.0000), Var(v=0.0092, grad=0.0000), Var(v=-0.0220, grad=0.0000), Var(v=0.0528, grad=0.0000), Var(v=-0.0600, grad=0.0000), Var(v=0.1212, grad=0.0000), Var(v=0.1378, grad=0.0000), Var(v=0.0127, grad=0.0000), Var(v=-0.0294, grad=0.0000), Var(v=-0.0159, grad=0.0000), Var(v=0.1814, grad=0.0000), Var(v=0.1403, grad=0.0000), Var(v=0.0892, grad=0.0000), Var(v=0.0761, grad=0.0000), Var(v=0.1599, grad=0.0000)], [Var(v=-0.0260, grad=0.0000), Var(v=0.0963, grad=0.0000), Var(v=-0.0888, grad=0.0000), Var(v=0.0586, grad=0.0000), Var(v=0.0951, grad=0.0000), Var(v=0.1483, grad=0.0000), Var(v=0.0249, grad=0.0000), Var(v=0.0087, grad=0.0000), Var(v=0.0377, grad=0.0000), Var(v=0.0577, grad=0.0000), Var(v=0.0867, grad=0.0000), Var(v=-0.0562, grad=0.0000), Var(v=0.0858, grad=0.0000), Var(v=-0.0031, grad=0.0000), Var(v=-0.0495, grad=0.0000), Var(v=0.0516, grad=0.0000), Var(v=-0.0405, grad=0.0000), Var(v=0.1067, grad=0.0000), Var(v=-0.0417, grad=0.0000), Var(v=0.0486, grad=0.0000), Var(v=0.0184, grad=0.0000), Var(v=0.0155, grad=0.0000), Var(v=-0.1296, grad=0.0000), Var(v=-0.0736, grad=0.0000), Var(v=0.0479, grad=0.0000), Var(v=-0.0541, grad=0.0000), Var(v=-0.0014, grad=0.0000), Var(v=-0.0836, grad=0.0000), Var(v=-0.0663, grad=0.0000), Var(v=0.0925, grad=0.0000), Var(v=0.1385, grad=0.0000), Var(v=-0.0626, grad=0.0000), Var(v=-0.0211, grad=0.0000), Var(v=0.0234, grad=0.0000), Var(v=0.0653, grad=0.0000), Var(v=-0.1535, grad=0.0000), Var(v=0.1068, grad=0.0000), Var(v=-0.0278, grad=0.0000), Var(v=0.0265, grad=0.0000), Var(v=-0.0040, grad=0.0000), Var(v=-0.0613, grad=0.0000), Var(v=0.0356, grad=0.0000), Var(v=0.0395, grad=0.0000), Var(v=-0.0726, grad=0.0000), Var(v=0.0559, grad=0.0000), Var(v=0.0430, grad=0.0000), Var(v=-0.0997, grad=0.0000), Var(v=0.1197, grad=0.0000), Var(v=-0.1274, grad=0.0000), Var(v=0.0781, grad=0.0000)], [Var(v=-0.0286, grad=0.0000), Var(v=-0.0586, grad=0.0000), Var(v=0.0350, grad=0.0000), Var(v=0.0266, grad=0.0000), Var(v=0.0005, grad=0.0000), Var(v=-0.0294, grad=0.0000), Var(v=0.0154, grad=0.0000), Var(v=-0.1086, grad=0.0000), Var(v=0.0856, grad=0.0000), Var(v=0.1245, grad=0.0000), Var(v=0.2178, grad=0.0000), Var(v=-0.0586, grad=0.0000), Var(v=0.1521, grad=0.0000), Var(v=-0.1834, grad=0.0000), Var(v=0.0177, grad=0.0000), Var(v=-0.0706, grad=0.0000), Var(v=0.0870, grad=0.0000), Var(v=0.0127, grad=0.0000), Var(v=-0.0851, grad=0.0000), Var(v=0.0687, grad=0.0000), Var(v=0.1203, grad=0.0000), Var(v=0.1496, grad=0.0000), Var(v=-0.0233, grad=0.0000), Var(v=-0.0535, grad=0.0000), Var(v=-0.0383, grad=0.0000), Var(v=-0.0345, grad=0.0000), Var(v=0.1200, grad=0.0000), Var(v=-0.0217, grad=0.0000), Var(v=0.1406, grad=0.0000), Var(v=0.1361, grad=0.0000), Var(v=-0.0978, grad=0.0000), Var(v=-0.1448, grad=0.0000), Var(v=-0.1689, grad=0.0000), Var(v=0.0391, grad=0.0000), Var(v=0.2117, grad=0.0000), Var(v=-0.0967, grad=0.0000), Var(v=-0.0852, grad=0.0000), Var(v=-0.0601, grad=0.0000), Var(v=-0.0195, grad=0.0000), Var(v=-0.0983, grad=0.0000), Var(v=0.0120, grad=0.0000), Var(v=0.0938, grad=0.0000), Var(v=0.1895, grad=0.0000), Var(v=-0.0860, grad=0.0000), Var(v=-0.0489, grad=0.0000), Var(v=-0.1017, grad=0.0000), Var(v=0.1587, grad=0.0000), Var(v=-0.0456, grad=0.0000), Var(v=-0.0524, grad=0.0000), Var(v=-0.0233, grad=0.0000)], [Var(v=0.2741, grad=0.0000), Var(v=0.0310, grad=0.0000), Var(v=0.1927, grad=0.0000), Var(v=-0.2341, grad=0.0000), Var(v=0.0304, grad=0.0000), Var(v=-0.0623, grad=0.0000), Var(v=-0.0171, grad=0.0000), Var(v=0.1375, grad=0.0000), Var(v=0.0229, grad=0.0000), Var(v=-0.0253, grad=0.0000), Var(v=-0.0778, grad=0.0000), Var(v=-0.0661, grad=0.0000), Var(v=-0.0372, grad=0.0000), Var(v=0.0926, grad=0.0000), Var(v=0.0236, grad=0.0000), Var(v=0.0418, grad=0.0000), Var(v=-0.0087, grad=0.0000), Var(v=-0.1133, grad=0.0000), Var(v=0.0251, grad=0.0000), Var(v=-0.0153, grad=0.0000), Var(v=0.1732, grad=0.0000), Var(v=0.0019, grad=0.0000), Var(v=0.1253, grad=0.0000), Var(v=-0.0391, grad=0.0000), Var(v=0.0733, grad=0.0000), Var(v=0.0895, grad=0.0000), Var(v=-0.0756, grad=0.0000), Var(v=0.1096, grad=0.0000), Var(v=0.3127, grad=0.0000), Var(v=0.0578, grad=0.0000), Var(v=-0.1108, grad=0.0000), Var(v=0.0206, grad=0.0000), Var(v=0.0958, grad=0.0000), Var(v=0.0249, grad=0.0000), Var(v=-0.0898, grad=0.0000), Var(v=0.0565, grad=0.0000), Var(v=-0.0907, grad=0.0000), Var(v=-0.0108, grad=0.0000), Var(v=-0.1837, grad=0.0000), Var(v=-0.0630, grad=0.0000), Var(v=0.0160, grad=0.0000), Var(v=0.0115, grad=0.0000), Var(v=-0.0610, grad=0.0000), Var(v=0.0533, grad=0.0000), Var(v=0.0287, grad=0.0000), Var(v=0.1182, grad=0.0000), Var(v=-0.0186, grad=0.0000), Var(v=-0.0632, grad=0.0000), Var(v=0.0457, grad=0.0000), Var(v=0.1043, grad=0.0000)], [Var(v=0.0835, grad=0.0000), Var(v=-0.3258, grad=0.0000), Var(v=0.0908, grad=0.0000), Var(v=0.0343, grad=0.0000), Var(v=-0.0339, grad=0.0000), Var(v=-0.0457, grad=0.0000), Var(v=0.0858, grad=0.0000), Var(v=0.0957, grad=0.0000), Var(v=-0.0724, grad=0.0000), Var(v=-0.1451, grad=0.0000), Var(v=-0.0044, grad=0.0000), Var(v=-0.0695, grad=0.0000), Var(v=-0.0684, grad=0.0000), Var(v=-0.0293, grad=0.0000), Var(v=0.0264, grad=0.0000), Var(v=0.0523, grad=0.0000), Var(v=-0.1038, grad=0.0000), Var(v=0.0714, grad=0.0000), Var(v=-0.0572, grad=0.0000), Var(v=-0.0590, grad=0.0000), Var(v=0.0431, grad=0.0000), Var(v=-0.0548, grad=0.0000), Var(v=-0.1355, grad=0.0000), Var(v=-0.0292, grad=0.0000), Var(v=0.1210, grad=0.0000), Var(v=-0.0368, grad=0.0000), Var(v=-0.0118, grad=0.0000), Var(v=0.0280, grad=0.0000), Var(v=-0.0628, grad=0.0000), Var(v=0.1242, grad=0.0000), Var(v=0.0136, grad=0.0000), Var(v=-0.0170, grad=0.0000), Var(v=0.0357, grad=0.0000), Var(v=-0.1774, grad=0.0000), Var(v=-0.0243, grad=0.0000), Var(v=-0.0093, grad=0.0000), Var(v=-0.0430, grad=0.0000), Var(v=0.0870, grad=0.0000), Var(v=0.0295, grad=0.0000), Var(v=-0.0188, grad=0.0000), Var(v=0.0897, grad=0.0000), Var(v=0.2052, grad=0.0000), Var(v=0.0968, grad=0.0000), Var(v=0.0456, grad=0.0000), Var(v=0.0470, grad=0.0000), Var(v=0.0537, grad=0.0000), Var(v=0.1831, grad=0.0000), Var(v=-0.2108, grad=0.0000), Var(v=0.0284, grad=0.0000), Var(v=-0.1060, grad=0.0000)]] Biases: [Var(v=0.0009, grad=0.0000), Var(v=0.0000, grad=0.0000), Var(v=0.0009, grad=0.0000), Var(v=0.0000, grad=0.0000), Var(v=0.0008, grad=0.0000), Var(v=-0.1405, grad=0.0000), Var(v=-0.0380, grad=0.0000), Var(v=0.0206, grad=0.0000), Var(v=0.0699, grad=0.0000), Var(v=-0.0419, grad=0.0000), Var(v=-0.0009, grad=0.0000), Var(v=-0.0010, grad=0.0000), Var(v=0.0890, grad=0.0000), Var(v=0.0299, grad=0.0000), Var(v=0.0006, grad=0.0000), Var(v=0.0016, grad=0.0000), Var(v=-0.1349, grad=0.0000), Var(v=0.0000, grad=0.0000), Var(v=-0.1066, grad=0.0000), Var(v=0.0518, grad=0.0000), Var(v=-0.1181, grad=0.0000), Var(v=-0.0011, grad=0.0000), Var(v=0.0000, grad=0.0000), Var(v=0.0000, grad=0.0000), Var(v=0.0232, grad=0.0000), Var(v=0.0729, grad=0.0000), Var(v=-0.0440, grad=0.0000), Var(v=0.0004, grad=0.0000), Var(v=-0.1106, grad=0.0000), Var(v=-0.0206, grad=0.0000), Var(v=-0.0154, grad=0.0000), Var(v=0.0000, grad=0.0000), Var(v=0.0917, grad=0.0000), Var(v=-0.0030, grad=0.0000), Var(v=0.0420, grad=0.0000), Var(v=0.0000, grad=0.0000), Var(v=-0.2021, grad=0.0000), Var(v=0.0216, grad=0.0000), Var(v=0.0000, grad=0.0000), Var(v=-0.1299, grad=0.0000), Var(v=-0.0007, grad=0.0000), Var(v=-0.0000, grad=0.0000), Var(v=0.0001, grad=0.0000), Var(v=-0.1180, grad=0.0000), Var(v=0.0002, grad=0.0000), Var(v=-0.0271, grad=0.0000), Var(v=-0.0319, grad=0.0000), Var(v=0.0000, grad=0.0000), Var(v=0.0053, grad=0.0000), Var(v=0.0009, grad=0.0000)]\n",
      "Layer 2 \n",
      " Weights: [[Var(v=0.0928, grad=0.0000)], [Var(v=0.0168, grad=0.0000)], [Var(v=0.1050, grad=0.0000)], [Var(v=-0.0656, grad=0.0000)], [Var(v=0.0668, grad=0.0000)], [Var(v=0.1504, grad=0.0000)], [Var(v=-0.0247, grad=0.0000)], [Var(v=0.0613, grad=0.0000)], [Var(v=-0.0799, grad=0.0000)], [Var(v=0.0186, grad=0.0000)], [Var(v=-0.0604, grad=0.0000)], [Var(v=-0.0606, grad=0.0000)], [Var(v=-0.1152, grad=0.0000)], [Var(v=0.0426, grad=0.0000)], [Var(v=0.0592, grad=0.0000)], [Var(v=0.1549, grad=0.0000)], [Var(v=0.1466, grad=0.0000)], [Var(v=0.0747, grad=0.0000)], [Var(v=0.0986, grad=0.0000)], [Var(v=-0.0659, grad=0.0000)], [Var(v=-0.0646, grad=0.0000)], [Var(v=-0.1311, grad=0.0000)], [Var(v=0.0183, grad=0.0000)], [Var(v=0.0887, grad=0.0000)], [Var(v=0.1163, grad=0.0000)], [Var(v=0.0923, grad=0.0000)], [Var(v=0.0458, grad=0.0000)], [Var(v=0.0365, grad=0.0000)], [Var(v=-0.1031, grad=0.0000)], [Var(v=0.0223, grad=0.0000)], [Var(v=0.0087, grad=0.0000)], [Var(v=0.0649, grad=0.0000)], [Var(v=0.1121, grad=0.0000)], [Var(v=-0.0044, grad=0.0000)], [Var(v=-0.1131, grad=0.0000)], [Var(v=0.0773, grad=0.0000)], [Var(v=-0.2217, grad=0.0000)], [Var(v=-0.0343, grad=0.0000)], [Var(v=-0.0248, grad=0.0000)], [Var(v=-0.1034, grad=0.0000)], [Var(v=-0.0407, grad=0.0000)], [Var(v=0.0410, grad=0.0000)], [Var(v=0.0134, grad=0.0000)], [Var(v=-0.0993, grad=0.0000)], [Var(v=0.0235, grad=0.0000)], [Var(v=0.0458, grad=0.0000)], [Var(v=-0.0040, grad=0.0000)], [Var(v=-0.0944, grad=0.0000)], [Var(v=0.0315, grad=0.0000)], [Var(v=0.0774, grad=0.0000)]] Biases: [Var(v=0.0092, grad=0.0000)]\n"
     ]
    },
    {
     "data": {
      "text/plain": [
       "[None, None, None]"
      ]
     },
     "execution_count": 369,
     "metadata": {},
     "output_type": "execute_result"
    }
   ],
   "source": [
    "print('Network before update:')\n",
    "[print('Layer', i, '\\n', NN[i]) for i in range(len(NN))] \n",
    "\n",
    "def parameters(network):\n",
    "  params = []\n",
    "  for layer in range(len(network)):\n",
    "    params += network[layer].parameters()\n",
    "  return params\n",
    "\n",
    "def update_parameters(params, learning_rate=0.01):\n",
    "  for p in params:\n",
    "    p.v -= learning_rate*p.grad\n",
    "\n",
    "def zero_gradients(params):\n",
    "  for p in params:\n",
    "    p.grad = 0.0\n",
    "\n",
    "update_parameters(parameters(NN))\n",
    "\n",
    "print('\\nNetwork after update:')\n",
    "[print('Layer', i, '\\n', NN[i]) for i in range(len(NN))] \n",
    "\n",
    "zero_gradients(parameters(NN))\n",
    "\n",
    "print('\\nNetwork after zeroing gradients:')\n",
    "[print('Layer', i, '\\n', NN[i]) for i in range(len(NN))] "
   ]
  },
  {
   "cell_type": "code",
   "execution_count": 370,
   "metadata": {
    "id": "woWYpdw6FtIO"
   },
   "outputs": [],
   "source": [
    "# Initialize an arbitrary neural network\n",
    "NN = [\n",
    "    DenseLayer(1, 8, lambda x: x.relu()),\n",
    "    DenseLayer(8, 1, lambda x: x.identity())\n",
    "]\n",
    "\n",
    "# Recommended hyper-parameters for 3-D: \n",
    "#NN = [\n",
    "#    DenseLayer(3, 16, lambda x: x.relu()),\n",
    "#    DenseLayer(16, 1, lambda x: x.identity())\n",
    "#]\n",
    "\n",
    "\n",
    "### Notice that, when we switch from tanh to relu activation, we decrease the learning rate. This is due the stability of the gradients \n",
    "## of the activation functions."
   ]
  },
  {
   "cell_type": "code",
   "execution_count": 371,
   "metadata": {
    "id": "mdqaqYBVFtIR"
   },
   "outputs": [],
   "source": [
    "# Initialize training hyperparameters\n",
    "EPOCHS = 200\n",
    "LEARN_R = 2e-3 "
   ]
  },
  {
   "cell_type": "code",
   "execution_count": 372,
   "metadata": {
    "colab": {
     "base_uri": "https://localhost:8080/"
    },
    "id": "5kfg76GMFtIW",
    "outputId": "e30cf68a-31f2-42b4-cc5e-860c297c0f04",
    "scrolled": true
   },
   "outputs": [
    {
     "name": "stdout",
     "output_type": "stream",
     "text": [
      "   0 ( 0.00%) Train loss: 100.696 \t Validation loss: 98.556\n",
      "  10 ( 5.00%) Train loss: 15.288 \t Validation loss: 11.658\n",
      "  20 (10.00%) Train loss: 13.733 \t Validation loss: 10.417\n",
      "  30 (15.00%) Train loss: 13.241 \t Validation loss: 9.992\n",
      "  40 (20.00%) Train loss: 12.872 \t Validation loss: 9.665\n",
      "  50 (25.00%) Train loss: 12.633 \t Validation loss: 9.410\n",
      "  60 (30.00%) Train loss: 12.427 \t Validation loss: 9.213\n",
      "  70 (35.00%) Train loss: 12.263 \t Validation loss: 9.051\n",
      "  80 (40.00%) Train loss: 12.102 \t Validation loss: 8.961\n",
      "  90 (45.00%) Train loss: 12.012 \t Validation loss: 8.885\n",
      " 100 (50.00%) Train loss: 11.963 \t Validation loss: 8.867\n",
      " 110 (55.00%) Train loss: 11.934 \t Validation loss: 8.874\n",
      " 120 (60.00%) Train loss: 11.917 \t Validation loss: 8.886\n",
      " 130 (65.00%) Train loss: 11.908 \t Validation loss: 8.901\n",
      " 140 (70.00%) Train loss: 11.902 \t Validation loss: 8.918\n",
      " 150 (75.00%) Train loss: 11.899 \t Validation loss: 8.932\n",
      " 160 (80.00%) Train loss: 11.897 \t Validation loss: 8.941\n",
      " 170 (85.00%) Train loss: 11.896 \t Validation loss: 8.949\n",
      " 180 (90.00%) Train loss: 11.895 \t Validation loss: 8.955\n",
      " 190 (95.00%) Train loss: 11.894 \t Validation loss: 8.961\n"
     ]
    }
   ],
   "source": [
    "train_loss = []\n",
    "val_loss = []\n",
    "\n",
    "for e in range(EPOCHS):\n",
    "     \n",
    "    # Forward pass and loss computation\n",
    "    Loss = squared_loss(y_train, forward(x_train, NN))\n",
    "\n",
    "    # Backward pass\n",
    "    Loss.backward()\n",
    "    \n",
    "    # gradient descent update\n",
    "    update_parameters(parameters(NN), LEARN_R)\n",
    "    zero_gradients(parameters(NN))\n",
    "    \n",
    "    # Training loss\n",
    "    train_loss.append(Loss.v)\n",
    "    \n",
    "    # Validation\n",
    "    Loss_validation = squared_loss(y_validation, forward(x_validation, NN))\n",
    "    val_loss.append(Loss_validation.v)\n",
    "    \n",
    "    if e%10==0:\n",
    "        print(\"{:4d}\".format(e),\n",
    "              \"({:5.2f}%)\".format(e/EPOCHS*100), \n",
    "              \"Train loss: {:4.3f} \\t Validation loss: {:4.3f}\".format(train_loss[-1], val_loss[-1]))\n",
    "        \n"
   ]
  },
  {
   "cell_type": "code",
   "execution_count": 373,
   "metadata": {
    "colab": {
     "base_uri": "https://localhost:8080/",
     "height": 265
    },
    "id": "VetyRWFwFtIY",
    "outputId": "344e490d-6d7d-455a-fa6f-88dd11eb957e"
   },
   "outputs": [
    {
     "data": {
      "image/png": "[encoded data removed]",
      "text/plain": [
       "<Figure size 640x480 with 1 Axes>"
      ]
     },
     "metadata": {},
     "output_type": "display_data"
    }
   ],
   "source": [
    "plt.plot(range(len(train_loss)), train_loss);\n",
    "plt.plot(range(len(val_loss)), val_loss);"
   ]
  },
  {
   "cell_type": "markdown",
   "metadata": {
    "id": "8OgmIrM9FtIb"
   },
   "source": [
    "# Testing\n",
    "\n",
    "We have kept the calculation of the test error separate in order to emphasize that you should not use the test set in optimization."
   ]
  },
  {
   "cell_type": "code",
   "execution_count": 374,
   "metadata": {
    "id": "HmNi7S-vFtIc"
   },
   "outputs": [],
   "source": [
    "output_test = forward(x_test, NN)"
   ]
  },
  {
   "cell_type": "code",
   "execution_count": 375,
   "metadata": {
    "colab": {
     "base_uri": "https://localhost:8080/",
     "height": 316
    },
    "id": "7mmJOTSEFtIf",
    "outputId": "e3264095-cefe-4aee-893d-bf152438e332"
   },
   "outputs": [
    {
     "name": "stderr",
     "output_type": "stream",
     "text": [
      "<>:5: SyntaxWarning: invalid escape sequence '\\h'\n",
      "<>:5: SyntaxWarning: invalid escape sequence '\\h'\n",
      "C:\\Users\\Rasmu\\AppData\\Local\\Temp\\ipykernel_13544\\1194488628.py:5: SyntaxWarning: invalid escape sequence '\\h'\n",
      "  plt.ylabel(\"$\\hat{y}$\");\n"
     ]
    },
    {
     "name": "stdout",
     "output_type": "stream",
     "text": [
      "Test loss:  9.787\n"
     ]
    },
    {
     "data": {
      "image/png": "[encoded data removed]",
      "text/plain": [
       "<Figure size 640x480 with 1 Axes>"
      ]
     },
     "metadata": {},
     "output_type": "display_data"
    }
   ],
   "source": [
    "y_test_np = Var_to_nparray(y_test)\n",
    "plt.scatter(y_test_np, Var_to_nparray(output_test));\n",
    "plt.plot([np.min(y_test_np), np.max(y_test_np)], [np.min(y_test_np), np.max(y_test_np)], color='k');\n",
    "plt.xlabel(\"y\");\n",
    "plt.ylabel(\"$\\hat{y}$\");\n",
    "plt.title(\"Model prediction vs real in the test set, the close to the line the better\")\n",
    "plt.grid(True);\n",
    "plt.axis('equal');\n",
    "plt.tight_layout();\n",
    "\n",
    "Loss_test = squared_loss(y_test, forward(x_test, NN))\n",
    "\n",
    "print(\"Test loss:  {:4.3f}\".format(Loss_test.v))"
   ]
  },
  {
   "cell_type": "code",
   "execution_count": 376,
   "metadata": {
    "colab": {
     "base_uri": "https://localhost:8080/",
     "height": 279
    },
    "id": "ODi0WlmQFtIh",
    "outputId": "d1ab874f-0717-4987-87bf-1f0c7c8e7148"
   },
   "outputs": [
    {
     "data": {
      "image/png": "[encoded data removed]",
      "text/plain": [
       "<Figure size 640x480 with 1 Axes>"
      ]
     },
     "metadata": {},
     "output_type": "display_data"
    }
   ],
   "source": [
    "x_test_np = Var_to_nparray(x_test)\n",
    "x_train_np = Var_to_nparray(x_train)\n",
    "y_train_np = Var_to_nparray(y_train)\n",
    "if D1:\n",
    "    plt.scatter(x_train_np, y_train_np, label=\"train data\");\n",
    "    plt.scatter(x_test_np, Var_to_nparray(output_test), label=\"test prediction\");\n",
    "    plt.scatter(x_test_np, y_test_np, label=\"test data\");\n",
    "    plt.legend();\n",
    "    plt.xlabel(\"x\");\n",
    "    plt.ylabel(\"y\");\n",
    "else:\n",
    "    plt.scatter(x_train_np[:,1], y_train, label=\"train data\");\n",
    "    plt.scatter(x_test_np[:,1], Var_to_nparray(output_test), label=\"test data prediction\");\n",
    "    plt.scatter(x_test_np[:,1], y_test_np, label=\"test data\");\n",
    "    plt.legend();\n",
    "    plt.xlabel(\"x\");\n",
    "    plt.ylabel(\"y\");"
   ]
  },
  {
   "cell_type": "markdown",
   "metadata": {
    "id": "zTBAmjsAFtIk"
   },
   "source": [
    "## Exercise l) Show overfitting, underfitting and just right fitting\n",
    "\n",
    "Vary the architecture and other things to show clear signs of overfitting (=training loss significantly lower than test loss) and underfitting (=not fitting enoung to training data so that test performance is also hurt).\n",
    "\n",
    "See also if you can get a good compromise which leads to a low validation loss. \n",
    "\n",
    "For this problem do you see any big difference between validation and test loss? The answer here will probably be no. Discuss cases where it is important to keep the two separate.\n",
    "\n",
    "_Insert written answer here._\n"
   ]
  },
  {
   "cell_type": "code",
   "execution_count": 381,
   "metadata": {
    "id": "tQZCn2dxFtIl"
   },
   "outputs": [
    {
     "name": "stdout",
     "output_type": "stream",
     "text": [
      "\n",
      "Testing Overfitting Scenario:\n",
      "   0 ( 0.00%) Train loss: 107.454 \t Validation loss: 55.954\n"
     ]
    },
    {
     "ename": "KeyboardInterrupt",
     "evalue": "",
     "output_type": "error",
     "traceback": [
      "\u001b[1;31m---------------------------------------------------------------------------\u001b[0m",
      "\u001b[1;31mKeyboardInterrupt\u001b[0m                         Traceback (most recent call last)",
      "Cell \u001b[1;32mIn[381], line 41\u001b[0m\n\u001b[0;32m     34\u001b[0m NN_overfit \u001b[38;5;241m=\u001b[39m [\n\u001b[0;32m     35\u001b[0m     DenseLayer(\u001b[38;5;241m1\u001b[39m, \u001b[38;5;241m50\u001b[39m, \u001b[38;5;28;01mlambda\u001b[39;00m x: x\u001b[38;5;241m.\u001b[39mrelu()),\n\u001b[0;32m     36\u001b[0m     DenseLayer(\u001b[38;5;241m50\u001b[39m, \u001b[38;5;241m100\u001b[39m, \u001b[38;5;28;01mlambda\u001b[39;00m x: x\u001b[38;5;241m.\u001b[39mrelu()),\n\u001b[0;32m     37\u001b[0m     DenseLayer(\u001b[38;5;241m100\u001b[39m, \u001b[38;5;241m1\u001b[39m, \u001b[38;5;28;01mlambda\u001b[39;00m x: x\u001b[38;5;241m.\u001b[39midentity())\n\u001b[0;32m     38\u001b[0m ]\n\u001b[0;32m     40\u001b[0m \u001b[38;5;28mprint\u001b[39m(\u001b[38;5;124m\"\u001b[39m\u001b[38;5;130;01m\\n\u001b[39;00m\u001b[38;5;124mTesting Overfitting Scenario:\u001b[39m\u001b[38;5;124m\"\u001b[39m)\n\u001b[1;32m---> 41\u001b[0m train_loss_overfit, val_loss_overfit \u001b[38;5;241m=\u001b[39m \u001b[43mtrain_network\u001b[49m\u001b[43m(\u001b[49m\u001b[43mNN_overfit\u001b[49m\u001b[43m,\u001b[49m\u001b[43m \u001b[49m\u001b[43mx_train\u001b[49m\u001b[43m,\u001b[49m\u001b[43m \u001b[49m\u001b[43my_train\u001b[49m\u001b[43m,\u001b[49m\u001b[43m \u001b[49m\u001b[43mx_validation\u001b[49m\u001b[43m,\u001b[49m\u001b[43m \u001b[49m\u001b[43my_validation\u001b[49m\u001b[43m,\u001b[49m\u001b[43m \u001b[49m\u001b[43mepochs\u001b[49m\u001b[38;5;241;43m=\u001b[39;49m\u001b[38;5;241;43m200\u001b[39;49m\u001b[43m,\u001b[49m\u001b[43m \u001b[49m\u001b[43mlearning_rate\u001b[49m\u001b[38;5;241;43m=\u001b[39;49m\u001b[38;5;241;43m0.01\u001b[39;49m\u001b[43m)\u001b[49m\n\u001b[0;32m     43\u001b[0m \u001b[38;5;66;03m# 2. Underfitting: Simple architecture\u001b[39;00m\n\u001b[0;32m     44\u001b[0m NN_underfit \u001b[38;5;241m=\u001b[39m [\n\u001b[0;32m     45\u001b[0m     DenseLayer(\u001b[38;5;241m1\u001b[39m, \u001b[38;5;241m2\u001b[39m, \u001b[38;5;28;01mlambda\u001b[39;00m x: x\u001b[38;5;241m.\u001b[39mrelu()),\n\u001b[0;32m     46\u001b[0m     DenseLayer(\u001b[38;5;241m2\u001b[39m, \u001b[38;5;241m1\u001b[39m, \u001b[38;5;28;01mlambda\u001b[39;00m x: x\u001b[38;5;241m.\u001b[39midentity())\n\u001b[0;32m     47\u001b[0m ]\n",
      "Cell \u001b[1;32mIn[381], line 8\u001b[0m, in \u001b[0;36mtrain_network\u001b[1;34m(NN, x_train, y_train, x_validation, y_validation, epochs, learning_rate)\u001b[0m\n\u001b[0;32m      4\u001b[0m val_loss \u001b[38;5;241m=\u001b[39m []\n\u001b[0;32m      6\u001b[0m \u001b[38;5;28;01mfor\u001b[39;00m e \u001b[38;5;129;01min\u001b[39;00m \u001b[38;5;28mrange\u001b[39m(epochs):\n\u001b[0;32m      7\u001b[0m     \u001b[38;5;66;03m# Forward pass and loss computation\u001b[39;00m\n\u001b[1;32m----> 8\u001b[0m     Loss \u001b[38;5;241m=\u001b[39m squared_loss(y_train, \u001b[43mforward\u001b[49m\u001b[43m(\u001b[49m\u001b[43mx_train\u001b[49m\u001b[43m,\u001b[49m\u001b[43m \u001b[49m\u001b[43mNN\u001b[49m\u001b[43m)\u001b[49m)\n\u001b[0;32m     10\u001b[0m     \u001b[38;5;66;03m# Backward pass\u001b[39;00m\n\u001b[0;32m     11\u001b[0m     Loss\u001b[38;5;241m.\u001b[39mbackward()\n",
      "Cell \u001b[1;32mIn[352], line 13\u001b[0m, in \u001b[0;36mforward\u001b[1;34m(input, network)\u001b[0m\n\u001b[0;32m     10\u001b[0m       x \u001b[38;5;241m=\u001b[39m layer\u001b[38;5;241m.\u001b[39mforward(x)\n\u001b[0;32m     11\u001b[0m   \u001b[38;5;28;01mreturn\u001b[39;00m x\n\u001b[1;32m---> 13\u001b[0m output \u001b[38;5;241m=\u001b[39m [ \u001b[43mforward_single\u001b[49m\u001b[43m(\u001b[49m\u001b[38;5;28;43minput\u001b[39;49m\u001b[43m[\u001b[49m\u001b[43mn\u001b[49m\u001b[43m]\u001b[49m\u001b[43m,\u001b[49m\u001b[43m \u001b[49m\u001b[43mnetwork\u001b[49m\u001b[43m)\u001b[49m \u001b[38;5;28;01mfor\u001b[39;00m n \u001b[38;5;129;01min\u001b[39;00m \u001b[38;5;28mrange\u001b[39m(\u001b[38;5;28mlen\u001b[39m(\u001b[38;5;28minput\u001b[39m))]\n\u001b[0;32m     14\u001b[0m \u001b[38;5;28;01mreturn\u001b[39;00m output\n",
      "Cell \u001b[1;32mIn[352], line 10\u001b[0m, in \u001b[0;36mforward.<locals>.forward_single\u001b[1;34m(x, network)\u001b[0m\n\u001b[0;32m      8\u001b[0m \u001b[38;5;28;01mdef\u001b[39;00m \u001b[38;5;21mforward_single\u001b[39m(x, network):\n\u001b[0;32m      9\u001b[0m   \u001b[38;5;28;01mfor\u001b[39;00m layer \u001b[38;5;129;01min\u001b[39;00m network:\n\u001b[1;32m---> 10\u001b[0m       x \u001b[38;5;241m=\u001b[39m \u001b[43mlayer\u001b[49m\u001b[38;5;241;43m.\u001b[39;49m\u001b[43mforward\u001b[49m\u001b[43m(\u001b[49m\u001b[43mx\u001b[49m\u001b[43m)\u001b[49m\n\u001b[0;32m     11\u001b[0m   \u001b[38;5;28;01mreturn\u001b[39;00m x\n",
      "Cell \u001b[1;32mIn[351], line 32\u001b[0m, in \u001b[0;36mDenseLayer.forward\u001b[1;34m(self, single_input)\u001b[0m\n\u001b[0;32m     30\u001b[0m \u001b[38;5;66;03m# We now finish the linear transformation corresponding to the parameters of the currently considered node.\u001b[39;00m\n\u001b[0;32m     31\u001b[0m \u001b[38;5;28;01mfor\u001b[39;00m i \u001b[38;5;129;01min\u001b[39;00m \u001b[38;5;28mrange\u001b[39m(\u001b[38;5;28mlen\u001b[39m(single_input)):\n\u001b[1;32m---> 32\u001b[0m     \u001b[43mnode\u001b[49m\u001b[43m \u001b[49m\u001b[38;5;241;43m+\u001b[39;49m\u001b[38;5;241;43m=\u001b[39;49m\u001b[43m \u001b[49m\u001b[43msingle_input\u001b[49m\u001b[43m[\u001b[49m\u001b[43mi\u001b[49m\u001b[43m]\u001b[49m\u001b[38;5;241;43m*\u001b[39;49m\u001b[43mweights\u001b[49m\u001b[43m[\u001b[49m\u001b[43mi\u001b[49m\u001b[43m]\u001b[49m\u001b[43m[\u001b[49m\u001b[43mj\u001b[49m\u001b[43m]\u001b[49m  \u001b[38;5;66;03m# <- Insert code\u001b[39;00m\n\u001b[0;32m     33\u001b[0m node \u001b[38;5;241m=\u001b[39m \u001b[38;5;28mself\u001b[39m\u001b[38;5;241m.\u001b[39mact_fn(node)\n\u001b[0;32m     34\u001b[0m out\u001b[38;5;241m.\u001b[39mappend(node)\n",
      "Cell \u001b[1;32mIn[363], line 26\u001b[0m, in \u001b[0;36mVar.__add__\u001b[1;34m(self, other)\u001b[0m\n\u001b[0;32m     25\u001b[0m \u001b[38;5;28;01mdef\u001b[39;00m \u001b[38;5;21m__add__\u001b[39m(\u001b[38;5;28mself\u001b[39m: \u001b[38;5;124m'\u001b[39m\u001b[38;5;124mVar\u001b[39m\u001b[38;5;124m'\u001b[39m, other: \u001b[38;5;124m'\u001b[39m\u001b[38;5;124mVar\u001b[39m\u001b[38;5;124m'\u001b[39m) \u001b[38;5;241m-\u001b[39m\u001b[38;5;241m>\u001b[39m \u001b[38;5;124m'\u001b[39m\u001b[38;5;124mVar\u001b[39m\u001b[38;5;124m'\u001b[39m:\n\u001b[1;32m---> 26\u001b[0m     \u001b[38;5;28;01mreturn\u001b[39;00m \u001b[43mVar\u001b[49m\u001b[43m(\u001b[49m\u001b[38;5;28;43mself\u001b[39;49m\u001b[38;5;241;43m.\u001b[39;49m\u001b[43mv\u001b[49m\u001b[43m \u001b[49m\u001b[38;5;241;43m+\u001b[39;49m\u001b[43m \u001b[49m\u001b[43mother\u001b[49m\u001b[38;5;241;43m.\u001b[39;49m\u001b[43mv\u001b[49m\u001b[43m,\u001b[49m\u001b[43m \u001b[49m\u001b[38;5;28;43;01mlambda\u001b[39;49;00m\u001b[43m:\u001b[49m\u001b[43m \u001b[49m\u001b[43m[\u001b[49m\u001b[43m(\u001b[49m\u001b[38;5;28;43mself\u001b[39;49m\u001b[43m,\u001b[49m\u001b[43m \u001b[49m\u001b[38;5;241;43m1.0\u001b[39;49m\u001b[43m)\u001b[49m\u001b[43m,\u001b[49m\u001b[43m \u001b[49m\u001b[43m(\u001b[49m\u001b[43mother\u001b[49m\u001b[43m,\u001b[49m\u001b[43m \u001b[49m\u001b[38;5;241;43m1.0\u001b[39;49m\u001b[43m)\u001b[49m\u001b[43m]\u001b[49m\u001b[43m)\u001b[49m\n",
      "\u001b[1;31mKeyboardInterrupt\u001b[0m: "
     ]
    }
   ],
   "source": [
    "\n",
    "def train_network(NN, x_train, y_train, x_validation, y_validation, epochs=200, learning_rate=0.002):\n",
    "    train_loss = []\n",
    "    val_loss = []\n",
    "\n",
    "    for e in range(epochs):\n",
    "        # Forward pass and loss computation\n",
    "        Loss = squared_loss(y_train, forward(x_train, NN))\n",
    "\n",
    "        # Backward pass\n",
    "        Loss.backward()\n",
    "        \n",
    "        # Gradient descent update\n",
    "        update_parameters(parameters(NN), learning_rate)\n",
    "        zero_gradients(parameters(NN))\n",
    "        \n",
    "        # Training loss\n",
    "        train_loss.append(Loss.v)\n",
    "        \n",
    "        # Validation loss\n",
    "        Loss_validation = squared_loss(y_validation, forward(x_validation, NN))\n",
    "        val_loss.append(Loss_validation.v)\n",
    "        \n",
    "        if e % 10 == 0:\n",
    "            print(\"{:4d}\".format(e),\n",
    "                  \"({:5.2f}%)\".format(e / epochs * 100), \n",
    "                  \"Train loss: {:4.3f} \\t Validation loss: {:4.3f}\".format(train_loss[-1], val_loss[-1]))\n",
    "    \n",
    "    return train_loss, val_loss\n",
    "\n",
    "\n",
    "\n",
    "#Overfitting\n",
    "NN_overfit = [\n",
    "    DenseLayer(1, 50, lambda x: x.relu()),\n",
    "    DenseLayer(50, 100, lambda x: x.relu()),\n",
    "    DenseLayer(100, 1, lambda x: x.identity())\n",
    "]\n",
    "\n",
    "print(\"\\nTesting Overfitting Scenario:\")\n",
    "train_loss_overfit, val_loss_overfit = train_network(NN_overfit, x_train, y_train, x_validation, y_validation, epochs=200, learning_rate=0.01)\n",
    "\n",
    "#Underfitting\n",
    "NN_underfit = [\n",
    "    DenseLayer(1, 2, lambda x: x.relu()),\n",
    "    DenseLayer(2, 1, lambda x: x.identity())\n",
    "]\n",
    "\n",
    "print(\"\\nTesting Underfitting Scenario:\")\n",
    "train_loss_underfit, val_loss_underfit = train_network(NN_underfit, x_train, y_train, x_validation, y_validation, epochs=200, learning_rate=0.02)\n",
    "\n",
    "#Just Right\n",
    "NN_just_right = [\n",
    "    DenseLayer(1, 10, lambda x: x.relu()),\n",
    "    DenseLayer(10, 1, lambda x: x.identity())\n",
    "]\n",
    "\n",
    "print(\"\\nTesting Just Right Scenario:\")\n",
    "train_loss_just_right, val_loss_just_right = train_network(NN_just_right, x_train, y_train, x_validation, y_validation, epochs=200, learning_rate=0.02)\n",
    "\n",
    "#Pretty sure the code is correct but it takes a long time to run so I can't be 100% sure"
   ]
  },
  {
   "cell_type": "markdown",
   "metadata": {},
   "source": []
  },
  {
   "cell_type": "markdown",
   "metadata": {
    "id": "fYPZP-eTFtIo"
   },
   "source": [
    "# Next steps - classification\n",
    "\n",
    "It is straight forward to extend what we have done to classification. \n",
    "\n",
    "For numerical stability it is better to make softmax and cross-entropy as one function so we write the cross entropy loss as a function of the logits we talked about last week. \n",
    "\n",
    "Next week we will see how to perform classification in PyTorch."
   ]
  },
  {
   "cell_type": "markdown",
   "metadata": {
    "id": "qsVPul3QFtIo"
   },
   "source": [
    "## Exercise m) optional - Implement backpropagation for classification\n",
    "\n",
    "Should be possible with very few lines of code. :-)"
   ]
  },
  {
   "cell_type": "code",
   "execution_count": null,
   "metadata": {
    "id": "oC8QrI2tFtIp"
   },
   "outputs": [],
   "source": [
    "# Just add code."
   ]
  },
  {
   "cell_type": "markdown",
   "metadata": {
    "id": "APqhJv3tta1O"
   },
   "source": [
    "## Exercise nej) optional - Introduce a NeuralNetwork class\n",
    "\n",
    "The functions we applied on the neural network (parameters, update_parameters and zero_gradients) can more naturally be included as methods in a NeuralNetwork class. Make such a class and modify the code to use it. "
   ]
  },
  {
   "cell_type": "code",
   "execution_count": null,
   "metadata": {
    "id": "Dqfnor1ouMLq"
   },
   "outputs": [],
   "source": [
    "# just add some code"
   ]
  }
 ],
 "metadata": {
  "anaconda-cloud": {},
  "colab": {
   "collapsed_sections": [
    "U4057_ljNvWB",
    "p_8n_SKnIW2F",
    "oLrGJytZFtGm",
    "jpIZPBpNI0pO",
    "_79HOAXrFtHK",
    "mqeyab9qFtGs",
    "-XyXBD37FtHk",
    "SrwSJ2UWFtHu",
    "zTBAmjsAFtIk",
    "qsVPul3QFtIo",
    "APqhJv3tta1O"
   ],
   "name": "2.1-EXE-FNN-AutoDif-Nanograd.ipynb",
   "provenance": []
  },
  "kernelspec": {
   "display_name": "Python 3",
   "language": "python",
   "name": "python3"
  },
  "language_info": {
   "codemirror_mode": {
    "name": "ipython",
    "version": 3
   },
   "file_extension": ".py",
   "mimetype": "text/x-python",
   "name": "python",
   "nbconvert_exporter": "python",
   "pygments_lexer": "ipython3",
   "version": "3.12.3"
  }
 },
 "nbformat": 4,
 "nbformat_minor": 1
}
